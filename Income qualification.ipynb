{
 "cells": [
  {
   "cell_type": "markdown",
   "id": "ebfd3148",
   "metadata": {},
   "source": [
    "# DESCRIPTION\n",
    "\n",
    "Identify the level of income qualification needed for the families in Latin America.\n",
    "\n",
    "# Problem Statement Scenario:\n",
    "Many social programs have a hard time ensuring that the right people are given enough aid. It’s tricky when a program focuses on the poorest segment of the population. This segment of the population can’t provide the necessary income and expense records to prove that they qualify.\n",
    "\n",
    "In Latin America, a popular method called Proxy Means Test (PMT) uses an algorithm to verify income qualification. With PMT, agencies use a model that considers a family’s observable household attributes like the material of their walls and ceiling or the assets found in their homes to\n",
    "classify them and predict their level of need.\n",
    "\n",
    "While this is an improvement, accuracy remains a problem as the region’s population grows and poverty declines.\n",
    "\n",
    "The Inter-American Development Bank (IDB)believes that new methods beyond traditional econometrics, based on a dataset of Costa Rican household characteristics, might help improve PMT’s performance.\n",
    "Following actions should be performed:\n",
    "\n",
    "Identify the output variable.\n",
    "Understand the type of data.\n",
    "Check if there are any biases in your dataset.\n",
    "Check whether all members of the house have the same poverty level.\n",
    "Check if there is a house without a family head.\n",
    "Set poverty level of the members and the head of the house within a family.\n",
    "Count how many null values are existing in columns.\n",
    "Remove null value rows of the target variable.\n",
    "Predict the accuracy using random forest classifier.\n",
    "Check the accuracy using random forest with cross validation.\n"
   ]
  },
  {
   "cell_type": "code",
   "execution_count": 67,
   "id": "ae9cb955",
   "metadata": {},
   "outputs": [],
   "source": [
    "import pandas as pd\n",
    "import numpy as np\n",
    "import matplotlib.pyplot as plt\n",
    "import seaborn as sns\n",
    "\n",
    "%matplotlib inline\n",
    "import warnings\n",
    "warnings.filterwarnings('ignore')\n",
    "\n",
    "from sklearn.model_selection import train_test_split\n",
    "from sklearn.ensemble import RandomForestClassifier\n",
    "from sklearn.preprocessing import StandardScaler\n",
    "from sklearn import model_selection\n",
    "from sklearn.model_selection import GridSearchCV\n",
    "from sklearn import metrics"
   ]
  },
  {
   "cell_type": "code",
   "execution_count": 68,
   "id": "a4c3546c",
   "metadata": {},
   "outputs": [],
   "source": [
    "train = pd.read_csv(r'C:\\Users\\SAIRAM\\Desktop\\Simplilearn_Practice\\Machine Learning\\Project\\train.csv')"
   ]
  },
  {
   "cell_type": "markdown",
   "id": "c0655719",
   "metadata": {},
   "source": [
    "### Identify the output variable"
   ]
  },
  {
   "cell_type": "code",
   "execution_count": 69,
   "id": "d78d2d50",
   "metadata": {},
   "outputs": [
    {
     "name": "stdout",
     "output_type": "stream",
     "text": [
      "Output/Target variable is Target\n"
     ]
    }
   ],
   "source": [
    "for c in train.columns:\n",
    "    if c not in test.columns:\n",
    "        print('Output/Target variable is {}'.format(c))"
   ]
  },
  {
   "cell_type": "markdown",
   "id": "aa8384ce",
   "metadata": {},
   "source": [
    "### Understand the type of data"
   ]
  },
  {
   "cell_type": "code",
   "execution_count": 70,
   "id": "75a51451",
   "metadata": {},
   "outputs": [
    {
     "name": "stdout",
     "output_type": "stream",
     "text": [
      "shape of train dataset is (9557, 143)\n",
      "shape of test dataset is  (23856, 142)\n"
     ]
    }
   ],
   "source": [
    "print('shape of train dataset is {}'.format(train.shape))\n",
    "print('shape of test dataset is  {}'.format(test.shape))"
   ]
  },
  {
   "cell_type": "markdown",
   "id": "38623a30",
   "metadata": {},
   "source": [
    "<b> Test data is more than train data :)"
   ]
  },
  {
   "cell_type": "code",
   "execution_count": 71,
   "id": "dd8304c3",
   "metadata": {},
   "outputs": [
    {
     "name": "stdout",
     "output_type": "stream",
     "text": [
      "<class 'pandas.core.frame.DataFrame'>\n",
      "RangeIndex: 9557 entries, 0 to 9556\n",
      "Columns: 143 entries, Id to Target\n",
      "dtypes: float64(8), int64(130), object(5)\n",
      "memory usage: 10.4+ MB\n"
     ]
    }
   ],
   "source": [
    "train.info()"
   ]
  },
  {
   "cell_type": "code",
   "execution_count": 72,
   "id": "f93bc919",
   "metadata": {},
   "outputs": [
    {
     "data": {
      "text/plain": [
       "Index(['Id', 'idhogar', 'dependency', 'edjefe', 'edjefa'], dtype='object')"
      ]
     },
     "execution_count": 72,
     "metadata": {},
     "output_type": "execute_result"
    }
   ],
   "source": [
    "#Object type variables available\n",
    "train.select_dtypes('object').columns"
   ]
  },
  {
   "cell_type": "code",
   "execution_count": 73,
   "id": "0700f53f",
   "metadata": {},
   "outputs": [
    {
     "data": {
      "text/plain": [
       "Index(['v2a1', 'v18q1', 'rez_esc', 'meaneduc', 'overcrowding',\n",
       "       'SQBovercrowding', 'SQBdependency', 'SQBmeaned'],\n",
       "      dtype='object')"
      ]
     },
     "execution_count": 73,
     "metadata": {},
     "output_type": "execute_result"
    }
   ],
   "source": [
    "#float64 type variables available\n",
    "train.select_dtypes('float64').columns"
   ]
  },
  {
   "cell_type": "markdown",
   "id": "b9fe6835",
   "metadata": {},
   "source": [
    "### Count how many null values are existing in columns "
   ]
  },
  {
   "cell_type": "code",
   "execution_count": 74,
   "id": "2a018ade",
   "metadata": {},
   "outputs": [],
   "source": [
    "missing_perc = train.isnull().mean()\n",
    "cols_to_ignore = []\n",
    "cols_to_ignore = list(missing_perc[missing_perc > 0.3].index)"
   ]
  },
  {
   "cell_type": "markdown",
   "id": "638ab572",
   "metadata": {},
   "source": [
    "#### Features v2a1: Monthly rent payment, v18q1: number of tablets household owns &  rez_esc: Years behind in school are having more 70% of missing values "
   ]
  },
  {
   "cell_type": "code",
   "execution_count": 75,
   "id": "58d5c4ea",
   "metadata": {},
   "outputs": [
    {
     "data": {
      "text/plain": [
       "['v2a1', 'v18q1', 'rez_esc', 'Id']"
      ]
     },
     "execution_count": 75,
     "metadata": {},
     "output_type": "execute_result"
    }
   ],
   "source": [
    "cols_to_ignore\n",
    "#add the ID column also as we can get rid of the same\n",
    "cols_to_ignore.append('Id')\n",
    "cols_to_ignore"
   ]
  },
  {
   "cell_type": "code",
   "execution_count": 76,
   "id": "e664cf6d",
   "metadata": {},
   "outputs": [
    {
     "name": "stdout",
     "output_type": "stream",
     "text": [
      "shape before dropping is (9557, 143)\n",
      "shape after  dropping is (9557, 143)\n"
     ]
    }
   ],
   "source": [
    "print('shape before dropping is {}'.format(train.shape))\n",
    "#train = train.drop(cols_to_ignore, axis=1)\n",
    "print('shape after  dropping is {}'.format(train.shape))"
   ]
  },
  {
   "cell_type": "code",
   "execution_count": 77,
   "id": "c325c0b2",
   "metadata": {},
   "outputs": [
    {
     "data": {
      "text/plain": [
       "v2a1         0.717798\n",
       "v18q1        0.768233\n",
       "rez_esc      0.829549\n",
       "meaneduc     0.000523\n",
       "SQBmeaned    0.000523\n",
       "dtype: float64"
      ]
     },
     "execution_count": 77,
     "metadata": {},
     "output_type": "execute_result"
    }
   ],
   "source": [
    "missing_perc1 = train.isnull().mean()\n",
    "missing_perc1[missing_perc1 > 0]"
   ]
  },
  {
   "cell_type": "code",
   "execution_count": 78,
   "id": "5e88297a",
   "metadata": {},
   "outputs": [],
   "source": [
    "train['meaneduc'] = train['meaneduc'].fillna(train['meaneduc'].mean())\n",
    "train['SQBmeaned'] = train['SQBmeaned'].fillna(train['SQBmeaned'].mean())"
   ]
  },
  {
   "cell_type": "code",
   "execution_count": 79,
   "id": "a3055c20",
   "metadata": {},
   "outputs": [
    {
     "data": {
      "text/plain": [
       "v2a1       0.717798\n",
       "v18q1      0.768233\n",
       "rez_esc    0.829549\n",
       "dtype: float64"
      ]
     },
     "execution_count": 79,
     "metadata": {},
     "output_type": "execute_result"
    }
   ],
   "source": [
    "missing_perc2 = train.isnull().mean()\n",
    "missing_perc2[missing_perc2 > 0]"
   ]
  },
  {
   "cell_type": "markdown",
   "id": "eef41d34",
   "metadata": {},
   "source": [
    "#### No null values in train dataset"
   ]
  },
  {
   "cell_type": "markdown",
   "id": "4b4379f3",
   "metadata": {},
   "source": [
    "### Remove null value rows of the target variable"
   ]
  },
  {
   "cell_type": "code",
   "execution_count": 80,
   "id": "fca72f92",
   "metadata": {},
   "outputs": [
    {
     "data": {
      "text/plain": [
       "0"
      ]
     },
     "execution_count": 80,
     "metadata": {},
     "output_type": "execute_result"
    }
   ],
   "source": [
    "train['Target'].isnull().sum()"
   ]
  },
  {
   "cell_type": "markdown",
   "id": "91629982",
   "metadata": {},
   "source": [
    "##### No null values in the feature Target"
   ]
  },
  {
   "cell_type": "code",
   "execution_count": 81,
   "id": "9724d490",
   "metadata": {},
   "outputs": [
    {
     "name": "stdout",
     "output_type": "stream",
     "text": [
      "int64      130\n",
      "float64      8\n",
      "object       5\n",
      "dtype: int64\n"
     ]
    }
   ],
   "source": [
    "print(train.dtypes.value_counts())"
   ]
  },
  {
   "cell_type": "code",
   "execution_count": 82,
   "id": "2b511e67",
   "metadata": {},
   "outputs": [
    {
     "data": {
      "text/plain": [
       "Index(['Id', 'idhogar', 'dependency', 'edjefe', 'edjefa'], dtype='object')"
      ]
     },
     "execution_count": 82,
     "metadata": {},
     "output_type": "execute_result"
    }
   ],
   "source": [
    "train.select_dtypes('object').columns"
   ]
  },
  {
   "cell_type": "code",
   "execution_count": 83,
   "id": "5b2984e5",
   "metadata": {},
   "outputs": [
    {
     "data": {
      "text/plain": [
       "['v2a1', 'v18q1', 'rez_esc', 'Id', 'idhogar']"
      ]
     },
     "execution_count": 83,
     "metadata": {},
     "output_type": "execute_result"
    }
   ],
   "source": [
    "#idhogar - Household level identifier\n",
    "#print(train['idhogar'].nunique())\n",
    "#print(train['idhogar'].value_counts())\n",
    "\n",
    "# since there are 2988 unique values, we cannot encode them - Better to drop this feature\n",
    "#train = train.drop('idhogar', axis=1)\n",
    "cols_to_ignore.append('idhogar')\n",
    "cols_to_ignore"
   ]
  },
  {
   "cell_type": "code",
   "execution_count": 84,
   "id": "1533b760",
   "metadata": {},
   "outputs": [
    {
     "name": "stdout",
     "output_type": "stream",
     "text": [
      "31\n",
      "yes          2192\n",
      "no           1747\n",
      ".5           1497\n",
      "2             730\n",
      "1.5           713\n",
      ".33333334     598\n",
      ".66666669     487\n",
      "8             378\n",
      ".25           260\n",
      "3             236\n",
      "4             100\n",
      ".75            98\n",
      ".2             90\n",
      ".40000001      84\n",
      "1.3333334      84\n",
      "2.5            77\n",
      "5              24\n",
      "1.25           18\n",
      "3.5            18\n",
      ".80000001      18\n",
      "2.25           13\n",
      ".71428573      12\n",
      "1.75           11\n",
      ".22222222      11\n",
      ".83333331      11\n",
      "1.2            11\n",
      ".2857143        9\n",
      ".60000002       8\n",
      "1.6666666       8\n",
      "6               7\n",
      ".16666667       7\n",
      "Name: dependency, dtype: int64\n"
     ]
    }
   ],
   "source": [
    "#dependency\n",
    "print(train['dependency'].nunique())\n",
    "print(train['dependency'].value_counts())\n",
    "\n",
    "#There are strings 'yes' & 'no' in the dependency field..need to replace them with 1 or 0"
   ]
  },
  {
   "cell_type": "code",
   "execution_count": 85,
   "id": "c9a91a14",
   "metadata": {},
   "outputs": [],
   "source": [
    "def fill_missing(val):\n",
    "    if val == 'yes':\n",
    "        return(float(1))\n",
    "    elif val == 'no':\n",
    "        return(float(0))\n",
    "    else:\n",
    "        return(float(val))\n",
    "    "
   ]
  },
  {
   "cell_type": "code",
   "execution_count": 86,
   "id": "81bac687",
   "metadata": {},
   "outputs": [
    {
     "data": {
      "text/plain": [
       "1.000000    2192\n",
       "0.000000    1747\n",
       "0.500000    1497\n",
       "2.000000     730\n",
       "1.500000     713\n",
       "0.333333     598\n",
       "0.666667     487\n",
       "8.000000     378\n",
       "0.250000     260\n",
       "3.000000     236\n",
       "4.000000     100\n",
       "0.750000      98\n",
       "0.200000      90\n",
       "0.400000      84\n",
       "1.333333      84\n",
       "2.500000      77\n",
       "5.000000      24\n",
       "3.500000      18\n",
       "0.800000      18\n",
       "1.250000      18\n",
       "2.250000      13\n",
       "0.714286      12\n",
       "1.200000      11\n",
       "0.833333      11\n",
       "0.222222      11\n",
       "1.750000      11\n",
       "0.285714       9\n",
       "0.600000       8\n",
       "1.666667       8\n",
       "6.000000       7\n",
       "0.166667       7\n",
       "Name: dependency, dtype: int64"
      ]
     },
     "execution_count": 86,
     "metadata": {},
     "output_type": "execute_result"
    }
   ],
   "source": [
    "train['dependency'] = train['dependency'].apply(fill_missing)\n",
    "train['dependency'].value_counts()"
   ]
  },
  {
   "cell_type": "code",
   "execution_count": 87,
   "id": "d26ca9bb",
   "metadata": {},
   "outputs": [
    {
     "data": {
      "text/plain": [
       "dtype('float64')"
      ]
     },
     "execution_count": 87,
     "metadata": {},
     "output_type": "execute_result"
    }
   ],
   "source": [
    "train['dependency'].dtype"
   ]
  },
  {
   "cell_type": "code",
   "execution_count": 88,
   "id": "cc40dfc9",
   "metadata": {},
   "outputs": [
    {
     "name": "stdout",
     "output_type": "stream",
     "text": [
      "22\n",
      "object no     6230\n",
      "6       947\n",
      "11      399\n",
      "9       237\n",
      "8       217\n",
      "15      188\n",
      "7       179\n",
      "5       176\n",
      "3       152\n",
      "4       136\n",
      "14      120\n",
      "16      113\n",
      "10       96\n",
      "2        84\n",
      "17       76\n",
      "12       72\n",
      "yes      69\n",
      "13       52\n",
      "21        5\n",
      "19        4\n",
      "18        3\n",
      "20        2\n",
      "Name: edjefa, dtype: int64\n",
      "22\n",
      "object no     6230\n",
      "6       947\n",
      "11      399\n",
      "9       237\n",
      "8       217\n",
      "15      188\n",
      "7       179\n",
      "5       176\n",
      "3       152\n",
      "4       136\n",
      "14      120\n",
      "16      113\n",
      "10       96\n",
      "2        84\n",
      "17       76\n",
      "12       72\n",
      "yes      69\n",
      "13       52\n",
      "21        5\n",
      "19        4\n",
      "18        3\n",
      "20        2\n",
      "Name: edjefa, dtype: int64\n"
     ]
    }
   ],
   "source": [
    "#edjefe: years of education of male head of household, based on the interaction of\n",
    "#escolari (years of education), head of household and gender, yes=1 and no=0\n",
    "\n",
    "print(train['edjefe'].nunique())\n",
    "print(train['edjefe'].dtype, train['edjefa'].value_counts())\n",
    "train['edjefe'] = train['edjefe'].apply(fill_missing)\n",
    "#train['edjefe'].astype('float64')\n",
    "\n",
    "#edjefa: years of education of female head of household, based on the interaction of\n",
    "#escolari (years of education), head of household and gender, yes=1 and no=0\n",
    "\n",
    "print(train['edjefa'].nunique())\n",
    "print(train['edjefa'].dtype, train['edjefa'].value_counts())\n",
    "train['edjefa'] = train['edjefa'].apply(fill_missing)\n",
    "#train['edjefa'].astype('float64')"
   ]
  },
  {
   "cell_type": "code",
   "execution_count": 89,
   "id": "18ac329b",
   "metadata": {},
   "outputs": [
    {
     "name": "stdout",
     "output_type": "stream",
     "text": [
      "<class 'pandas.core.frame.DataFrame'>\n",
      "RangeIndex: 9557 entries, 0 to 9556\n",
      "Columns: 143 entries, Id to Target\n",
      "dtypes: float64(11), int64(130), object(2)\n",
      "memory usage: 10.4+ MB\n"
     ]
    }
   ],
   "source": [
    "train.info()"
   ]
  },
  {
   "cell_type": "markdown",
   "id": "f4626068",
   "metadata": {},
   "source": [
    "##### Now all features have numerical values only"
   ]
  },
  {
   "cell_type": "code",
   "execution_count": 90,
   "id": "94607cb2",
   "metadata": {},
   "outputs": [
    {
     "data": {
      "text/html": [
       "<div>\n",
       "<style scoped>\n",
       "    .dataframe tbody tr th:only-of-type {\n",
       "        vertical-align: middle;\n",
       "    }\n",
       "\n",
       "    .dataframe tbody tr th {\n",
       "        vertical-align: top;\n",
       "    }\n",
       "\n",
       "    .dataframe thead th {\n",
       "        text-align: right;\n",
       "    }\n",
       "</style>\n",
       "<table border=\"1\" class=\"dataframe\">\n",
       "  <thead>\n",
       "    <tr style=\"text-align: right;\">\n",
       "      <th></th>\n",
       "      <th>Variance</th>\n",
       "    </tr>\n",
       "  </thead>\n",
       "  <tbody>\n",
       "    <tr>\n",
       "      <th>elimbasu5</th>\n",
       "      <td>0.0</td>\n",
       "    </tr>\n",
       "  </tbody>\n",
       "</table>\n",
       "</div>"
      ],
      "text/plain": [
       "           Variance\n",
       "elimbasu5       0.0"
      ]
     },
     "execution_count": 90,
     "metadata": {},
     "output_type": "execute_result"
    }
   ],
   "source": [
    "var_df = pd.DataFrame(np.var(train), columns=['Variance'])\n",
    "var_df = var_df.sort_values('Variance')\n",
    "var_df[var_df['Variance'] == 0.0]"
   ]
  },
  {
   "cell_type": "code",
   "execution_count": 91,
   "id": "0a15a2f7",
   "metadata": {},
   "outputs": [],
   "source": [
    "## feature elimbasu5 is having 0 variance - no explainability\n",
    "# elimbasu5 \"=1 if rubbish disposal mainly by throwing in river, creek or sea\"\n",
    "train['elimbasu5'].value_counts()\n",
    "\n",
    "# We can drop this feature as this has zero variance\n",
    "train = train.drop('elimbasu5', axis=1)"
   ]
  },
  {
   "cell_type": "code",
   "execution_count": 92,
   "id": "0b88cc28",
   "metadata": {},
   "outputs": [
    {
     "name": "stdout",
     "output_type": "stream",
     "text": [
      "shape of after dropping unwanted columns -  (9557, 142)\n"
     ]
    }
   ],
   "source": [
    "print('shape of after dropping unwanted columns - ', train.shape)"
   ]
  },
  {
   "cell_type": "markdown",
   "id": "de45391d",
   "metadata": {},
   "source": [
    "#### Check if there are any biases in your dataset."
   ]
  },
  {
   "cell_type": "code",
   "execution_count": 93,
   "id": "f35f546a",
   "metadata": {},
   "outputs": [
    {
     "data": {
      "image/png": "[encoded data removed]",
      "text/plain": [
       "<Figure size 432x288 with 1 Axes>"
      ]
     },
     "metadata": {
      "needs_background": "light"
     },
     "output_type": "display_data"
    }
   ],
   "source": [
    "sns.barplot([4,2,3,1],list(train['Target'].value_counts()))\n",
    "plt.show()"
   ]
  },
  {
   "cell_type": "markdown",
   "id": "0d3b254e",
   "metadata": {},
   "source": [
    "##### Target is the outcome variable. Dataset is biased as we have more number of observations for the target == 4"
   ]
  },
  {
   "cell_type": "markdown",
   "id": "03026cdd",
   "metadata": {},
   "source": [
    "## Check whether all members of the house have the same poverty level."
   ]
  },
  {
   "cell_type": "code",
   "execution_count": 94,
   "id": "f544c7dd",
   "metadata": {},
   "outputs": [
    {
     "data": {
      "text/plain": [
       "fd8a6d014    13\n",
       "0c7436de6    12\n",
       "ae6cf0558    12\n",
       "6b35cdcf0    11\n",
       "4476ccd4c    11\n",
       "             ..\n",
       "bc10778dc     1\n",
       "3d56274f9     1\n",
       "69a27e88d     1\n",
       "9f5fa0b28     1\n",
       "99411766c     1\n",
       "Name: idhogar, Length: 2988, dtype: int64"
      ]
     },
     "execution_count": 94,
     "metadata": {},
     "output_type": "execute_result"
    }
   ],
   "source": [
    "#idhogar -->Household level identifier --> feature to group family\n",
    "train['idhogar'].value_counts()"
   ]
  },
  {
   "cell_type": "code",
   "execution_count": 95,
   "id": "530d16c8",
   "metadata": {},
   "outputs": [
    {
     "data": {
      "text/plain": [
       "2467    1\n",
       "2468    1\n",
       "2469    1\n",
       "2470    1\n",
       "2471    1\n",
       "2472    1\n",
       "2473    1\n",
       "2474    1\n",
       "2475    1\n",
       "2476    1\n",
       "2477    1\n",
       "2478    1\n",
       "2479    1\n",
       "Name: Target, dtype: int64"
      ]
     },
     "execution_count": 95,
     "metadata": {},
     "output_type": "execute_result"
    }
   ],
   "source": [
    "train[train['idhogar'] == 'fd8a6d014']['Target']\n",
    "# for the family id: fd8a6d014, all the members have tagged to same poverty level"
   ]
  },
  {
   "cell_type": "code",
   "execution_count": 96,
   "id": "c39c115a",
   "metadata": {},
   "outputs": [
    {
     "data": {
      "text/plain": [
       "['21eb7fcc1',\n",
       " '0e5d7a658',\n",
       " '2c7317ea8',\n",
       " '2b58d945f',\n",
       " 'd6dae86b7',\n",
       " 'bb2094100',\n",
       " 'c51f9c774',\n",
       " '6893e65ca',\n",
       " 'd29058053',\n",
       " 'ec0e8edce']"
      ]
     },
     "execution_count": 96,
     "metadata": {},
     "output_type": "execute_result"
    }
   ],
   "source": [
    "unique_idhogar = list(train['idhogar'].unique())\n",
    "unique_idhogar[0:10]"
   ]
  },
  {
   "cell_type": "code",
   "execution_count": 97,
   "id": "e79da366",
   "metadata": {},
   "outputs": [
    {
     "name": "stdout",
     "output_type": "stream",
     "text": [
      "Idhogar 4b6077882 has different poverty level of [1, 2, 2]\n",
      "Idhogar 6833ac5dc has different poverty level of [2, 2, 2, 2, 2, 1]\n",
      "Idhogar 43b9c83e5 has different poverty level of [2, 2, 2, 2, 1, 2]\n",
      "Idhogar 5c3f7725d has different poverty level of [3, 3, 3, 3, 2, 2, 3]\n",
      "Idhogar 0f9494d3a has different poverty level of [2, 2, 3, 3, 3]\n",
      "Idhogar daafc1281 has different poverty level of [2, 3, 3, 3]\n",
      "Idhogar 73d85d05d has different poverty level of [2, 3]\n",
      "Idhogar bcaa2e2f5 has different poverty level of [4, 3, 4]\n",
      "Idhogar 44f219a16 has different poverty level of [3, 2, 3, 3, 3]\n",
      "Idhogar efd3aec61 has different poverty level of [2, 3, 2, 3, 2]\n",
      "Idhogar 3c6973219 has different poverty level of [4, 4, 2, 4]\n",
      "Idhogar 0511912b6 has different poverty level of [4, 4, 4, 3]\n",
      "Idhogar f006348ed has different poverty level of [3, 3, 2, 2, 2]\n",
      "Idhogar a20ff33ba has different poverty level of [2, 1, 2, 2]\n",
      "Idhogar 5e9329fc6 has different poverty level of [3, 2, 3]\n",
      "Idhogar e65d4b943 has different poverty level of [3, 3, 3, 2, 3]\n",
      "Idhogar 42ec8bef5 has different poverty level of [2, 3, 3]\n",
      "Idhogar 6bcf799cf has different poverty level of [2, 2, 2, 1]\n",
      "Idhogar 26b3a0f41 has different poverty level of [3, 3, 4]\n",
      "Idhogar 4dc11e11f has different poverty level of [1, 2, 2]\n",
      "Idhogar 594d3eb27 has different poverty level of [2, 2, 2, 2, 1, 1]\n",
      "Idhogar d9b1558b5 has different poverty level of [1, 2, 1, 2]\n",
      "Idhogar 7ea6aca15 has different poverty level of [4, 3, 4, 4, 4]\n",
      "Idhogar 8bb6da3c1 has different poverty level of [2, 3, 2, 3]\n",
      "Idhogar 3df651058 has different poverty level of [1, 2]\n",
      "Idhogar 811a35744 has different poverty level of [4, 4, 3, 3]\n",
      "Idhogar 2cb443214 has different poverty level of [2, 3]\n",
      "Idhogar bcab69521 has different poverty level of [2, 2, 1]\n",
      "Idhogar 694a0cbf4 has different poverty level of [1, 1, 2, 2, 2]\n",
      "Idhogar 3fe29a56b has different poverty level of [3, 2, 2, 3, 3, 3, 3, 3, 3, 2, 2]\n",
      "Idhogar 636330516 has different poverty level of [2, 3, 3, 3, 2]\n",
      "Idhogar 288579c97 has different poverty level of [1, 2, 2]\n",
      "Idhogar 15a891635 has different poverty level of [2, 2, 1]\n",
      "Idhogar 6a389f3de has different poverty level of [2, 1, 2, 2]\n",
      "Idhogar a3288e6fa has different poverty level of [3, 2, 3, 2]\n",
      "Idhogar 4e19bd549 has different poverty level of [4, 4, 3]\n",
      "Idhogar 80a66379b has different poverty level of [2, 1, 2]\n",
      "Idhogar 5c6f32bbc has different poverty level of [3, 4, 2]\n",
      "Idhogar 932287f5d has different poverty level of [2, 2, 2, 1]\n",
      "Idhogar bd82509d1 has different poverty level of [3, 2]\n",
      "Idhogar 614b48fb7 has different poverty level of [3, 3, 3, 2, 3]\n",
      "Idhogar 46af47063 has different poverty level of [2, 2, 2, 1, 2, 2]\n",
      "Idhogar 6c543442a has different poverty level of [2, 2, 3, 2]\n",
      "Idhogar 410194c8b has different poverty level of [2, 1]\n",
      "Idhogar 417865404 has different poverty level of [2, 1, 2, 2, 2]\n",
      "Idhogar f7b421c2c has different poverty level of [2, 2, 2, 2, 1]\n",
      "Idhogar 67ad49822 has different poverty level of [2, 1, 2, 2]\n",
      "Idhogar 17fb04a62 has different poverty level of [1, 2, 1]\n",
      "Idhogar c38913488 has different poverty level of [1, 2, 1, 1]\n",
      "Idhogar 513adb616 has different poverty level of [2, 3, 3, 3]\n",
      "Idhogar dfb966eec has different poverty level of [2, 1, 1]\n",
      "Idhogar 30a70901d has different poverty level of [1, 2, 2, 1]\n",
      "Idhogar 18832b840 has different poverty level of [3, 2, 2, 2, 2]\n",
      "Idhogar 7c57f8237 has different poverty level of [2, 1, 2]\n",
      "Idhogar c13325faf has different poverty level of [4, 4, 3, 4]\n",
      "Idhogar 54118d5d9 has different poverty level of [2, 3]\n",
      "Idhogar 0f3e65c83 has different poverty level of [2, 1, 1]\n",
      "Idhogar 03f4e5f4d has different poverty level of [2, 1, 1]\n",
      "Idhogar 8ae3e74ca has different poverty level of [2, 2, 1, 2]\n",
      "Idhogar 309fb7246 has different poverty level of [2, 3, 2]\n",
      "Idhogar 09e25d616 has different poverty level of [2, 2, 2, 1]\n",
      "Idhogar 564eab113 has different poverty level of [2, 1, 2]\n",
      "Idhogar 8242a51ec has different poverty level of [3, 3, 2, 3]\n",
      "Idhogar 0172ab1d9 has different poverty level of [3, 2, 3, 3, 2]\n",
      "Idhogar a94a45642 has different poverty level of [2, 1, 2]\n",
      "Idhogar be91da044 has different poverty level of [2, 3]\n",
      "Idhogar 50e064ee8 has different poverty level of [3, 2, 3, 3]\n",
      "Idhogar 4c2dba109 has different poverty level of [3, 3, 2]\n",
      "Idhogar 7ad269eef has different poverty level of [2, 3, 3, 3]\n",
      "Idhogar 3c73c107f has different poverty level of [1, 2]\n",
      "Idhogar 55a662731 has different poverty level of [3, 3, 3, 2]\n",
      "Idhogar e17b252ed has different poverty level of [3, 2, 3, 3]\n",
      "Idhogar 078a0b6e2 has different poverty level of [1, 2, 2, 1]\n",
      "Idhogar 28893b5e7 has different poverty level of [2, 3, 3, 3]\n",
      "Idhogar d64524b6b has different poverty level of [3, 4, 3]\n",
      "Idhogar 2c9872b82 has different poverty level of [2, 2, 2, 2, 1, 2]\n",
      "Idhogar f94589d38 has different poverty level of [2, 2, 1]\n",
      "Idhogar 8420bcfca has different poverty level of [3, 4]\n",
      "Idhogar 71cd52a80 has different poverty level of [4, 4, 3, 4]\n",
      "Idhogar 654ef7612 has different poverty level of [1, 2, 1]\n",
      "Idhogar cc971b690 has different poverty level of [3, 2, 2]\n",
      "Idhogar 7e9d58c5c has different poverty level of [2, 2, 1, 2]\n",
      "Idhogar e235a4eec has different poverty level of [3, 3, 2, 3, 2, 2]\n",
      "Idhogar c7ce4e30c has different poverty level of [2, 1, 2, 2, 2, 2]\n",
      "Idhogar 9bbf7c6ca has different poverty level of [1, 2, 2, 2, 2]\n"
     ]
    }
   ],
   "source": [
    "for id in unique_idhogar:\n",
    "    if train[train['idhogar'] == id]['Target'].nunique() == 1:\n",
    "        continue\n",
    "        #print('Idhogar {} has same poverty level of {}'.format(id, train[train['idhogar'] == id]['Target'] ))\n",
    "    else:\n",
    "        print('Idhogar {} has different poverty level of {}'.format(id, list(train[train['idhogar'] == id]['Target'])))"
   ]
  },
  {
   "cell_type": "markdown",
   "id": "bba164e4",
   "metadata": {},
   "source": [
    "##### Above family have members with different poverty level"
   ]
  },
  {
   "cell_type": "markdown",
   "id": "764fd44e",
   "metadata": {},
   "source": [
    "### Check if there is a house without a family head."
   ]
  },
  {
   "cell_type": "code",
   "execution_count": 98,
   "id": "44154176",
   "metadata": {},
   "outputs": [
    {
     "data": {
      "text/plain": [
       "0    6584\n",
       "1    2973\n",
       "Name: parentesco1, dtype: int64"
      ]
     },
     "execution_count": 98,
     "metadata": {},
     "output_type": "execute_result"
    }
   ],
   "source": [
    "# parentesco1, =1 if household head\n",
    "train['parentesco1'].value_counts()"
   ]
  },
  {
   "cell_type": "code",
   "execution_count": 99,
   "id": "f8d6a11d",
   "metadata": {},
   "outputs": [],
   "source": [
    "a = train['parentesco1'].groupby(train['idhogar']).sum()"
   ]
  },
  {
   "cell_type": "code",
   "execution_count": 100,
   "id": "49f73f7b",
   "metadata": {},
   "outputs": [
    {
     "data": {
      "text/plain": [
       "idhogar\n",
       "03c6bdf85    0\n",
       "09b195e7a    0\n",
       "1367ab31d    0\n",
       "1bc617b23    0\n",
       "374ca5a19    0\n",
       "61c10e099    0\n",
       "6b1b2405f    0\n",
       "896fe6d3e    0\n",
       "a0812ef17    0\n",
       "ad687ad89    0\n",
       "b1f4d89d7    0\n",
       "bfd5067c2    0\n",
       "c0c8a5013    0\n",
       "d363d9183    0\n",
       "f2bfa75c4    0\n",
       "Name: parentesco1, dtype: int64"
      ]
     },
     "execution_count": 100,
     "metadata": {},
     "output_type": "execute_result"
    }
   ],
   "source": [
    "(a[a.values == 0])"
   ]
  },
  {
   "cell_type": "markdown",
   "id": "711defca",
   "metadata": {},
   "source": [
    "#### Above are the 15 families without head"
   ]
  },
  {
   "cell_type": "markdown",
   "id": "bd3633c8",
   "metadata": {},
   "source": [
    "### Set poverty level of the members and the head of the house within a family."
   ]
  },
  {
   "cell_type": "code",
   "execution_count": 101,
   "id": "c7c6e3ae",
   "metadata": {},
   "outputs": [],
   "source": [
    "#v2a1 - rent paid - 71% empty - cannot use this feature\n",
    "#tipovivi5, \"=1 other(assigned, borrowed)\"\n",
    "#rooms, number of all rooms in the house\n",
    "#r4t3, Total persons in the household\n",
    "#pisonotiene, =1 if no floor at the household\n",
    "#abastaguano, =1 if no water provision\n",
    "#noelec, =1 no electricity in the dwelling\n",
    "#sanitario1, =1 no toilet in the dwelling\n",
    "#energcocinar1, =1 no main source of energy used for cooking (no kitchen)\n"
   ]
  },
  {
   "cell_type": "code",
   "execution_count": 102,
   "id": "83e35129",
   "metadata": {},
   "outputs": [
    {
     "name": "stdout",
     "output_type": "stream",
     "text": [
      "0    8771\n",
      "1     786\n",
      "Name: tipovivi5, dtype: int64\n",
      "0    9400\n",
      "1     157\n",
      "Name: pisonotiene, dtype: int64\n",
      "0    9523\n",
      "1      34\n",
      "Name: abastaguano, dtype: int64\n",
      "0    9536\n",
      "1      21\n",
      "Name: noelec, dtype: int64\n",
      "0    9520\n",
      "1      37\n",
      "Name: sanitario1, dtype: int64\n",
      "0    9539\n",
      "1      18\n",
      "Name: energcocinar1, dtype: int64\n"
     ]
    }
   ],
   "source": [
    "print(train['tipovivi5'].value_counts())\n",
    "print(train['pisonotiene'].value_counts())\n",
    "print(train['abastaguano'].value_counts())\n",
    "print(train['noelec'].value_counts())\n",
    "print(train['sanitario1'].value_counts())\n",
    "print(train['energcocinar1'].value_counts())\n"
   ]
  },
  {
   "cell_type": "code",
   "execution_count": 103,
   "id": "3efa6402",
   "metadata": {},
   "outputs": [
    {
     "name": "stdout",
     "output_type": "stream",
     "text": [
      "0    8771\n",
      "1     786\n",
      "Name: tipovivi5, dtype: int64\n",
      "11       7\n",
      "10      43\n",
      "1       97\n",
      "9      168\n",
      "2      188\n",
      "8      298\n",
      "7      732\n",
      "3      890\n",
      "6     1607\n",
      "4     2587\n",
      "5     2940\n",
      "Name: rooms, dtype: int64\n",
      "# of members in borrowed house with less than equal to 2 rooms: 78\n"
     ]
    }
   ],
   "source": [
    "print(train['tipovivi5'].value_counts())\n",
    "print(train['rooms'].value_counts().sort_values())\n",
    "\n",
    "print('# of members in borrowed house with less than equal to 2 rooms:', len(train[(train['tipovivi5'] == 0) & (train['rooms'] == 1)]))\n",
    "#251 members are in borrowed house that has two or one bed room\n",
    "\n"
   ]
  },
  {
   "cell_type": "code",
   "execution_count": 104,
   "id": "951d21da",
   "metadata": {},
   "outputs": [],
   "source": [
    "# Below function has been loaded with rules to define the 'below poverty limit'\n",
    "def poverty_limit(cols):\n",
    "    \n",
    "    w_tipovivi5     = cols[0]\n",
    "    w_pisonotiene   = cols[1]\n",
    "    w_abastaguano   = cols[2]\n",
    "    w_noelec        = cols[3]\n",
    "    w_sanitario1    = cols[4]\n",
    "    w_energcocinar1 = cols[5]\n",
    "    w_rooms         = cols[6]\n",
    "    \n",
    "    if (w_tipovivi5 == 1) & (w_rooms == 1):\n",
    "        return('Below Poverty')\n",
    "    elif w_pisonotiene == 1:\n",
    "        return('Below Poverty')\n",
    "    elif w_abastaguano == 1:\n",
    "        return('Below Poverty')\n",
    "    elif w_noelec == 1:\n",
    "        return('Below Poverty')\n",
    "    elif w_sanitario1 == 1:\n",
    "        return('Below Poverty')\n",
    "    elif w_energcocinar1 == 1:\n",
    "        return('Below Poverty')    "
   ]
  },
  {
   "cell_type": "code",
   "execution_count": 105,
   "id": "89090b58",
   "metadata": {},
   "outputs": [],
   "source": [
    "train['poverty_limit'] = train[['tipovivi5', 'pisonotiene', 'abastaguano', 'noelec', 'sanitario1', 'energcocinar1', 'rooms']].apply(poverty_limit, axis=1)"
   ]
  },
  {
   "cell_type": "code",
   "execution_count": 106,
   "id": "7d211214",
   "metadata": {},
   "outputs": [
    {
     "data": {
      "text/plain": [
       "Below Poverty    248\n",
       "Name: poverty_limit, dtype: int64"
      ]
     },
     "execution_count": 106,
     "metadata": {},
     "output_type": "execute_result"
    }
   ],
   "source": [
    "train['poverty_limit'].value_counts()"
   ]
  },
  {
   "cell_type": "markdown",
   "id": "aa41e8d7",
   "metadata": {},
   "source": [
    "#### 248 members are categorized under below poverty limit based on the rules defined in the function poverty_limit"
   ]
  },
  {
   "cell_type": "markdown",
   "id": "0785de6a",
   "metadata": {},
   "source": [
    "## Predict the accuracy using random forest classifier"
   ]
  },
  {
   "cell_type": "code",
   "execution_count": 107,
   "id": "356387d4",
   "metadata": {},
   "outputs": [
    {
     "data": {
      "text/plain": [
       "['v2a1', 'v18q1', 'rez_esc', 'Id', 'idhogar', 'poverty_limit']"
      ]
     },
     "execution_count": 107,
     "metadata": {},
     "output_type": "execute_result"
    }
   ],
   "source": [
    "cols_to_ignore.append('poverty_limit')\n",
    "cols_to_ignore"
   ]
  },
  {
   "cell_type": "code",
   "execution_count": 108,
   "id": "07252688",
   "metadata": {},
   "outputs": [
    {
     "name": "stdout",
     "output_type": "stream",
     "text": [
      "(9557, 136) (9557,)\n"
     ]
    }
   ],
   "source": [
    "train = train.drop(cols_to_ignore, axis=1)\n",
    "\n",
    "X = train.drop('Target', axis=1)\n",
    "Y = train['Target']\n",
    "print(X.shape, Y.shape)"
   ]
  },
  {
   "cell_type": "code",
   "execution_count": 109,
   "id": "2f6fb0de",
   "metadata": {},
   "outputs": [
    {
     "name": "stdout",
     "output_type": "stream",
     "text": [
      "(7645, 136) (7645,)\n",
      "(1912, 136) (1912,)\n"
     ]
    }
   ],
   "source": [
    "X_train, X_test, y_train, y_test = train_test_split(X, Y, test_size=0.2, random_state=17)\n",
    "print(X_train.shape, y_train.shape)\n",
    "print(X_test.shape, y_test.shape)"
   ]
  },
  {
   "cell_type": "markdown",
   "id": "a87f8be1",
   "metadata": {},
   "source": [
    "### Trial1: Default model"
   ]
  },
  {
   "cell_type": "code",
   "execution_count": 110,
   "id": "31ba3be0",
   "metadata": {},
   "outputs": [
    {
     "name": "stdout",
     "output_type": "stream",
     "text": [
      "train accuracy is 1.0\n",
      "test  accuracy is 0.9095188284518828\n"
     ]
    }
   ],
   "source": [
    "rfclr = RandomForestClassifier(random_state=17)\n",
    "rfclr.fit(X_train, y_train)\n",
    "print('train accuracy is {}'.format(rfclr.score(X_train, y_train)))\n",
    "print('test  accuracy is {}'.format(rfclr.score(X_test, y_test)))"
   ]
  },
  {
   "cell_type": "markdown",
   "id": "15776079",
   "metadata": {},
   "source": [
    "###### Test accuracy is 10% less than train accuracy - slight sign of overfit"
   ]
  },
  {
   "cell_type": "markdown",
   "id": "b0540dbc",
   "metadata": {},
   "source": [
    "### Trial2: Standardize the data and fit the model"
   ]
  },
  {
   "cell_type": "code",
   "execution_count": 111,
   "id": "011cae16",
   "metadata": {},
   "outputs": [
    {
     "data": {
      "text/html": [
       "<div>\n",
       "<style scoped>\n",
       "    .dataframe tbody tr th:only-of-type {\n",
       "        vertical-align: middle;\n",
       "    }\n",
       "\n",
       "    .dataframe tbody tr th {\n",
       "        vertical-align: top;\n",
       "    }\n",
       "\n",
       "    .dataframe thead th {\n",
       "        text-align: right;\n",
       "    }\n",
       "</style>\n",
       "<table border=\"1\" class=\"dataframe\">\n",
       "  <thead>\n",
       "    <tr style=\"text-align: right;\">\n",
       "      <th></th>\n",
       "      <th>hacdor</th>\n",
       "      <th>rooms</th>\n",
       "      <th>hacapo</th>\n",
       "      <th>v14a</th>\n",
       "      <th>refrig</th>\n",
       "      <th>v18q</th>\n",
       "      <th>r4h1</th>\n",
       "      <th>r4h2</th>\n",
       "      <th>r4h3</th>\n",
       "      <th>r4m1</th>\n",
       "      <th>...</th>\n",
       "      <th>age</th>\n",
       "      <th>SQBescolari</th>\n",
       "      <th>SQBage</th>\n",
       "      <th>SQBhogar_total</th>\n",
       "      <th>SQBedjefe</th>\n",
       "      <th>SQBhogar_nin</th>\n",
       "      <th>SQBovercrowding</th>\n",
       "      <th>SQBdependency</th>\n",
       "      <th>SQBmeaned</th>\n",
       "      <th>agesq</th>\n",
       "    </tr>\n",
       "  </thead>\n",
       "  <tbody>\n",
       "    <tr>\n",
       "      <th>0</th>\n",
       "      <td>0</td>\n",
       "      <td>3</td>\n",
       "      <td>0</td>\n",
       "      <td>1</td>\n",
       "      <td>1</td>\n",
       "      <td>0</td>\n",
       "      <td>0</td>\n",
       "      <td>1</td>\n",
       "      <td>1</td>\n",
       "      <td>0</td>\n",
       "      <td>...</td>\n",
       "      <td>43</td>\n",
       "      <td>100</td>\n",
       "      <td>1849</td>\n",
       "      <td>1</td>\n",
       "      <td>100</td>\n",
       "      <td>0</td>\n",
       "      <td>1.000000</td>\n",
       "      <td>0.0000</td>\n",
       "      <td>100.0000</td>\n",
       "      <td>1849</td>\n",
       "    </tr>\n",
       "    <tr>\n",
       "      <th>1</th>\n",
       "      <td>0</td>\n",
       "      <td>4</td>\n",
       "      <td>0</td>\n",
       "      <td>1</td>\n",
       "      <td>1</td>\n",
       "      <td>1</td>\n",
       "      <td>0</td>\n",
       "      <td>1</td>\n",
       "      <td>1</td>\n",
       "      <td>0</td>\n",
       "      <td>...</td>\n",
       "      <td>67</td>\n",
       "      <td>144</td>\n",
       "      <td>4489</td>\n",
       "      <td>1</td>\n",
       "      <td>144</td>\n",
       "      <td>0</td>\n",
       "      <td>1.000000</td>\n",
       "      <td>64.0000</td>\n",
       "      <td>144.0000</td>\n",
       "      <td>4489</td>\n",
       "    </tr>\n",
       "    <tr>\n",
       "      <th>2</th>\n",
       "      <td>0</td>\n",
       "      <td>8</td>\n",
       "      <td>0</td>\n",
       "      <td>1</td>\n",
       "      <td>1</td>\n",
       "      <td>0</td>\n",
       "      <td>0</td>\n",
       "      <td>0</td>\n",
       "      <td>0</td>\n",
       "      <td>0</td>\n",
       "      <td>...</td>\n",
       "      <td>92</td>\n",
       "      <td>121</td>\n",
       "      <td>8464</td>\n",
       "      <td>1</td>\n",
       "      <td>0</td>\n",
       "      <td>0</td>\n",
       "      <td>0.250000</td>\n",
       "      <td>64.0000</td>\n",
       "      <td>121.0000</td>\n",
       "      <td>8464</td>\n",
       "    </tr>\n",
       "    <tr>\n",
       "      <th>3</th>\n",
       "      <td>0</td>\n",
       "      <td>5</td>\n",
       "      <td>0</td>\n",
       "      <td>1</td>\n",
       "      <td>1</td>\n",
       "      <td>1</td>\n",
       "      <td>0</td>\n",
       "      <td>2</td>\n",
       "      <td>2</td>\n",
       "      <td>1</td>\n",
       "      <td>...</td>\n",
       "      <td>17</td>\n",
       "      <td>81</td>\n",
       "      <td>289</td>\n",
       "      <td>16</td>\n",
       "      <td>121</td>\n",
       "      <td>4</td>\n",
       "      <td>1.777778</td>\n",
       "      <td>1.0000</td>\n",
       "      <td>121.0000</td>\n",
       "      <td>289</td>\n",
       "    </tr>\n",
       "    <tr>\n",
       "      <th>4</th>\n",
       "      <td>0</td>\n",
       "      <td>5</td>\n",
       "      <td>0</td>\n",
       "      <td>1</td>\n",
       "      <td>1</td>\n",
       "      <td>1</td>\n",
       "      <td>0</td>\n",
       "      <td>2</td>\n",
       "      <td>2</td>\n",
       "      <td>1</td>\n",
       "      <td>...</td>\n",
       "      <td>37</td>\n",
       "      <td>121</td>\n",
       "      <td>1369</td>\n",
       "      <td>16</td>\n",
       "      <td>121</td>\n",
       "      <td>4</td>\n",
       "      <td>1.777778</td>\n",
       "      <td>1.0000</td>\n",
       "      <td>121.0000</td>\n",
       "      <td>1369</td>\n",
       "    </tr>\n",
       "    <tr>\n",
       "      <th>...</th>\n",
       "      <td>...</td>\n",
       "      <td>...</td>\n",
       "      <td>...</td>\n",
       "      <td>...</td>\n",
       "      <td>...</td>\n",
       "      <td>...</td>\n",
       "      <td>...</td>\n",
       "      <td>...</td>\n",
       "      <td>...</td>\n",
       "      <td>...</td>\n",
       "      <td>...</td>\n",
       "      <td>...</td>\n",
       "      <td>...</td>\n",
       "      <td>...</td>\n",
       "      <td>...</td>\n",
       "      <td>...</td>\n",
       "      <td>...</td>\n",
       "      <td>...</td>\n",
       "      <td>...</td>\n",
       "      <td>...</td>\n",
       "      <td>...</td>\n",
       "    </tr>\n",
       "    <tr>\n",
       "      <th>9552</th>\n",
       "      <td>0</td>\n",
       "      <td>6</td>\n",
       "      <td>0</td>\n",
       "      <td>1</td>\n",
       "      <td>1</td>\n",
       "      <td>0</td>\n",
       "      <td>0</td>\n",
       "      <td>2</td>\n",
       "      <td>2</td>\n",
       "      <td>1</td>\n",
       "      <td>...</td>\n",
       "      <td>46</td>\n",
       "      <td>81</td>\n",
       "      <td>2116</td>\n",
       "      <td>25</td>\n",
       "      <td>81</td>\n",
       "      <td>1</td>\n",
       "      <td>1.562500</td>\n",
       "      <td>0.0625</td>\n",
       "      <td>68.0625</td>\n",
       "      <td>2116</td>\n",
       "    </tr>\n",
       "    <tr>\n",
       "      <th>9553</th>\n",
       "      <td>0</td>\n",
       "      <td>6</td>\n",
       "      <td>0</td>\n",
       "      <td>1</td>\n",
       "      <td>1</td>\n",
       "      <td>0</td>\n",
       "      <td>0</td>\n",
       "      <td>2</td>\n",
       "      <td>2</td>\n",
       "      <td>1</td>\n",
       "      <td>...</td>\n",
       "      <td>2</td>\n",
       "      <td>0</td>\n",
       "      <td>4</td>\n",
       "      <td>25</td>\n",
       "      <td>81</td>\n",
       "      <td>1</td>\n",
       "      <td>1.562500</td>\n",
       "      <td>0.0625</td>\n",
       "      <td>68.0625</td>\n",
       "      <td>4</td>\n",
       "    </tr>\n",
       "    <tr>\n",
       "      <th>9554</th>\n",
       "      <td>0</td>\n",
       "      <td>6</td>\n",
       "      <td>0</td>\n",
       "      <td>1</td>\n",
       "      <td>1</td>\n",
       "      <td>0</td>\n",
       "      <td>0</td>\n",
       "      <td>2</td>\n",
       "      <td>2</td>\n",
       "      <td>1</td>\n",
       "      <td>...</td>\n",
       "      <td>50</td>\n",
       "      <td>25</td>\n",
       "      <td>2500</td>\n",
       "      <td>25</td>\n",
       "      <td>81</td>\n",
       "      <td>1</td>\n",
       "      <td>1.562500</td>\n",
       "      <td>0.0625</td>\n",
       "      <td>68.0625</td>\n",
       "      <td>2500</td>\n",
       "    </tr>\n",
       "    <tr>\n",
       "      <th>9555</th>\n",
       "      <td>0</td>\n",
       "      <td>6</td>\n",
       "      <td>0</td>\n",
       "      <td>1</td>\n",
       "      <td>1</td>\n",
       "      <td>0</td>\n",
       "      <td>0</td>\n",
       "      <td>2</td>\n",
       "      <td>2</td>\n",
       "      <td>1</td>\n",
       "      <td>...</td>\n",
       "      <td>26</td>\n",
       "      <td>121</td>\n",
       "      <td>676</td>\n",
       "      <td>25</td>\n",
       "      <td>81</td>\n",
       "      <td>1</td>\n",
       "      <td>1.562500</td>\n",
       "      <td>0.0625</td>\n",
       "      <td>68.0625</td>\n",
       "      <td>676</td>\n",
       "    </tr>\n",
       "    <tr>\n",
       "      <th>9556</th>\n",
       "      <td>0</td>\n",
       "      <td>6</td>\n",
       "      <td>0</td>\n",
       "      <td>1</td>\n",
       "      <td>1</td>\n",
       "      <td>0</td>\n",
       "      <td>0</td>\n",
       "      <td>2</td>\n",
       "      <td>2</td>\n",
       "      <td>1</td>\n",
       "      <td>...</td>\n",
       "      <td>21</td>\n",
       "      <td>64</td>\n",
       "      <td>441</td>\n",
       "      <td>25</td>\n",
       "      <td>81</td>\n",
       "      <td>1</td>\n",
       "      <td>1.562500</td>\n",
       "      <td>0.0625</td>\n",
       "      <td>68.0625</td>\n",
       "      <td>441</td>\n",
       "    </tr>\n",
       "  </tbody>\n",
       "</table>\n",
       "<p>9557 rows × 136 columns</p>\n",
       "</div>"
      ],
      "text/plain": [
       "      hacdor  rooms  hacapo  v14a  refrig  v18q  r4h1  r4h2  r4h3  r4m1  ...  \\\n",
       "0          0      3       0     1       1     0     0     1     1     0  ...   \n",
       "1          0      4       0     1       1     1     0     1     1     0  ...   \n",
       "2          0      8       0     1       1     0     0     0     0     0  ...   \n",
       "3          0      5       0     1       1     1     0     2     2     1  ...   \n",
       "4          0      5       0     1       1     1     0     2     2     1  ...   \n",
       "...      ...    ...     ...   ...     ...   ...   ...   ...   ...   ...  ...   \n",
       "9552       0      6       0     1       1     0     0     2     2     1  ...   \n",
       "9553       0      6       0     1       1     0     0     2     2     1  ...   \n",
       "9554       0      6       0     1       1     0     0     2     2     1  ...   \n",
       "9555       0      6       0     1       1     0     0     2     2     1  ...   \n",
       "9556       0      6       0     1       1     0     0     2     2     1  ...   \n",
       "\n",
       "      age  SQBescolari  SQBage  SQBhogar_total  SQBedjefe  SQBhogar_nin  \\\n",
       "0      43          100    1849               1        100             0   \n",
       "1      67          144    4489               1        144             0   \n",
       "2      92          121    8464               1          0             0   \n",
       "3      17           81     289              16        121             4   \n",
       "4      37          121    1369              16        121             4   \n",
       "...   ...          ...     ...             ...        ...           ...   \n",
       "9552   46           81    2116              25         81             1   \n",
       "9553    2            0       4              25         81             1   \n",
       "9554   50           25    2500              25         81             1   \n",
       "9555   26          121     676              25         81             1   \n",
       "9556   21           64     441              25         81             1   \n",
       "\n",
       "      SQBovercrowding  SQBdependency  SQBmeaned  agesq  \n",
       "0            1.000000         0.0000   100.0000   1849  \n",
       "1            1.000000        64.0000   144.0000   4489  \n",
       "2            0.250000        64.0000   121.0000   8464  \n",
       "3            1.777778         1.0000   121.0000    289  \n",
       "4            1.777778         1.0000   121.0000   1369  \n",
       "...               ...            ...        ...    ...  \n",
       "9552         1.562500         0.0625    68.0625   2116  \n",
       "9553         1.562500         0.0625    68.0625      4  \n",
       "9554         1.562500         0.0625    68.0625   2500  \n",
       "9555         1.562500         0.0625    68.0625    676  \n",
       "9556         1.562500         0.0625    68.0625    441  \n",
       "\n",
       "[9557 rows x 136 columns]"
      ]
     },
     "execution_count": 111,
     "metadata": {},
     "output_type": "execute_result"
    }
   ],
   "source": [
    "X"
   ]
  },
  {
   "cell_type": "code",
   "execution_count": 112,
   "id": "b592391c",
   "metadata": {},
   "outputs": [],
   "source": [
    "sc = StandardScaler()\n",
    "temp_X = sc.fit_transform(X)"
   ]
  },
  {
   "cell_type": "code",
   "execution_count": 113,
   "id": "d16e7cff",
   "metadata": {},
   "outputs": [
    {
     "name": "stdout",
     "output_type": "stream",
     "text": [
      "(9557, 136) (9557,)\n"
     ]
    }
   ],
   "source": [
    "X = pd.DataFrame(temp_X, columns=X.columns)\n",
    "Y = train['Target']\n",
    "print(X.shape, Y.shape)"
   ]
  },
  {
   "cell_type": "code",
   "execution_count": 114,
   "id": "73612366",
   "metadata": {},
   "outputs": [
    {
     "name": "stdout",
     "output_type": "stream",
     "text": [
      "(7645, 136) (7645,)\n",
      "(1912, 136) (1912,)\n"
     ]
    }
   ],
   "source": [
    "X_train, X_test, y_train, y_test = train_test_split(X, Y, test_size=0.2, random_state=17)\n",
    "print(X_train.shape, y_train.shape)\n",
    "print(X_test.shape, y_test.shape)"
   ]
  },
  {
   "cell_type": "code",
   "execution_count": 115,
   "id": "1b346577",
   "metadata": {},
   "outputs": [
    {
     "name": "stdout",
     "output_type": "stream",
     "text": [
      "train accuracy is 1.0\n",
      "test  accuracy is 0.9089958158995816\n"
     ]
    }
   ],
   "source": [
    "rfclr1 = RandomForestClassifier(random_state=17)\n",
    "rfclr1.fit(X_train, y_train)\n",
    "print('train accuracy is {}'.format(rfclr1.score(X_train, y_train)))\n",
    "print('test  accuracy is {}'.format(rfclr1.score(X_test, y_test)))"
   ]
  },
  {
   "cell_type": "markdown",
   "id": "b8bd82c2",
   "metadata": {},
   "source": [
    "#### No change in test accuracy before and after standarizing"
   ]
  },
  {
   "cell_type": "markdown",
   "id": "642a76f6",
   "metadata": {},
   "source": [
    "## Trial3 - K-Fold method"
   ]
  },
  {
   "cell_type": "code",
   "execution_count": 116,
   "id": "eafd7d42",
   "metadata": {},
   "outputs": [],
   "source": [
    "kfold = model_selection.KFold(n_splits=10, shuffle=True, random_state=17)\n",
    "rfclr2 = RandomForestClassifier(random_state=17)\n",
    "rf_results = model_selection.cross_val_score(rfclr2, X, Y, cv=kfold)"
   ]
  },
  {
   "cell_type": "code",
   "execution_count": 117,
   "id": "dca57344",
   "metadata": {},
   "outputs": [
    {
     "data": {
      "text/plain": [
       "array([0.92364017, 0.93410042, 0.92782427, 0.92991632, 0.92259414,\n",
       "       0.94665272, 0.92677824, 0.93403141, 0.9486911 , 0.94031414])"
      ]
     },
     "execution_count": 117,
     "metadata": {},
     "output_type": "execute_result"
    }
   ],
   "source": [
    "rf_results"
   ]
  },
  {
   "cell_type": "code",
   "execution_count": 118,
   "id": "bff2ffe8",
   "metadata": {},
   "outputs": [
    {
     "name": "stdout",
     "output_type": "stream",
     "text": [
      "Test accuracy is 0.9334542925365288\n"
     ]
    }
   ],
   "source": [
    "print('Test accuracy is {}'.format(rf_results.mean()))"
   ]
  },
  {
   "cell_type": "markdown",
   "id": "05ddb142",
   "metadata": {},
   "source": [
    "### Trial4 - Use Grid search CV to tune the hyperparameters"
   ]
  },
  {
   "cell_type": "code",
   "execution_count": 119,
   "id": "b93eac72",
   "metadata": {},
   "outputs": [],
   "source": [
    "param_grid = {\n",
    "   'n_estimators' : [100, 150, 200, 250],\n",
    "    'max_depth'   : [None, 1, 2, 3, 4, 5, 6],\n",
    "    'min_samples_leaf' : [1,2,3,4,5,6]\n",
    "}"
   ]
  },
  {
   "cell_type": "code",
   "execution_count": 120,
   "id": "d12ec198",
   "metadata": {},
   "outputs": [],
   "source": [
    "rfclr3 = RandomForestClassifier(random_state=17)"
   ]
  },
  {
   "cell_type": "code",
   "execution_count": 121,
   "id": "d9e2bf92",
   "metadata": {},
   "outputs": [],
   "source": [
    "gs = GridSearchCV(rfclr3, param_grid=param_grid, cv=3, verbose=2)"
   ]
  },
  {
   "cell_type": "code",
   "execution_count": 122,
   "id": "7c12300f",
   "metadata": {},
   "outputs": [
    {
     "name": "stdout",
     "output_type": "stream",
     "text": [
      "Fitting 3 folds for each of 168 candidates, totalling 504 fits\n",
      "[CV] END max_depth=None, min_samples_leaf=1, n_estimators=100; total time=   0.6s\n",
      "[CV] END max_depth=None, min_samples_leaf=1, n_estimators=100; total time=   0.6s\n",
      "[CV] END max_depth=None, min_samples_leaf=1, n_estimators=100; total time=   0.5s\n",
      "[CV] END max_depth=None, min_samples_leaf=1, n_estimators=150; total time=   0.8s\n",
      "[CV] END max_depth=None, min_samples_leaf=1, n_estimators=150; total time=   0.9s\n",
      "[CV] END max_depth=None, min_samples_leaf=1, n_estimators=150; total time=   0.9s\n",
      "[CV] END max_depth=None, min_samples_leaf=1, n_estimators=200; total time=   1.2s\n",
      "[CV] END max_depth=None, min_samples_leaf=1, n_estimators=200; total time=   1.2s\n",
      "[CV] END max_depth=None, min_samples_leaf=1, n_estimators=200; total time=   1.2s\n",
      "[CV] END max_depth=None, min_samples_leaf=1, n_estimators=250; total time=   1.4s\n",
      "[CV] END max_depth=None, min_samples_leaf=1, n_estimators=250; total time=   1.5s\n",
      "[CV] END max_depth=None, min_samples_leaf=1, n_estimators=250; total time=   1.5s\n",
      "[CV] END max_depth=None, min_samples_leaf=2, n_estimators=100; total time=   0.5s\n",
      "[CV] END max_depth=None, min_samples_leaf=2, n_estimators=100; total time=   0.5s\n",
      "[CV] END max_depth=None, min_samples_leaf=2, n_estimators=100; total time=   0.6s\n",
      "[CV] END max_depth=None, min_samples_leaf=2, n_estimators=150; total time=   0.9s\n",
      "[CV] END max_depth=None, min_samples_leaf=2, n_estimators=150; total time=   0.9s\n",
      "[CV] END max_depth=None, min_samples_leaf=2, n_estimators=150; total time=   0.8s\n",
      "[CV] END max_depth=None, min_samples_leaf=2, n_estimators=200; total time=   1.1s\n",
      "[CV] END max_depth=None, min_samples_leaf=2, n_estimators=200; total time=   1.1s\n",
      "[CV] END max_depth=None, min_samples_leaf=2, n_estimators=200; total time=   1.1s\n",
      "[CV] END max_depth=None, min_samples_leaf=2, n_estimators=250; total time=   1.4s\n",
      "[CV] END max_depth=None, min_samples_leaf=2, n_estimators=250; total time=   1.4s\n",
      "[CV] END max_depth=None, min_samples_leaf=2, n_estimators=250; total time=   1.4s\n",
      "[CV] END max_depth=None, min_samples_leaf=3, n_estimators=100; total time=   0.5s\n",
      "[CV] END max_depth=None, min_samples_leaf=3, n_estimators=100; total time=   0.5s\n",
      "[CV] END max_depth=None, min_samples_leaf=3, n_estimators=100; total time=   0.5s\n",
      "[CV] END max_depth=None, min_samples_leaf=3, n_estimators=150; total time=   0.7s\n",
      "[CV] END max_depth=None, min_samples_leaf=3, n_estimators=150; total time=   0.8s\n",
      "[CV] END max_depth=None, min_samples_leaf=3, n_estimators=150; total time=   0.7s\n",
      "[CV] END max_depth=None, min_samples_leaf=3, n_estimators=200; total time=   1.0s\n",
      "[CV] END max_depth=None, min_samples_leaf=3, n_estimators=200; total time=   1.0s\n",
      "[CV] END max_depth=None, min_samples_leaf=3, n_estimators=200; total time=   1.0s\n",
      "[CV] END max_depth=None, min_samples_leaf=3, n_estimators=250; total time=   1.3s\n",
      "[CV] END max_depth=None, min_samples_leaf=3, n_estimators=250; total time=   1.4s\n",
      "[CV] END max_depth=None, min_samples_leaf=3, n_estimators=250; total time=   1.4s\n",
      "[CV] END max_depth=None, min_samples_leaf=4, n_estimators=100; total time=   0.5s\n",
      "[CV] END max_depth=None, min_samples_leaf=4, n_estimators=100; total time=   0.5s\n",
      "[CV] END max_depth=None, min_samples_leaf=4, n_estimators=100; total time=   0.4s\n",
      "[CV] END max_depth=None, min_samples_leaf=4, n_estimators=150; total time=   0.8s\n",
      "[CV] END max_depth=None, min_samples_leaf=4, n_estimators=150; total time=   0.7s\n",
      "[CV] END max_depth=None, min_samples_leaf=4, n_estimators=150; total time=   0.7s\n",
      "[CV] END max_depth=None, min_samples_leaf=4, n_estimators=200; total time=   1.0s\n",
      "[CV] END max_depth=None, min_samples_leaf=4, n_estimators=200; total time=   0.9s\n",
      "[CV] END max_depth=None, min_samples_leaf=4, n_estimators=200; total time=   0.9s\n",
      "[CV] END max_depth=None, min_samples_leaf=4, n_estimators=250; total time=   1.2s\n",
      "[CV] END max_depth=None, min_samples_leaf=4, n_estimators=250; total time=   1.4s\n",
      "[CV] END max_depth=None, min_samples_leaf=4, n_estimators=250; total time=   1.5s\n",
      "[CV] END max_depth=None, min_samples_leaf=5, n_estimators=100; total time=   0.5s\n",
      "[CV] END max_depth=None, min_samples_leaf=5, n_estimators=100; total time=   0.5s\n",
      "[CV] END max_depth=None, min_samples_leaf=5, n_estimators=100; total time=   0.5s\n",
      "[CV] END max_depth=None, min_samples_leaf=5, n_estimators=150; total time=   0.8s\n",
      "[CV] END max_depth=None, min_samples_leaf=5, n_estimators=150; total time=   0.8s\n",
      "[CV] END max_depth=None, min_samples_leaf=5, n_estimators=150; total time=   0.8s\n",
      "[CV] END max_depth=None, min_samples_leaf=5, n_estimators=200; total time=   1.1s\n",
      "[CV] END max_depth=None, min_samples_leaf=5, n_estimators=200; total time=   1.1s\n",
      "[CV] END max_depth=None, min_samples_leaf=5, n_estimators=200; total time=   1.0s\n",
      "[CV] END max_depth=None, min_samples_leaf=5, n_estimators=250; total time=   1.3s\n",
      "[CV] END max_depth=None, min_samples_leaf=5, n_estimators=250; total time=   1.3s\n",
      "[CV] END max_depth=None, min_samples_leaf=5, n_estimators=250; total time=   1.3s\n",
      "[CV] END max_depth=None, min_samples_leaf=6, n_estimators=100; total time=   0.5s\n",
      "[CV] END max_depth=None, min_samples_leaf=6, n_estimators=100; total time=   0.5s\n",
      "[CV] END max_depth=None, min_samples_leaf=6, n_estimators=100; total time=   0.5s\n",
      "[CV] END max_depth=None, min_samples_leaf=6, n_estimators=150; total time=   0.7s\n",
      "[CV] END max_depth=None, min_samples_leaf=6, n_estimators=150; total time=   0.7s\n",
      "[CV] END max_depth=None, min_samples_leaf=6, n_estimators=150; total time=   0.7s\n",
      "[CV] END max_depth=None, min_samples_leaf=6, n_estimators=200; total time=   1.0s\n",
      "[CV] END max_depth=None, min_samples_leaf=6, n_estimators=200; total time=   1.0s\n",
      "[CV] END max_depth=None, min_samples_leaf=6, n_estimators=200; total time=   1.1s\n",
      "[CV] END max_depth=None, min_samples_leaf=6, n_estimators=250; total time=   1.3s\n",
      "[CV] END max_depth=None, min_samples_leaf=6, n_estimators=250; total time=   1.4s\n",
      "[CV] END max_depth=None, min_samples_leaf=6, n_estimators=250; total time=   1.3s\n",
      "[CV] END ..max_depth=1, min_samples_leaf=1, n_estimators=100; total time=   0.1s\n",
      "[CV] END ..max_depth=1, min_samples_leaf=1, n_estimators=100; total time=   0.1s\n",
      "[CV] END ..max_depth=1, min_samples_leaf=1, n_estimators=100; total time=   0.1s\n",
      "[CV] END ..max_depth=1, min_samples_leaf=1, n_estimators=150; total time=   0.1s\n",
      "[CV] END ..max_depth=1, min_samples_leaf=1, n_estimators=150; total time=   0.1s\n",
      "[CV] END ..max_depth=1, min_samples_leaf=1, n_estimators=150; total time=   0.1s\n",
      "[CV] END ..max_depth=1, min_samples_leaf=1, n_estimators=200; total time=   0.2s\n",
      "[CV] END ..max_depth=1, min_samples_leaf=1, n_estimators=200; total time=   0.2s\n",
      "[CV] END ..max_depth=1, min_samples_leaf=1, n_estimators=200; total time=   0.2s\n",
      "[CV] END ..max_depth=1, min_samples_leaf=1, n_estimators=250; total time=   0.3s\n",
      "[CV] END ..max_depth=1, min_samples_leaf=1, n_estimators=250; total time=   0.3s\n",
      "[CV] END ..max_depth=1, min_samples_leaf=1, n_estimators=250; total time=   0.3s\n",
      "[CV] END ..max_depth=1, min_samples_leaf=2, n_estimators=100; total time=   0.1s\n",
      "[CV] END ..max_depth=1, min_samples_leaf=2, n_estimators=100; total time=   0.1s\n",
      "[CV] END ..max_depth=1, min_samples_leaf=2, n_estimators=100; total time=   0.1s\n",
      "[CV] END ..max_depth=1, min_samples_leaf=2, n_estimators=150; total time=   0.2s\n",
      "[CV] END ..max_depth=1, min_samples_leaf=2, n_estimators=150; total time=   0.2s\n",
      "[CV] END ..max_depth=1, min_samples_leaf=2, n_estimators=150; total time=   0.2s\n",
      "[CV] END ..max_depth=1, min_samples_leaf=2, n_estimators=200; total time=   0.4s\n",
      "[CV] END ..max_depth=1, min_samples_leaf=2, n_estimators=200; total time=   0.3s\n",
      "[CV] END ..max_depth=1, min_samples_leaf=2, n_estimators=200; total time=   0.2s\n",
      "[CV] END ..max_depth=1, min_samples_leaf=2, n_estimators=250; total time=   0.3s\n",
      "[CV] END ..max_depth=1, min_samples_leaf=2, n_estimators=250; total time=   0.3s\n",
      "[CV] END ..max_depth=1, min_samples_leaf=2, n_estimators=250; total time=   0.3s\n",
      "[CV] END ..max_depth=1, min_samples_leaf=3, n_estimators=100; total time=   0.1s\n",
      "[CV] END ..max_depth=1, min_samples_leaf=3, n_estimators=100; total time=   0.1s\n",
      "[CV] END ..max_depth=1, min_samples_leaf=3, n_estimators=100; total time=   0.1s\n",
      "[CV] END ..max_depth=1, min_samples_leaf=3, n_estimators=150; total time=   0.2s\n"
     ]
    },
    {
     "name": "stdout",
     "output_type": "stream",
     "text": [
      "[CV] END ..max_depth=1, min_samples_leaf=3, n_estimators=150; total time=   0.1s\n",
      "[CV] END ..max_depth=1, min_samples_leaf=3, n_estimators=150; total time=   0.1s\n",
      "[CV] END ..max_depth=1, min_samples_leaf=3, n_estimators=200; total time=   0.2s\n",
      "[CV] END ..max_depth=1, min_samples_leaf=3, n_estimators=200; total time=   0.2s\n",
      "[CV] END ..max_depth=1, min_samples_leaf=3, n_estimators=200; total time=   0.2s\n",
      "[CV] END ..max_depth=1, min_samples_leaf=3, n_estimators=250; total time=   0.3s\n",
      "[CV] END ..max_depth=1, min_samples_leaf=3, n_estimators=250; total time=   0.3s\n",
      "[CV] END ..max_depth=1, min_samples_leaf=3, n_estimators=250; total time=   0.3s\n",
      "[CV] END ..max_depth=1, min_samples_leaf=4, n_estimators=100; total time=   0.1s\n",
      "[CV] END ..max_depth=1, min_samples_leaf=4, n_estimators=100; total time=   0.1s\n",
      "[CV] END ..max_depth=1, min_samples_leaf=4, n_estimators=100; total time=   0.1s\n",
      "[CV] END ..max_depth=1, min_samples_leaf=4, n_estimators=150; total time=   0.1s\n",
      "[CV] END ..max_depth=1, min_samples_leaf=4, n_estimators=150; total time=   0.1s\n",
      "[CV] END ..max_depth=1, min_samples_leaf=4, n_estimators=150; total time=   0.1s\n",
      "[CV] END ..max_depth=1, min_samples_leaf=4, n_estimators=200; total time=   0.2s\n",
      "[CV] END ..max_depth=1, min_samples_leaf=4, n_estimators=200; total time=   0.2s\n",
      "[CV] END ..max_depth=1, min_samples_leaf=4, n_estimators=200; total time=   0.2s\n",
      "[CV] END ..max_depth=1, min_samples_leaf=4, n_estimators=250; total time=   0.3s\n",
      "[CV] END ..max_depth=1, min_samples_leaf=4, n_estimators=250; total time=   0.3s\n",
      "[CV] END ..max_depth=1, min_samples_leaf=4, n_estimators=250; total time=   0.3s\n",
      "[CV] END ..max_depth=1, min_samples_leaf=5, n_estimators=100; total time=   0.1s\n",
      "[CV] END ..max_depth=1, min_samples_leaf=5, n_estimators=100; total time=   0.1s\n",
      "[CV] END ..max_depth=1, min_samples_leaf=5, n_estimators=100; total time=   0.1s\n",
      "[CV] END ..max_depth=1, min_samples_leaf=5, n_estimators=150; total time=   0.1s\n",
      "[CV] END ..max_depth=1, min_samples_leaf=5, n_estimators=150; total time=   0.1s\n",
      "[CV] END ..max_depth=1, min_samples_leaf=5, n_estimators=150; total time=   0.1s\n",
      "[CV] END ..max_depth=1, min_samples_leaf=5, n_estimators=200; total time=   0.2s\n",
      "[CV] END ..max_depth=1, min_samples_leaf=5, n_estimators=200; total time=   0.2s\n",
      "[CV] END ..max_depth=1, min_samples_leaf=5, n_estimators=200; total time=   0.2s\n",
      "[CV] END ..max_depth=1, min_samples_leaf=5, n_estimators=250; total time=   0.3s\n",
      "[CV] END ..max_depth=1, min_samples_leaf=5, n_estimators=250; total time=   0.3s\n",
      "[CV] END ..max_depth=1, min_samples_leaf=5, n_estimators=250; total time=   0.3s\n",
      "[CV] END ..max_depth=1, min_samples_leaf=6, n_estimators=100; total time=   0.1s\n",
      "[CV] END ..max_depth=1, min_samples_leaf=6, n_estimators=100; total time=   0.1s\n",
      "[CV] END ..max_depth=1, min_samples_leaf=6, n_estimators=100; total time=   0.1s\n",
      "[CV] END ..max_depth=1, min_samples_leaf=6, n_estimators=150; total time=   0.1s\n",
      "[CV] END ..max_depth=1, min_samples_leaf=6, n_estimators=150; total time=   0.1s\n",
      "[CV] END ..max_depth=1, min_samples_leaf=6, n_estimators=150; total time=   0.1s\n",
      "[CV] END ..max_depth=1, min_samples_leaf=6, n_estimators=200; total time=   0.2s\n",
      "[CV] END ..max_depth=1, min_samples_leaf=6, n_estimators=200; total time=   0.2s\n",
      "[CV] END ..max_depth=1, min_samples_leaf=6, n_estimators=200; total time=   0.2s\n",
      "[CV] END ..max_depth=1, min_samples_leaf=6, n_estimators=250; total time=   0.3s\n",
      "[CV] END ..max_depth=1, min_samples_leaf=6, n_estimators=250; total time=   0.3s\n",
      "[CV] END ..max_depth=1, min_samples_leaf=6, n_estimators=250; total time=   0.3s\n",
      "[CV] END ..max_depth=2, min_samples_leaf=1, n_estimators=100; total time=   0.1s\n",
      "[CV] END ..max_depth=2, min_samples_leaf=1, n_estimators=100; total time=   0.1s\n",
      "[CV] END ..max_depth=2, min_samples_leaf=1, n_estimators=100; total time=   0.1s\n",
      "[CV] END ..max_depth=2, min_samples_leaf=1, n_estimators=150; total time=   0.2s\n",
      "[CV] END ..max_depth=2, min_samples_leaf=1, n_estimators=150; total time=   0.2s\n",
      "[CV] END ..max_depth=2, min_samples_leaf=1, n_estimators=150; total time=   0.2s\n",
      "[CV] END ..max_depth=2, min_samples_leaf=1, n_estimators=200; total time=   0.3s\n",
      "[CV] END ..max_depth=2, min_samples_leaf=1, n_estimators=200; total time=   0.3s\n",
      "[CV] END ..max_depth=2, min_samples_leaf=1, n_estimators=200; total time=   0.3s\n",
      "[CV] END ..max_depth=2, min_samples_leaf=1, n_estimators=250; total time=   0.4s\n",
      "[CV] END ..max_depth=2, min_samples_leaf=1, n_estimators=250; total time=   0.4s\n",
      "[CV] END ..max_depth=2, min_samples_leaf=1, n_estimators=250; total time=   0.4s\n",
      "[CV] END ..max_depth=2, min_samples_leaf=2, n_estimators=100; total time=   0.1s\n",
      "[CV] END ..max_depth=2, min_samples_leaf=2, n_estimators=100; total time=   0.1s\n",
      "[CV] END ..max_depth=2, min_samples_leaf=2, n_estimators=100; total time=   0.1s\n",
      "[CV] END ..max_depth=2, min_samples_leaf=2, n_estimators=150; total time=   0.2s\n",
      "[CV] END ..max_depth=2, min_samples_leaf=2, n_estimators=150; total time=   0.2s\n",
      "[CV] END ..max_depth=2, min_samples_leaf=2, n_estimators=150; total time=   0.2s\n",
      "[CV] END ..max_depth=2, min_samples_leaf=2, n_estimators=200; total time=   0.3s\n",
      "[CV] END ..max_depth=2, min_samples_leaf=2, n_estimators=200; total time=   0.3s\n",
      "[CV] END ..max_depth=2, min_samples_leaf=2, n_estimators=200; total time=   0.3s\n",
      "[CV] END ..max_depth=2, min_samples_leaf=2, n_estimators=250; total time=   0.4s\n",
      "[CV] END ..max_depth=2, min_samples_leaf=2, n_estimators=250; total time=   0.4s\n",
      "[CV] END ..max_depth=2, min_samples_leaf=2, n_estimators=250; total time=   0.4s\n",
      "[CV] END ..max_depth=2, min_samples_leaf=3, n_estimators=100; total time=   0.1s\n",
      "[CV] END ..max_depth=2, min_samples_leaf=3, n_estimators=100; total time=   0.1s\n",
      "[CV] END ..max_depth=2, min_samples_leaf=3, n_estimators=100; total time=   0.1s\n",
      "[CV] END ..max_depth=2, min_samples_leaf=3, n_estimators=150; total time=   0.2s\n",
      "[CV] END ..max_depth=2, min_samples_leaf=3, n_estimators=150; total time=   0.2s\n",
      "[CV] END ..max_depth=2, min_samples_leaf=3, n_estimators=150; total time=   0.2s\n",
      "[CV] END ..max_depth=2, min_samples_leaf=3, n_estimators=200; total time=   0.3s\n",
      "[CV] END ..max_depth=2, min_samples_leaf=3, n_estimators=200; total time=   0.3s\n",
      "[CV] END ..max_depth=2, min_samples_leaf=3, n_estimators=200; total time=   0.3s\n",
      "[CV] END ..max_depth=2, min_samples_leaf=3, n_estimators=250; total time=   0.4s\n",
      "[CV] END ..max_depth=2, min_samples_leaf=3, n_estimators=250; total time=   0.4s\n",
      "[CV] END ..max_depth=2, min_samples_leaf=3, n_estimators=250; total time=   0.3s\n",
      "[CV] END ..max_depth=2, min_samples_leaf=4, n_estimators=100; total time=   0.1s\n",
      "[CV] END ..max_depth=2, min_samples_leaf=4, n_estimators=100; total time=   0.1s\n",
      "[CV] END ..max_depth=2, min_samples_leaf=4, n_estimators=100; total time=   0.1s\n",
      "[CV] END ..max_depth=2, min_samples_leaf=4, n_estimators=150; total time=   0.2s\n",
      "[CV] END ..max_depth=2, min_samples_leaf=4, n_estimators=150; total time=   0.2s\n",
      "[CV] END ..max_depth=2, min_samples_leaf=4, n_estimators=150; total time=   0.2s\n",
      "[CV] END ..max_depth=2, min_samples_leaf=4, n_estimators=200; total time=   0.3s\n",
      "[CV] END ..max_depth=2, min_samples_leaf=4, n_estimators=200; total time=   0.3s\n",
      "[CV] END ..max_depth=2, min_samples_leaf=4, n_estimators=200; total time=   0.3s\n",
      "[CV] END ..max_depth=2, min_samples_leaf=4, n_estimators=250; total time=   0.4s\n",
      "[CV] END ..max_depth=2, min_samples_leaf=4, n_estimators=250; total time=   0.3s\n",
      "[CV] END ..max_depth=2, min_samples_leaf=4, n_estimators=250; total time=   0.4s\n",
      "[CV] END ..max_depth=2, min_samples_leaf=5, n_estimators=100; total time=   0.1s\n",
      "[CV] END ..max_depth=2, min_samples_leaf=5, n_estimators=100; total time=   0.1s\n",
      "[CV] END ..max_depth=2, min_samples_leaf=5, n_estimators=100; total time=   0.1s\n",
      "[CV] END ..max_depth=2, min_samples_leaf=5, n_estimators=150; total time=   0.2s\n",
      "[CV] END ..max_depth=2, min_samples_leaf=5, n_estimators=150; total time=   0.2s\n",
      "[CV] END ..max_depth=2, min_samples_leaf=5, n_estimators=150; total time=   0.2s\n",
      "[CV] END ..max_depth=2, min_samples_leaf=5, n_estimators=200; total time=   0.3s\n",
      "[CV] END ..max_depth=2, min_samples_leaf=5, n_estimators=200; total time=   0.3s\n",
      "[CV] END ..max_depth=2, min_samples_leaf=5, n_estimators=200; total time=   0.3s\n",
      "[CV] END ..max_depth=2, min_samples_leaf=5, n_estimators=250; total time=   0.4s\n"
     ]
    },
    {
     "name": "stdout",
     "output_type": "stream",
     "text": [
      "[CV] END ..max_depth=2, min_samples_leaf=5, n_estimators=250; total time=   0.4s\n",
      "[CV] END ..max_depth=2, min_samples_leaf=5, n_estimators=250; total time=   0.4s\n",
      "[CV] END ..max_depth=2, min_samples_leaf=6, n_estimators=100; total time=   0.1s\n",
      "[CV] END ..max_depth=2, min_samples_leaf=6, n_estimators=100; total time=   0.1s\n",
      "[CV] END ..max_depth=2, min_samples_leaf=6, n_estimators=100; total time=   0.1s\n",
      "[CV] END ..max_depth=2, min_samples_leaf=6, n_estimators=150; total time=   0.2s\n",
      "[CV] END ..max_depth=2, min_samples_leaf=6, n_estimators=150; total time=   0.2s\n",
      "[CV] END ..max_depth=2, min_samples_leaf=6, n_estimators=150; total time=   0.2s\n",
      "[CV] END ..max_depth=2, min_samples_leaf=6, n_estimators=200; total time=   0.3s\n",
      "[CV] END ..max_depth=2, min_samples_leaf=6, n_estimators=200; total time=   0.3s\n",
      "[CV] END ..max_depth=2, min_samples_leaf=6, n_estimators=200; total time=   0.3s\n",
      "[CV] END ..max_depth=2, min_samples_leaf=6, n_estimators=250; total time=   0.4s\n",
      "[CV] END ..max_depth=2, min_samples_leaf=6, n_estimators=250; total time=   0.3s\n",
      "[CV] END ..max_depth=2, min_samples_leaf=6, n_estimators=250; total time=   0.3s\n",
      "[CV] END ..max_depth=3, min_samples_leaf=1, n_estimators=100; total time=   0.1s\n",
      "[CV] END ..max_depth=3, min_samples_leaf=1, n_estimators=100; total time=   0.1s\n",
      "[CV] END ..max_depth=3, min_samples_leaf=1, n_estimators=100; total time=   0.1s\n",
      "[CV] END ..max_depth=3, min_samples_leaf=1, n_estimators=150; total time=   0.2s\n",
      "[CV] END ..max_depth=3, min_samples_leaf=1, n_estimators=150; total time=   0.2s\n",
      "[CV] END ..max_depth=3, min_samples_leaf=1, n_estimators=150; total time=   0.3s\n",
      "[CV] END ..max_depth=3, min_samples_leaf=1, n_estimators=200; total time=   0.5s\n",
      "[CV] END ..max_depth=3, min_samples_leaf=1, n_estimators=200; total time=   0.3s\n",
      "[CV] END ..max_depth=3, min_samples_leaf=1, n_estimators=200; total time=   0.3s\n",
      "[CV] END ..max_depth=3, min_samples_leaf=1, n_estimators=250; total time=   0.4s\n",
      "[CV] END ..max_depth=3, min_samples_leaf=1, n_estimators=250; total time=   0.4s\n",
      "[CV] END ..max_depth=3, min_samples_leaf=1, n_estimators=250; total time=   0.5s\n",
      "[CV] END ..max_depth=3, min_samples_leaf=2, n_estimators=100; total time=   0.1s\n",
      "[CV] END ..max_depth=3, min_samples_leaf=2, n_estimators=100; total time=   0.1s\n",
      "[CV] END ..max_depth=3, min_samples_leaf=2, n_estimators=100; total time=   0.1s\n",
      "[CV] END ..max_depth=3, min_samples_leaf=2, n_estimators=150; total time=   0.3s\n",
      "[CV] END ..max_depth=3, min_samples_leaf=2, n_estimators=150; total time=   0.2s\n",
      "[CV] END ..max_depth=3, min_samples_leaf=2, n_estimators=150; total time=   0.2s\n",
      "[CV] END ..max_depth=3, min_samples_leaf=2, n_estimators=200; total time=   0.3s\n",
      "[CV] END ..max_depth=3, min_samples_leaf=2, n_estimators=200; total time=   0.3s\n",
      "[CV] END ..max_depth=3, min_samples_leaf=2, n_estimators=200; total time=   0.3s\n",
      "[CV] END ..max_depth=3, min_samples_leaf=2, n_estimators=250; total time=   0.5s\n",
      "[CV] END ..max_depth=3, min_samples_leaf=2, n_estimators=250; total time=   0.4s\n",
      "[CV] END ..max_depth=3, min_samples_leaf=2, n_estimators=250; total time=   0.5s\n",
      "[CV] END ..max_depth=3, min_samples_leaf=3, n_estimators=100; total time=   0.1s\n",
      "[CV] END ..max_depth=3, min_samples_leaf=3, n_estimators=100; total time=   0.1s\n",
      "[CV] END ..max_depth=3, min_samples_leaf=3, n_estimators=100; total time=   0.1s\n",
      "[CV] END ..max_depth=3, min_samples_leaf=3, n_estimators=150; total time=   0.2s\n",
      "[CV] END ..max_depth=3, min_samples_leaf=3, n_estimators=150; total time=   0.2s\n",
      "[CV] END ..max_depth=3, min_samples_leaf=3, n_estimators=150; total time=   0.2s\n",
      "[CV] END ..max_depth=3, min_samples_leaf=3, n_estimators=200; total time=   0.3s\n",
      "[CV] END ..max_depth=3, min_samples_leaf=3, n_estimators=200; total time=   0.3s\n",
      "[CV] END ..max_depth=3, min_samples_leaf=3, n_estimators=200; total time=   0.3s\n",
      "[CV] END ..max_depth=3, min_samples_leaf=3, n_estimators=250; total time=   0.4s\n",
      "[CV] END ..max_depth=3, min_samples_leaf=3, n_estimators=250; total time=   0.4s\n",
      "[CV] END ..max_depth=3, min_samples_leaf=3, n_estimators=250; total time=   0.4s\n",
      "[CV] END ..max_depth=3, min_samples_leaf=4, n_estimators=100; total time=   0.1s\n",
      "[CV] END ..max_depth=3, min_samples_leaf=4, n_estimators=100; total time=   0.1s\n",
      "[CV] END ..max_depth=3, min_samples_leaf=4, n_estimators=100; total time=   0.1s\n",
      "[CV] END ..max_depth=3, min_samples_leaf=4, n_estimators=150; total time=   0.3s\n",
      "[CV] END ..max_depth=3, min_samples_leaf=4, n_estimators=150; total time=   0.2s\n",
      "[CV] END ..max_depth=3, min_samples_leaf=4, n_estimators=150; total time=   0.2s\n",
      "[CV] END ..max_depth=3, min_samples_leaf=4, n_estimators=200; total time=   0.3s\n",
      "[CV] END ..max_depth=3, min_samples_leaf=4, n_estimators=200; total time=   0.3s\n",
      "[CV] END ..max_depth=3, min_samples_leaf=4, n_estimators=200; total time=   0.4s\n",
      "[CV] END ..max_depth=3, min_samples_leaf=4, n_estimators=250; total time=   0.5s\n",
      "[CV] END ..max_depth=3, min_samples_leaf=4, n_estimators=250; total time=   0.4s\n",
      "[CV] END ..max_depth=3, min_samples_leaf=4, n_estimators=250; total time=   0.5s\n",
      "[CV] END ..max_depth=3, min_samples_leaf=5, n_estimators=100; total time=   0.1s\n",
      "[CV] END ..max_depth=3, min_samples_leaf=5, n_estimators=100; total time=   0.1s\n",
      "[CV] END ..max_depth=3, min_samples_leaf=5, n_estimators=100; total time=   0.1s\n",
      "[CV] END ..max_depth=3, min_samples_leaf=5, n_estimators=150; total time=   0.2s\n",
      "[CV] END ..max_depth=3, min_samples_leaf=5, n_estimators=150; total time=   0.3s\n",
      "[CV] END ..max_depth=3, min_samples_leaf=5, n_estimators=150; total time=   0.3s\n",
      "[CV] END ..max_depth=3, min_samples_leaf=5, n_estimators=200; total time=   0.4s\n",
      "[CV] END ..max_depth=3, min_samples_leaf=5, n_estimators=200; total time=   0.3s\n",
      "[CV] END ..max_depth=3, min_samples_leaf=5, n_estimators=200; total time=   0.4s\n",
      "[CV] END ..max_depth=3, min_samples_leaf=5, n_estimators=250; total time=   0.5s\n",
      "[CV] END ..max_depth=3, min_samples_leaf=5, n_estimators=250; total time=   0.5s\n",
      "[CV] END ..max_depth=3, min_samples_leaf=5, n_estimators=250; total time=   0.5s\n",
      "[CV] END ..max_depth=3, min_samples_leaf=6, n_estimators=100; total time=   0.1s\n",
      "[CV] END ..max_depth=3, min_samples_leaf=6, n_estimators=100; total time=   0.1s\n",
      "[CV] END ..max_depth=3, min_samples_leaf=6, n_estimators=100; total time=   0.1s\n",
      "[CV] END ..max_depth=3, min_samples_leaf=6, n_estimators=150; total time=   0.2s\n",
      "[CV] END ..max_depth=3, min_samples_leaf=6, n_estimators=150; total time=   0.2s\n",
      "[CV] END ..max_depth=3, min_samples_leaf=6, n_estimators=150; total time=   0.2s\n",
      "[CV] END ..max_depth=3, min_samples_leaf=6, n_estimators=200; total time=   0.3s\n",
      "[CV] END ..max_depth=3, min_samples_leaf=6, n_estimators=200; total time=   0.3s\n",
      "[CV] END ..max_depth=3, min_samples_leaf=6, n_estimators=200; total time=   0.3s\n",
      "[CV] END ..max_depth=3, min_samples_leaf=6, n_estimators=250; total time=   0.4s\n",
      "[CV] END ..max_depth=3, min_samples_leaf=6, n_estimators=250; total time=   0.4s\n",
      "[CV] END ..max_depth=3, min_samples_leaf=6, n_estimators=250; total time=   0.4s\n",
      "[CV] END ..max_depth=4, min_samples_leaf=1, n_estimators=100; total time=   0.2s\n",
      "[CV] END ..max_depth=4, min_samples_leaf=1, n_estimators=100; total time=   0.2s\n",
      "[CV] END ..max_depth=4, min_samples_leaf=1, n_estimators=100; total time=   0.2s\n",
      "[CV] END ..max_depth=4, min_samples_leaf=1, n_estimators=150; total time=   0.3s\n",
      "[CV] END ..max_depth=4, min_samples_leaf=1, n_estimators=150; total time=   0.3s\n",
      "[CV] END ..max_depth=4, min_samples_leaf=1, n_estimators=150; total time=   0.3s\n",
      "[CV] END ..max_depth=4, min_samples_leaf=1, n_estimators=200; total time=   0.4s\n",
      "[CV] END ..max_depth=4, min_samples_leaf=1, n_estimators=200; total time=   0.4s\n",
      "[CV] END ..max_depth=4, min_samples_leaf=1, n_estimators=200; total time=   0.4s\n",
      "[CV] END ..max_depth=4, min_samples_leaf=1, n_estimators=250; total time=   0.5s\n",
      "[CV] END ..max_depth=4, min_samples_leaf=1, n_estimators=250; total time=   0.5s\n",
      "[CV] END ..max_depth=4, min_samples_leaf=1, n_estimators=250; total time=   0.5s\n",
      "[CV] END ..max_depth=4, min_samples_leaf=2, n_estimators=100; total time=   0.2s\n",
      "[CV] END ..max_depth=4, min_samples_leaf=2, n_estimators=100; total time=   0.2s\n",
      "[CV] END ..max_depth=4, min_samples_leaf=2, n_estimators=100; total time=   0.2s\n",
      "[CV] END ..max_depth=4, min_samples_leaf=2, n_estimators=150; total time=   0.3s\n"
     ]
    },
    {
     "name": "stdout",
     "output_type": "stream",
     "text": [
      "[CV] END ..max_depth=4, min_samples_leaf=2, n_estimators=150; total time=   0.3s\n",
      "[CV] END ..max_depth=4, min_samples_leaf=2, n_estimators=150; total time=   0.3s\n",
      "[CV] END ..max_depth=4, min_samples_leaf=2, n_estimators=200; total time=   0.4s\n",
      "[CV] END ..max_depth=4, min_samples_leaf=2, n_estimators=200; total time=   0.4s\n",
      "[CV] END ..max_depth=4, min_samples_leaf=2, n_estimators=200; total time=   0.4s\n",
      "[CV] END ..max_depth=4, min_samples_leaf=2, n_estimators=250; total time=   0.5s\n",
      "[CV] END ..max_depth=4, min_samples_leaf=2, n_estimators=250; total time=   0.5s\n",
      "[CV] END ..max_depth=4, min_samples_leaf=2, n_estimators=250; total time=   0.5s\n",
      "[CV] END ..max_depth=4, min_samples_leaf=3, n_estimators=100; total time=   0.2s\n",
      "[CV] END ..max_depth=4, min_samples_leaf=3, n_estimators=100; total time=   0.2s\n",
      "[CV] END ..max_depth=4, min_samples_leaf=3, n_estimators=100; total time=   0.2s\n",
      "[CV] END ..max_depth=4, min_samples_leaf=3, n_estimators=150; total time=   0.3s\n",
      "[CV] END ..max_depth=4, min_samples_leaf=3, n_estimators=150; total time=   0.3s\n",
      "[CV] END ..max_depth=4, min_samples_leaf=3, n_estimators=150; total time=   0.3s\n",
      "[CV] END ..max_depth=4, min_samples_leaf=3, n_estimators=200; total time=   0.4s\n",
      "[CV] END ..max_depth=4, min_samples_leaf=3, n_estimators=200; total time=   0.4s\n",
      "[CV] END ..max_depth=4, min_samples_leaf=3, n_estimators=200; total time=   0.4s\n",
      "[CV] END ..max_depth=4, min_samples_leaf=3, n_estimators=250; total time=   0.5s\n",
      "[CV] END ..max_depth=4, min_samples_leaf=3, n_estimators=250; total time=   0.5s\n",
      "[CV] END ..max_depth=4, min_samples_leaf=3, n_estimators=250; total time=   0.5s\n",
      "[CV] END ..max_depth=4, min_samples_leaf=4, n_estimators=100; total time=   0.2s\n",
      "[CV] END ..max_depth=4, min_samples_leaf=4, n_estimators=100; total time=   0.2s\n",
      "[CV] END ..max_depth=4, min_samples_leaf=4, n_estimators=100; total time=   0.1s\n",
      "[CV] END ..max_depth=4, min_samples_leaf=4, n_estimators=150; total time=   0.3s\n",
      "[CV] END ..max_depth=4, min_samples_leaf=4, n_estimators=150; total time=   0.3s\n",
      "[CV] END ..max_depth=4, min_samples_leaf=4, n_estimators=150; total time=   0.3s\n",
      "[CV] END ..max_depth=4, min_samples_leaf=4, n_estimators=200; total time=   0.4s\n",
      "[CV] END ..max_depth=4, min_samples_leaf=4, n_estimators=200; total time=   0.4s\n",
      "[CV] END ..max_depth=4, min_samples_leaf=4, n_estimators=200; total time=   0.4s\n",
      "[CV] END ..max_depth=4, min_samples_leaf=4, n_estimators=250; total time=   0.5s\n",
      "[CV] END ..max_depth=4, min_samples_leaf=4, n_estimators=250; total time=   0.5s\n",
      "[CV] END ..max_depth=4, min_samples_leaf=4, n_estimators=250; total time=   0.5s\n",
      "[CV] END ..max_depth=4, min_samples_leaf=5, n_estimators=100; total time=   0.2s\n",
      "[CV] END ..max_depth=4, min_samples_leaf=5, n_estimators=100; total time=   0.2s\n",
      "[CV] END ..max_depth=4, min_samples_leaf=5, n_estimators=100; total time=   0.2s\n",
      "[CV] END ..max_depth=4, min_samples_leaf=5, n_estimators=150; total time=   0.3s\n",
      "[CV] END ..max_depth=4, min_samples_leaf=5, n_estimators=150; total time=   0.3s\n",
      "[CV] END ..max_depth=4, min_samples_leaf=5, n_estimators=150; total time=   0.3s\n",
      "[CV] END ..max_depth=4, min_samples_leaf=5, n_estimators=200; total time=   0.4s\n",
      "[CV] END ..max_depth=4, min_samples_leaf=5, n_estimators=200; total time=   0.4s\n",
      "[CV] END ..max_depth=4, min_samples_leaf=5, n_estimators=200; total time=   0.4s\n",
      "[CV] END ..max_depth=4, min_samples_leaf=5, n_estimators=250; total time=   0.5s\n",
      "[CV] END ..max_depth=4, min_samples_leaf=5, n_estimators=250; total time=   0.5s\n",
      "[CV] END ..max_depth=4, min_samples_leaf=5, n_estimators=250; total time=   0.5s\n",
      "[CV] END ..max_depth=4, min_samples_leaf=6, n_estimators=100; total time=   0.2s\n",
      "[CV] END ..max_depth=4, min_samples_leaf=6, n_estimators=100; total time=   0.2s\n",
      "[CV] END ..max_depth=4, min_samples_leaf=6, n_estimators=100; total time=   0.2s\n",
      "[CV] END ..max_depth=4, min_samples_leaf=6, n_estimators=150; total time=   0.3s\n",
      "[CV] END ..max_depth=4, min_samples_leaf=6, n_estimators=150; total time=   0.3s\n",
      "[CV] END ..max_depth=4, min_samples_leaf=6, n_estimators=150; total time=   0.3s\n",
      "[CV] END ..max_depth=4, min_samples_leaf=6, n_estimators=200; total time=   0.4s\n",
      "[CV] END ..max_depth=4, min_samples_leaf=6, n_estimators=200; total time=   0.4s\n",
      "[CV] END ..max_depth=4, min_samples_leaf=6, n_estimators=200; total time=   0.4s\n",
      "[CV] END ..max_depth=4, min_samples_leaf=6, n_estimators=250; total time=   0.5s\n",
      "[CV] END ..max_depth=4, min_samples_leaf=6, n_estimators=250; total time=   0.5s\n",
      "[CV] END ..max_depth=4, min_samples_leaf=6, n_estimators=250; total time=   0.5s\n",
      "[CV] END ..max_depth=5, min_samples_leaf=1, n_estimators=100; total time=   0.2s\n",
      "[CV] END ..max_depth=5, min_samples_leaf=1, n_estimators=100; total time=   0.2s\n",
      "[CV] END ..max_depth=5, min_samples_leaf=1, n_estimators=100; total time=   0.2s\n",
      "[CV] END ..max_depth=5, min_samples_leaf=1, n_estimators=150; total time=   0.3s\n",
      "[CV] END ..max_depth=5, min_samples_leaf=1, n_estimators=150; total time=   0.3s\n",
      "[CV] END ..max_depth=5, min_samples_leaf=1, n_estimators=150; total time=   0.3s\n",
      "[CV] END ..max_depth=5, min_samples_leaf=1, n_estimators=200; total time=   0.5s\n",
      "[CV] END ..max_depth=5, min_samples_leaf=1, n_estimators=200; total time=   0.5s\n",
      "[CV] END ..max_depth=5, min_samples_leaf=1, n_estimators=200; total time=   0.5s\n",
      "[CV] END ..max_depth=5, min_samples_leaf=1, n_estimators=250; total time=   0.6s\n",
      "[CV] END ..max_depth=5, min_samples_leaf=1, n_estimators=250; total time=   0.6s\n",
      "[CV] END ..max_depth=5, min_samples_leaf=1, n_estimators=250; total time=   0.6s\n",
      "[CV] END ..max_depth=5, min_samples_leaf=2, n_estimators=100; total time=   0.2s\n",
      "[CV] END ..max_depth=5, min_samples_leaf=2, n_estimators=100; total time=   0.2s\n",
      "[CV] END ..max_depth=5, min_samples_leaf=2, n_estimators=100; total time=   0.2s\n",
      "[CV] END ..max_depth=5, min_samples_leaf=2, n_estimators=150; total time=   0.3s\n",
      "[CV] END ..max_depth=5, min_samples_leaf=2, n_estimators=150; total time=   0.3s\n",
      "[CV] END ..max_depth=5, min_samples_leaf=2, n_estimators=150; total time=   0.4s\n",
      "[CV] END ..max_depth=5, min_samples_leaf=2, n_estimators=200; total time=   0.5s\n",
      "[CV] END ..max_depth=5, min_samples_leaf=2, n_estimators=200; total time=   0.5s\n",
      "[CV] END ..max_depth=5, min_samples_leaf=2, n_estimators=200; total time=   0.5s\n",
      "[CV] END ..max_depth=5, min_samples_leaf=2, n_estimators=250; total time=   0.6s\n",
      "[CV] END ..max_depth=5, min_samples_leaf=2, n_estimators=250; total time=   0.6s\n",
      "[CV] END ..max_depth=5, min_samples_leaf=2, n_estimators=250; total time=   0.6s\n",
      "[CV] END ..max_depth=5, min_samples_leaf=3, n_estimators=100; total time=   0.2s\n",
      "[CV] END ..max_depth=5, min_samples_leaf=3, n_estimators=100; total time=   0.2s\n",
      "[CV] END ..max_depth=5, min_samples_leaf=3, n_estimators=100; total time=   0.2s\n",
      "[CV] END ..max_depth=5, min_samples_leaf=3, n_estimators=150; total time=   0.3s\n",
      "[CV] END ..max_depth=5, min_samples_leaf=3, n_estimators=150; total time=   0.3s\n",
      "[CV] END ..max_depth=5, min_samples_leaf=3, n_estimators=150; total time=   0.3s\n",
      "[CV] END ..max_depth=5, min_samples_leaf=3, n_estimators=200; total time=   0.5s\n",
      "[CV] END ..max_depth=5, min_samples_leaf=3, n_estimators=200; total time=   0.5s\n",
      "[CV] END ..max_depth=5, min_samples_leaf=3, n_estimators=200; total time=   0.5s\n",
      "[CV] END ..max_depth=5, min_samples_leaf=3, n_estimators=250; total time=   0.7s\n",
      "[CV] END ..max_depth=5, min_samples_leaf=3, n_estimators=250; total time=   0.7s\n",
      "[CV] END ..max_depth=5, min_samples_leaf=3, n_estimators=250; total time=   0.7s\n",
      "[CV] END ..max_depth=5, min_samples_leaf=4, n_estimators=100; total time=   0.2s\n",
      "[CV] END ..max_depth=5, min_samples_leaf=4, n_estimators=100; total time=   0.2s\n",
      "[CV] END ..max_depth=5, min_samples_leaf=4, n_estimators=100; total time=   0.2s\n",
      "[CV] END ..max_depth=5, min_samples_leaf=4, n_estimators=150; total time=   0.4s\n",
      "[CV] END ..max_depth=5, min_samples_leaf=4, n_estimators=150; total time=   0.4s\n",
      "[CV] END ..max_depth=5, min_samples_leaf=4, n_estimators=150; total time=   0.3s\n",
      "[CV] END ..max_depth=5, min_samples_leaf=4, n_estimators=200; total time=   0.5s\n",
      "[CV] END ..max_depth=5, min_samples_leaf=4, n_estimators=200; total time=   0.5s\n",
      "[CV] END ..max_depth=5, min_samples_leaf=4, n_estimators=200; total time=   0.5s\n",
      "[CV] END ..max_depth=5, min_samples_leaf=4, n_estimators=250; total time=   0.6s\n"
     ]
    },
    {
     "name": "stdout",
     "output_type": "stream",
     "text": [
      "[CV] END ..max_depth=5, min_samples_leaf=4, n_estimators=250; total time=   0.6s\n",
      "[CV] END ..max_depth=5, min_samples_leaf=4, n_estimators=250; total time=   0.6s\n",
      "[CV] END ..max_depth=5, min_samples_leaf=5, n_estimators=100; total time=   0.2s\n",
      "[CV] END ..max_depth=5, min_samples_leaf=5, n_estimators=100; total time=   0.2s\n",
      "[CV] END ..max_depth=5, min_samples_leaf=5, n_estimators=100; total time=   0.2s\n",
      "[CV] END ..max_depth=5, min_samples_leaf=5, n_estimators=150; total time=   0.3s\n",
      "[CV] END ..max_depth=5, min_samples_leaf=5, n_estimators=150; total time=   0.3s\n",
      "[CV] END ..max_depth=5, min_samples_leaf=5, n_estimators=150; total time=   0.3s\n",
      "[CV] END ..max_depth=5, min_samples_leaf=5, n_estimators=200; total time=   0.5s\n",
      "[CV] END ..max_depth=5, min_samples_leaf=5, n_estimators=200; total time=   0.5s\n",
      "[CV] END ..max_depth=5, min_samples_leaf=5, n_estimators=200; total time=   0.5s\n",
      "[CV] END ..max_depth=5, min_samples_leaf=5, n_estimators=250; total time=   0.6s\n",
      "[CV] END ..max_depth=5, min_samples_leaf=5, n_estimators=250; total time=   0.6s\n",
      "[CV] END ..max_depth=5, min_samples_leaf=5, n_estimators=250; total time=   0.6s\n",
      "[CV] END ..max_depth=5, min_samples_leaf=6, n_estimators=100; total time=   0.2s\n",
      "[CV] END ..max_depth=5, min_samples_leaf=6, n_estimators=100; total time=   0.2s\n",
      "[CV] END ..max_depth=5, min_samples_leaf=6, n_estimators=100; total time=   0.2s\n",
      "[CV] END ..max_depth=5, min_samples_leaf=6, n_estimators=150; total time=   0.3s\n",
      "[CV] END ..max_depth=5, min_samples_leaf=6, n_estimators=150; total time=   0.3s\n",
      "[CV] END ..max_depth=5, min_samples_leaf=6, n_estimators=150; total time=   0.3s\n",
      "[CV] END ..max_depth=5, min_samples_leaf=6, n_estimators=200; total time=   0.5s\n",
      "[CV] END ..max_depth=5, min_samples_leaf=6, n_estimators=200; total time=   0.5s\n",
      "[CV] END ..max_depth=5, min_samples_leaf=6, n_estimators=200; total time=   0.5s\n",
      "[CV] END ..max_depth=5, min_samples_leaf=6, n_estimators=250; total time=   0.6s\n",
      "[CV] END ..max_depth=5, min_samples_leaf=6, n_estimators=250; total time=   0.6s\n",
      "[CV] END ..max_depth=5, min_samples_leaf=6, n_estimators=250; total time=   0.6s\n",
      "[CV] END ..max_depth=6, min_samples_leaf=1, n_estimators=100; total time=   0.2s\n",
      "[CV] END ..max_depth=6, min_samples_leaf=1, n_estimators=100; total time=   0.2s\n",
      "[CV] END ..max_depth=6, min_samples_leaf=1, n_estimators=100; total time=   0.2s\n",
      "[CV] END ..max_depth=6, min_samples_leaf=1, n_estimators=150; total time=   0.4s\n",
      "[CV] END ..max_depth=6, min_samples_leaf=1, n_estimators=150; total time=   0.4s\n",
      "[CV] END ..max_depth=6, min_samples_leaf=1, n_estimators=150; total time=   0.4s\n",
      "[CV] END ..max_depth=6, min_samples_leaf=1, n_estimators=200; total time=   0.5s\n",
      "[CV] END ..max_depth=6, min_samples_leaf=1, n_estimators=200; total time=   0.5s\n",
      "[CV] END ..max_depth=6, min_samples_leaf=1, n_estimators=200; total time=   0.6s\n",
      "[CV] END ..max_depth=6, min_samples_leaf=1, n_estimators=250; total time=   0.7s\n",
      "[CV] END ..max_depth=6, min_samples_leaf=1, n_estimators=250; total time=   0.7s\n",
      "[CV] END ..max_depth=6, min_samples_leaf=1, n_estimators=250; total time=   0.7s\n",
      "[CV] END ..max_depth=6, min_samples_leaf=2, n_estimators=100; total time=   0.2s\n",
      "[CV] END ..max_depth=6, min_samples_leaf=2, n_estimators=100; total time=   0.2s\n",
      "[CV] END ..max_depth=6, min_samples_leaf=2, n_estimators=100; total time=   0.2s\n",
      "[CV] END ..max_depth=6, min_samples_leaf=2, n_estimators=150; total time=   0.4s\n",
      "[CV] END ..max_depth=6, min_samples_leaf=2, n_estimators=150; total time=   0.4s\n",
      "[CV] END ..max_depth=6, min_samples_leaf=2, n_estimators=150; total time=   0.4s\n",
      "[CV] END ..max_depth=6, min_samples_leaf=2, n_estimators=200; total time=   0.6s\n",
      "[CV] END ..max_depth=6, min_samples_leaf=2, n_estimators=200; total time=   0.6s\n",
      "[CV] END ..max_depth=6, min_samples_leaf=2, n_estimators=200; total time=   0.6s\n",
      "[CV] END ..max_depth=6, min_samples_leaf=2, n_estimators=250; total time=   0.7s\n",
      "[CV] END ..max_depth=6, min_samples_leaf=2, n_estimators=250; total time=   0.7s\n",
      "[CV] END ..max_depth=6, min_samples_leaf=2, n_estimators=250; total time=   0.7s\n",
      "[CV] END ..max_depth=6, min_samples_leaf=3, n_estimators=100; total time=   0.2s\n",
      "[CV] END ..max_depth=6, min_samples_leaf=3, n_estimators=100; total time=   0.2s\n",
      "[CV] END ..max_depth=6, min_samples_leaf=3, n_estimators=100; total time=   0.2s\n",
      "[CV] END ..max_depth=6, min_samples_leaf=3, n_estimators=150; total time=   0.4s\n",
      "[CV] END ..max_depth=6, min_samples_leaf=3, n_estimators=150; total time=   0.4s\n",
      "[CV] END ..max_depth=6, min_samples_leaf=3, n_estimators=150; total time=   0.4s\n",
      "[CV] END ..max_depth=6, min_samples_leaf=3, n_estimators=200; total time=   0.6s\n",
      "[CV] END ..max_depth=6, min_samples_leaf=3, n_estimators=200; total time=   0.5s\n",
      "[CV] END ..max_depth=6, min_samples_leaf=3, n_estimators=200; total time=   0.6s\n",
      "[CV] END ..max_depth=6, min_samples_leaf=3, n_estimators=250; total time=   0.7s\n",
      "[CV] END ..max_depth=6, min_samples_leaf=3, n_estimators=250; total time=   0.7s\n",
      "[CV] END ..max_depth=6, min_samples_leaf=3, n_estimators=250; total time=   0.7s\n",
      "[CV] END ..max_depth=6, min_samples_leaf=4, n_estimators=100; total time=   0.2s\n",
      "[CV] END ..max_depth=6, min_samples_leaf=4, n_estimators=100; total time=   0.2s\n",
      "[CV] END ..max_depth=6, min_samples_leaf=4, n_estimators=100; total time=   0.2s\n",
      "[CV] END ..max_depth=6, min_samples_leaf=4, n_estimators=150; total time=   0.4s\n",
      "[CV] END ..max_depth=6, min_samples_leaf=4, n_estimators=150; total time=   0.4s\n",
      "[CV] END ..max_depth=6, min_samples_leaf=4, n_estimators=150; total time=   0.4s\n",
      "[CV] END ..max_depth=6, min_samples_leaf=4, n_estimators=200; total time=   0.5s\n",
      "[CV] END ..max_depth=6, min_samples_leaf=4, n_estimators=200; total time=   0.6s\n",
      "[CV] END ..max_depth=6, min_samples_leaf=4, n_estimators=200; total time=   0.5s\n",
      "[CV] END ..max_depth=6, min_samples_leaf=4, n_estimators=250; total time=   0.7s\n",
      "[CV] END ..max_depth=6, min_samples_leaf=4, n_estimators=250; total time=   0.7s\n",
      "[CV] END ..max_depth=6, min_samples_leaf=4, n_estimators=250; total time=   0.7s\n",
      "[CV] END ..max_depth=6, min_samples_leaf=5, n_estimators=100; total time=   0.2s\n",
      "[CV] END ..max_depth=6, min_samples_leaf=5, n_estimators=100; total time=   0.2s\n",
      "[CV] END ..max_depth=6, min_samples_leaf=5, n_estimators=100; total time=   0.2s\n",
      "[CV] END ..max_depth=6, min_samples_leaf=5, n_estimators=150; total time=   0.4s\n",
      "[CV] END ..max_depth=6, min_samples_leaf=5, n_estimators=150; total time=   0.4s\n",
      "[CV] END ..max_depth=6, min_samples_leaf=5, n_estimators=150; total time=   0.4s\n",
      "[CV] END ..max_depth=6, min_samples_leaf=5, n_estimators=200; total time=   0.5s\n",
      "[CV] END ..max_depth=6, min_samples_leaf=5, n_estimators=200; total time=   0.5s\n",
      "[CV] END ..max_depth=6, min_samples_leaf=5, n_estimators=200; total time=   0.5s\n",
      "[CV] END ..max_depth=6, min_samples_leaf=5, n_estimators=250; total time=   0.7s\n",
      "[CV] END ..max_depth=6, min_samples_leaf=5, n_estimators=250; total time=   0.7s\n",
      "[CV] END ..max_depth=6, min_samples_leaf=5, n_estimators=250; total time=   0.7s\n",
      "[CV] END ..max_depth=6, min_samples_leaf=6, n_estimators=100; total time=   0.2s\n",
      "[CV] END ..max_depth=6, min_samples_leaf=6, n_estimators=100; total time=   0.2s\n",
      "[CV] END ..max_depth=6, min_samples_leaf=6, n_estimators=100; total time=   0.2s\n",
      "[CV] END ..max_depth=6, min_samples_leaf=6, n_estimators=150; total time=   0.4s\n",
      "[CV] END ..max_depth=6, min_samples_leaf=6, n_estimators=150; total time=   0.4s\n",
      "[CV] END ..max_depth=6, min_samples_leaf=6, n_estimators=150; total time=   0.4s\n",
      "[CV] END ..max_depth=6, min_samples_leaf=6, n_estimators=200; total time=   0.6s\n",
      "[CV] END ..max_depth=6, min_samples_leaf=6, n_estimators=200; total time=   0.5s\n",
      "[CV] END ..max_depth=6, min_samples_leaf=6, n_estimators=200; total time=   0.5s\n",
      "[CV] END ..max_depth=6, min_samples_leaf=6, n_estimators=250; total time=   0.7s\n",
      "[CV] END ..max_depth=6, min_samples_leaf=6, n_estimators=250; total time=   0.7s\n",
      "[CV] END ..max_depth=6, min_samples_leaf=6, n_estimators=250; total time=   0.7s\n"
     ]
    },
    {
     "data": {
      "text/plain": [
       "GridSearchCV(cv=3, estimator=RandomForestClassifier(random_state=17),\n",
       "             param_grid={'max_depth': [None, 1, 2, 3, 4, 5, 6],\n",
       "                         'min_samples_leaf': [1, 2, 3, 4, 5, 6],\n",
       "                         'n_estimators': [100, 150, 200, 250]},\n",
       "             verbose=2)"
      ]
     },
     "execution_count": 122,
     "metadata": {},
     "output_type": "execute_result"
    }
   ],
   "source": [
    "gs.fit(X_train, y_train)"
   ]
  },
  {
   "cell_type": "code",
   "execution_count": 123,
   "id": "d0d10f6f",
   "metadata": {},
   "outputs": [
    {
     "data": {
      "text/plain": [
       "{'max_depth': None, 'min_samples_leaf': 1, 'n_estimators': 250}"
      ]
     },
     "execution_count": 123,
     "metadata": {},
     "output_type": "execute_result"
    }
   ],
   "source": [
    "gs.best_params_"
   ]
  },
  {
   "cell_type": "code",
   "execution_count": 124,
   "id": "8fcaa91e",
   "metadata": {},
   "outputs": [
    {
     "data": {
      "text/plain": [
       "0.8756048636674092"
      ]
     },
     "execution_count": 124,
     "metadata": {},
     "output_type": "execute_result"
    }
   ],
   "source": [
    "gs.best_score_"
   ]
  },
  {
   "cell_type": "code",
   "execution_count": 125,
   "id": "955efbf8",
   "metadata": {},
   "outputs": [],
   "source": [
    "y_pred = gs.predict(X_test)"
   ]
  },
  {
   "cell_type": "code",
   "execution_count": 126,
   "id": "b9445486",
   "metadata": {},
   "outputs": [
    {
     "data": {
      "text/plain": [
       "0.9079497907949791"
      ]
     },
     "execution_count": 126,
     "metadata": {},
     "output_type": "execute_result"
    }
   ],
   "source": [
    "metrics.accuracy_score(y_test, y_pred)"
   ]
  },
  {
   "cell_type": "markdown",
   "id": "af6acfb8",
   "metadata": {},
   "source": [
    "##### Random forest classifier with Grid search CV \n",
    "###### best_param: max_depth: None, min_samples_leaf:1 and tress: 250 \n",
    "###### Test accuracy is 90.8%"
   ]
  },
  {
   "cell_type": "markdown",
   "id": "f7fb2214",
   "metadata": {},
   "source": [
    "### FINAL: Use the best parameters found using Gridsearch and use cross validation"
   ]
  },
  {
   "cell_type": "code",
   "execution_count": 127,
   "id": "02a6eeeb",
   "metadata": {},
   "outputs": [],
   "source": [
    "kfold = model_selection.KFold(n_splits=10, shuffle=True, random_state=17)\n",
    "rfclr4 = RandomForestClassifier(random_state=17, n_estimators=250, min_samples_leaf=1, max_depth=None)\n",
    "rf_results_2 = model_selection.cross_val_score(rfclr4, X, Y, cv=kfold)"
   ]
  },
  {
   "cell_type": "code",
   "execution_count": 128,
   "id": "18d10611",
   "metadata": {},
   "outputs": [
    {
     "data": {
      "text/plain": [
       "array([0.92573222, 0.92991632, 0.92468619, 0.93305439, 0.91945607,\n",
       "       0.94037657, 0.92677824, 0.93298429, 0.9486911 , 0.94031414])"
      ]
     },
     "execution_count": 128,
     "metadata": {},
     "output_type": "execute_result"
    }
   ],
   "source": [
    "rf_results_2"
   ]
  },
  {
   "cell_type": "code",
   "execution_count": 129,
   "id": "76f68a91",
   "metadata": {},
   "outputs": [
    {
     "name": "stdout",
     "output_type": "stream",
     "text": [
      "Test Accuracy of Random forest classifier is  0.9321989528795811\n"
     ]
    }
   ],
   "source": [
    "print('Test Accuracy of Random forest classifier is ', rf_results_2.mean())"
   ]
  },
  {
   "cell_type": "code",
   "execution_count": 159,
   "id": "0f8f3cc4",
   "metadata": {},
   "outputs": [
    {
     "name": "stdout",
     "output_type": "stream",
     "text": [
      "Train accuracy is 1.0\n",
      "Test  accuracy is 0.9079497907949791\n"
     ]
    }
   ],
   "source": [
    "rfclr4.fit(X_train, y_train)\n",
    "print('Train accuracy is {}'.format(rfclr4.score(X_train, y_train)))\n",
    "print('Test  accuracy is {}'.format(rfclr4.score(X_test, y_test)))"
   ]
  },
  {
   "cell_type": "markdown",
   "id": "18050dc3",
   "metadata": {},
   "source": [
    "### Plot the feature importance graph"
   ]
  },
  {
   "cell_type": "code",
   "execution_count": 186,
   "id": "94d06b65",
   "metadata": {},
   "outputs": [
    {
     "data": {
      "text/plain": [
       "array([2.02536958e-03, 1.99709501e-02, 1.27269951e-03, 5.39301245e-04,\n",
       "       3.58410903e-03, 1.00808765e-02, 9.64514666e-03, 1.54878036e-02,\n",
       "       1.52428314e-02, 1.17761803e-02, 1.24711403e-02, 1.50270118e-02,\n",
       "       1.55519070e-02, 1.51643886e-02, 1.04334875e-02, 1.03829568e-02,\n",
       "       1.17255530e-02, 1.57292304e-02, 1.01228335e-02, 1.10391285e-02,\n",
       "       5.26668886e-03, 7.81267342e-03, 1.00966934e-03, 6.13267927e-03,\n",
       "       6.93478112e-04, 1.28782700e-04, 7.48670998e-05, 1.04498417e-02,\n",
       "       6.90930756e-03, 1.84984588e-05, 5.40382856e-05, 1.03239422e-03,\n",
       "       4.18256295e-03, 1.62581351e-03, 1.01971831e-03, 3.33082931e-04,\n",
       "       5.71135021e-06, 1.64024074e-02, 2.13183042e-03, 1.70155235e-03,\n",
       "       4.19951834e-04, 4.64325604e-03, 1.45835473e-05, 1.34983781e-04,\n",
       "       4.86143955e-03, 3.23251035e-04, 5.25408701e-03, 5.87320114e-03,\n",
       "       1.53193243e-03, 2.93990004e-04, 3.53811839e-04, 7.56386321e-03,\n",
       "       8.15999890e-03, 4.25831564e-03, 5.04248293e-03, 1.91751335e-03,\n",
       "       4.42990541e-03, 8.88782181e-05, 3.47159215e-05, 5.15355560e-03,\n",
       "       7.07848420e-03, 1.08191649e-02, 6.40847164e-03, 7.50251905e-03,\n",
       "       1.00567192e-02, 5.88751534e-03, 6.88245243e-03, 1.11553309e-02,\n",
       "       2.47912126e-03, 3.15001916e-03, 3.34176161e-03, 1.14132834e-03,\n",
       "       3.06424532e-03, 3.71606234e-03, 8.69102344e-04, 2.09431152e-03,\n",
       "       1.43747567e-03, 3.33884124e-03, 2.46459557e-03, 2.19566508e-03,\n",
       "       2.73331714e-03, 7.32481245e-04, 2.08518675e-04, 1.61888927e-03,\n",
       "       3.97366373e-04, 7.64796152e-05, 5.49245920e-04, 1.36868952e-04,\n",
       "       5.22874369e-04, 2.51341091e-04, 1.94840121e-02, 1.26353807e-02,\n",
       "       6.58141908e-03, 1.03223140e-02, 2.75707676e-02, 2.18282348e-02,\n",
       "       1.59636634e-02, 5.01659607e-02, 1.86666740e-03, 3.23773669e-03,\n",
       "       2.63897459e-03, 2.73660786e-03, 1.63856161e-03, 1.24227217e-03,\n",
       "       4.65325525e-04, 1.95429763e-03, 3.04688238e-05, 1.28794088e-02,\n",
       "       2.45318442e-02, 8.06146323e-03, 3.64811861e-03, 6.34698379e-03,\n",
       "       1.71265587e-03, 5.56570083e-03, 2.65402851e-03, 7.74470829e-03,\n",
       "       2.63509172e-03, 2.37822588e-02, 8.71991940e-03, 4.35168660e-03,\n",
       "       5.88804700e-03, 5.06305602e-03, 5.99004452e-03, 3.69036484e-03,\n",
       "       7.46132032e-03, 7.67476494e-03, 1.79057361e-02, 1.57281514e-02,\n",
       "       1.84180272e-02, 1.00885382e-02, 2.18451250e-02, 1.93960139e-02,\n",
       "       2.36285885e-02, 2.90742365e-02, 5.03066141e-02, 1.79220472e-02])"
      ]
     },
     "execution_count": 186,
     "metadata": {},
     "output_type": "execute_result"
    }
   ],
   "source": [
    "feature_imp = rfclr4.feature_importances_\n",
    "#print(type(feature_imp))\n",
    "feature_imp"
   ]
  },
  {
   "cell_type": "code",
   "execution_count": 175,
   "id": "ad1677c8",
   "metadata": {},
   "outputs": [
    {
     "data": {
      "text/plain": [
       "(136,)"
      ]
     },
     "execution_count": 175,
     "metadata": {},
     "output_type": "execute_result"
    }
   ],
   "source": [
    "feature_imp.shape"
   ]
  },
  {
   "cell_type": "code",
   "execution_count": 182,
   "id": "2774eddf",
   "metadata": {},
   "outputs": [],
   "source": [
    "ft = list(feature_imp)\n",
    "cl = list(X.columns)"
   ]
  },
  {
   "cell_type": "code",
   "execution_count": 187,
   "id": "09e949f1",
   "metadata": {},
   "outputs": [],
   "source": [
    "mapped = list(zip(ft, cl))"
   ]
  },
  {
   "cell_type": "code",
   "execution_count": 195,
   "id": "956297fa",
   "metadata": {},
   "outputs": [],
   "source": [
    "ft_imp_df = pd.DataFrame(mapped, columns=['Feature_imp_score', 'Feature_Name'])\n",
    "ft_imp_df = ft_imp_df.sort_values('Feature_imp_score', ascending=False)"
   ]
  },
  {
   "cell_type": "code",
   "execution_count": 199,
   "id": "7ccc13d7",
   "metadata": {},
   "outputs": [
    {
     "data": {
      "text/html": [
       "<div>\n",
       "<style scoped>\n",
       "    .dataframe tbody tr th:only-of-type {\n",
       "        vertical-align: middle;\n",
       "    }\n",
       "\n",
       "    .dataframe tbody tr th {\n",
       "        vertical-align: top;\n",
       "    }\n",
       "\n",
       "    .dataframe thead th {\n",
       "        text-align: right;\n",
       "    }\n",
       "</style>\n",
       "<table border=\"1\" class=\"dataframe\">\n",
       "  <thead>\n",
       "    <tr style=\"text-align: right;\">\n",
       "      <th></th>\n",
       "      <th>Feature_imp_score</th>\n",
       "      <th>Feature_Name</th>\n",
       "    </tr>\n",
       "  </thead>\n",
       "  <tbody>\n",
       "    <tr>\n",
       "      <th>134</th>\n",
       "      <td>0.050307</td>\n",
       "      <td>SQBmeaned</td>\n",
       "    </tr>\n",
       "    <tr>\n",
       "      <th>97</th>\n",
       "      <td>0.050166</td>\n",
       "      <td>meaneduc</td>\n",
       "    </tr>\n",
       "    <tr>\n",
       "      <th>133</th>\n",
       "      <td>0.029074</td>\n",
       "      <td>SQBdependency</td>\n",
       "    </tr>\n",
       "    <tr>\n",
       "      <th>94</th>\n",
       "      <td>0.027571</td>\n",
       "      <td>dependency</td>\n",
       "    </tr>\n",
       "    <tr>\n",
       "      <th>108</th>\n",
       "      <td>0.024532</td>\n",
       "      <td>overcrowding</td>\n",
       "    </tr>\n",
       "    <tr>\n",
       "      <th>117</th>\n",
       "      <td>0.023782</td>\n",
       "      <td>qmobilephone</td>\n",
       "    </tr>\n",
       "    <tr>\n",
       "      <th>132</th>\n",
       "      <td>0.023629</td>\n",
       "      <td>SQBovercrowding</td>\n",
       "    </tr>\n",
       "    <tr>\n",
       "      <th>130</th>\n",
       "      <td>0.021845</td>\n",
       "      <td>SQBedjefe</td>\n",
       "    </tr>\n",
       "    <tr>\n",
       "      <th>95</th>\n",
       "      <td>0.021828</td>\n",
       "      <td>edjefe</td>\n",
       "    </tr>\n",
       "    <tr>\n",
       "      <th>1</th>\n",
       "      <td>0.019971</td>\n",
       "      <td>rooms</td>\n",
       "    </tr>\n",
       "    <tr>\n",
       "      <th>90</th>\n",
       "      <td>0.019484</td>\n",
       "      <td>hogar_nin</td>\n",
       "    </tr>\n",
       "    <tr>\n",
       "      <th>131</th>\n",
       "      <td>0.019396</td>\n",
       "      <td>SQBhogar_nin</td>\n",
       "    </tr>\n",
       "    <tr>\n",
       "      <th>128</th>\n",
       "      <td>0.018418</td>\n",
       "      <td>SQBage</td>\n",
       "    </tr>\n",
       "    <tr>\n",
       "      <th>135</th>\n",
       "      <td>0.017922</td>\n",
       "      <td>agesq</td>\n",
       "    </tr>\n",
       "    <tr>\n",
       "      <th>126</th>\n",
       "      <td>0.017906</td>\n",
       "      <td>age</td>\n",
       "    </tr>\n",
       "    <tr>\n",
       "      <th>37</th>\n",
       "      <td>0.016402</td>\n",
       "      <td>cielorazo</td>\n",
       "    </tr>\n",
       "    <tr>\n",
       "      <th>96</th>\n",
       "      <td>0.015964</td>\n",
       "      <td>edjefa</td>\n",
       "    </tr>\n",
       "    <tr>\n",
       "      <th>17</th>\n",
       "      <td>0.015729</td>\n",
       "      <td>escolari</td>\n",
       "    </tr>\n",
       "    <tr>\n",
       "      <th>127</th>\n",
       "      <td>0.015728</td>\n",
       "      <td>SQBescolari</td>\n",
       "    </tr>\n",
       "    <tr>\n",
       "      <th>12</th>\n",
       "      <td>0.015552</td>\n",
       "      <td>r4t1</td>\n",
       "    </tr>\n",
       "    <tr>\n",
       "      <th>7</th>\n",
       "      <td>0.015488</td>\n",
       "      <td>r4h2</td>\n",
       "    </tr>\n",
       "    <tr>\n",
       "      <th>8</th>\n",
       "      <td>0.015243</td>\n",
       "      <td>r4h3</td>\n",
       "    </tr>\n",
       "    <tr>\n",
       "      <th>13</th>\n",
       "      <td>0.015164</td>\n",
       "      <td>r4t2</td>\n",
       "    </tr>\n",
       "    <tr>\n",
       "      <th>11</th>\n",
       "      <td>0.015027</td>\n",
       "      <td>r4m3</td>\n",
       "    </tr>\n",
       "    <tr>\n",
       "      <th>107</th>\n",
       "      <td>0.012879</td>\n",
       "      <td>bedrooms</td>\n",
       "    </tr>\n",
       "    <tr>\n",
       "      <th>91</th>\n",
       "      <td>0.012635</td>\n",
       "      <td>hogar_adul</td>\n",
       "    </tr>\n",
       "    <tr>\n",
       "      <th>10</th>\n",
       "      <td>0.012471</td>\n",
       "      <td>r4m2</td>\n",
       "    </tr>\n",
       "    <tr>\n",
       "      <th>9</th>\n",
       "      <td>0.011776</td>\n",
       "      <td>r4m1</td>\n",
       "    </tr>\n",
       "    <tr>\n",
       "      <th>16</th>\n",
       "      <td>0.011726</td>\n",
       "      <td>tamviv</td>\n",
       "    </tr>\n",
       "    <tr>\n",
       "      <th>67</th>\n",
       "      <td>0.011155</td>\n",
       "      <td>eviv3</td>\n",
       "    </tr>\n",
       "    <tr>\n",
       "      <th>19</th>\n",
       "      <td>0.011039</td>\n",
       "      <td>paredblolad</td>\n",
       "    </tr>\n",
       "    <tr>\n",
       "      <th>61</th>\n",
       "      <td>0.010819</td>\n",
       "      <td>epared3</td>\n",
       "    </tr>\n",
       "    <tr>\n",
       "      <th>27</th>\n",
       "      <td>0.010450</td>\n",
       "      <td>pisomoscer</td>\n",
       "    </tr>\n",
       "    <tr>\n",
       "      <th>14</th>\n",
       "      <td>0.010433</td>\n",
       "      <td>r4t3</td>\n",
       "    </tr>\n",
       "    <tr>\n",
       "      <th>15</th>\n",
       "      <td>0.010383</td>\n",
       "      <td>tamhog</td>\n",
       "    </tr>\n",
       "    <tr>\n",
       "      <th>93</th>\n",
       "      <td>0.010322</td>\n",
       "      <td>hogar_total</td>\n",
       "    </tr>\n",
       "    <tr>\n",
       "      <th>18</th>\n",
       "      <td>0.010123</td>\n",
       "      <td>hhsize</td>\n",
       "    </tr>\n",
       "    <tr>\n",
       "      <th>129</th>\n",
       "      <td>0.010089</td>\n",
       "      <td>SQBhogar_total</td>\n",
       "    </tr>\n",
       "    <tr>\n",
       "      <th>5</th>\n",
       "      <td>0.010081</td>\n",
       "      <td>v18q</td>\n",
       "    </tr>\n",
       "    <tr>\n",
       "      <th>64</th>\n",
       "      <td>0.010057</td>\n",
       "      <td>etecho3</td>\n",
       "    </tr>\n",
       "    <tr>\n",
       "      <th>6</th>\n",
       "      <td>0.009645</td>\n",
       "      <td>r4h1</td>\n",
       "    </tr>\n",
       "    <tr>\n",
       "      <th>118</th>\n",
       "      <td>0.008720</td>\n",
       "      <td>lugar1</td>\n",
       "    </tr>\n",
       "    <tr>\n",
       "      <th>52</th>\n",
       "      <td>0.008160</td>\n",
       "      <td>energcocinar3</td>\n",
       "    </tr>\n",
       "    <tr>\n",
       "      <th>109</th>\n",
       "      <td>0.008061</td>\n",
       "      <td>tipovivi1</td>\n",
       "    </tr>\n",
       "    <tr>\n",
       "      <th>21</th>\n",
       "      <td>0.007813</td>\n",
       "      <td>paredpreb</td>\n",
       "    </tr>\n",
       "    <tr>\n",
       "      <th>115</th>\n",
       "      <td>0.007745</td>\n",
       "      <td>television</td>\n",
       "    </tr>\n",
       "    <tr>\n",
       "      <th>125</th>\n",
       "      <td>0.007675</td>\n",
       "      <td>area2</td>\n",
       "    </tr>\n",
       "    <tr>\n",
       "      <th>51</th>\n",
       "      <td>0.007564</td>\n",
       "      <td>energcocinar2</td>\n",
       "    </tr>\n",
       "    <tr>\n",
       "      <th>63</th>\n",
       "      <td>0.007503</td>\n",
       "      <td>etecho2</td>\n",
       "    </tr>\n",
       "    <tr>\n",
       "      <th>124</th>\n",
       "      <td>0.007461</td>\n",
       "      <td>area1</td>\n",
       "    </tr>\n",
       "  </tbody>\n",
       "</table>\n",
       "</div>"
      ],
      "text/plain": [
       "     Feature_imp_score     Feature_Name\n",
       "134           0.050307        SQBmeaned\n",
       "97            0.050166         meaneduc\n",
       "133           0.029074    SQBdependency\n",
       "94            0.027571       dependency\n",
       "108           0.024532     overcrowding\n",
       "117           0.023782     qmobilephone\n",
       "132           0.023629  SQBovercrowding\n",
       "130           0.021845        SQBedjefe\n",
       "95            0.021828           edjefe\n",
       "1             0.019971            rooms\n",
       "90            0.019484        hogar_nin\n",
       "131           0.019396     SQBhogar_nin\n",
       "128           0.018418           SQBage\n",
       "135           0.017922            agesq\n",
       "126           0.017906              age\n",
       "37            0.016402        cielorazo\n",
       "96            0.015964           edjefa\n",
       "17            0.015729         escolari\n",
       "127           0.015728      SQBescolari\n",
       "12            0.015552             r4t1\n",
       "7             0.015488             r4h2\n",
       "8             0.015243             r4h3\n",
       "13            0.015164             r4t2\n",
       "11            0.015027             r4m3\n",
       "107           0.012879         bedrooms\n",
       "91            0.012635       hogar_adul\n",
       "10            0.012471             r4m2\n",
       "9             0.011776             r4m1\n",
       "16            0.011726           tamviv\n",
       "67            0.011155            eviv3\n",
       "19            0.011039      paredblolad\n",
       "61            0.010819          epared3\n",
       "27            0.010450       pisomoscer\n",
       "14            0.010433             r4t3\n",
       "15            0.010383           tamhog\n",
       "93            0.010322      hogar_total\n",
       "18            0.010123           hhsize\n",
       "129           0.010089   SQBhogar_total\n",
       "5             0.010081             v18q\n",
       "64            0.010057          etecho3\n",
       "6             0.009645             r4h1\n",
       "118           0.008720           lugar1\n",
       "52            0.008160    energcocinar3\n",
       "109           0.008061        tipovivi1\n",
       "21            0.007813        paredpreb\n",
       "115           0.007745       television\n",
       "125           0.007675            area2\n",
       "51            0.007564    energcocinar2\n",
       "63            0.007503          etecho2\n",
       "124           0.007461            area1"
      ]
     },
     "execution_count": 199,
     "metadata": {},
     "output_type": "execute_result"
    }
   ],
   "source": [
    "ft_imp_df[0:50]"
   ]
  },
  {
   "cell_type": "code",
   "execution_count": 200,
   "id": "8a5c111c",
   "metadata": {},
   "outputs": [
    {
     "data": {
      "image/png": "[encoded data removed]",
      "text/plain": [
       "<Figure size 1152x1440 with 1 Axes>"
      ]
     },
     "metadata": {
      "needs_background": "light"
     },
     "output_type": "display_data"
    }
   ],
   "source": [
    "plt.figure(figsize=(16,20))\n",
    "sns.barplot(ft_imp_df[0:50]['Feature_imp_score'], ft_imp_df[0:50]['Feature_Name'])\n",
    "plt.show()"
   ]
  },
  {
   "cell_type": "code",
   "execution_count": null,
   "id": "f12a32f9",
   "metadata": {},
   "outputs": [],
   "source": []
  },
  {
   "cell_type": "markdown",
   "id": "598ecd51",
   "metadata": {},
   "source": [
    "#### Predict the Test dataset"
   ]
  },
  {
   "cell_type": "code",
   "execution_count": 138,
   "id": "1222dc1b",
   "metadata": {},
   "outputs": [],
   "source": [
    "test  = pd.read_csv(r'C:\\Users\\SAIRAM\\Desktop\\Simplilearn_Practice\\Machine Learning\\Project\\test.csv')"
   ]
  },
  {
   "cell_type": "code",
   "execution_count": 141,
   "id": "5a768487",
   "metadata": {},
   "outputs": [
    {
     "name": "stdout",
     "output_type": "stream",
     "text": [
      "shape of test file is  (23856, 142)\n",
      "shape of test file is  (23856, 137)\n"
     ]
    }
   ],
   "source": [
    "#Apply the transformations that were done for train dataset\n",
    "print('shape of test file is ', test.shape)\n",
    "\n",
    "#Remove the columns that were ignored during training phase\n",
    "test = test.drop(['v2a1', 'v18q1', 'rez_esc', 'Id', 'idhogar'], axis=1)\n",
    "print('shape of test file is ', test.shape)"
   ]
  },
  {
   "cell_type": "code",
   "execution_count": 145,
   "id": "2db28b67",
   "metadata": {},
   "outputs": [
    {
     "data": {
      "text/plain": [
       "Series([], dtype: float64)"
      ]
     },
     "execution_count": 145,
     "metadata": {},
     "output_type": "execute_result"
    }
   ],
   "source": [
    "#Fill missing values\n",
    "\n",
    "missing_perc = test.isnull().mean()\n",
    "missing_perc[missing_perc > 0]\n",
    "\n",
    "test['meaneduc'] = test['meaneduc'].fillna(test['meaneduc'].mean())\n",
    "test['SQBmeaned'] = test['SQBmeaned'].fillna(test['SQBmeaned'].mean())\n",
    "\n",
    "missing_perc = test.isnull().mean()\n",
    "missing_perc[missing_perc > 0]"
   ]
  },
  {
   "cell_type": "code",
   "execution_count": 148,
   "id": "cb58b509",
   "metadata": {},
   "outputs": [
    {
     "data": {
      "text/plain": [
       "Index(['dependency', 'edjefe', 'edjefa'], dtype='object')"
      ]
     },
     "execution_count": 148,
     "metadata": {},
     "output_type": "execute_result"
    }
   ],
   "source": [
    "#Object related features\n",
    "test.select_dtypes('object').columns"
   ]
  },
  {
   "cell_type": "code",
   "execution_count": 149,
   "id": "56aca6d6",
   "metadata": {},
   "outputs": [],
   "source": [
    "test['dependency'] = test['dependency'].apply(fill_missing)\n",
    "test['edjefe'] = test['edjefe'].apply(fill_missing)\n",
    "test['edjefa'] = test['edjefa'].apply(fill_missing)"
   ]
  },
  {
   "cell_type": "code",
   "execution_count": 150,
   "id": "0c5127b2",
   "metadata": {},
   "outputs": [
    {
     "data": {
      "text/plain": [
       "Index([], dtype='object')"
      ]
     },
     "execution_count": 150,
     "metadata": {},
     "output_type": "execute_result"
    }
   ],
   "source": [
    "test.select_dtypes('object').columns"
   ]
  },
  {
   "cell_type": "code",
   "execution_count": 153,
   "id": "7f6a3d3e",
   "metadata": {},
   "outputs": [],
   "source": [
    "#Drop the feature elimbasu5 as it has no variance\n",
    "test['elimbasu5'].value_counts()\n",
    "test = test.drop('elimbasu5', axis=1)"
   ]
  },
  {
   "cell_type": "code",
   "execution_count": 154,
   "id": "faca9375",
   "metadata": {},
   "outputs": [
    {
     "data": {
      "text/plain": [
       "(23856, 136)"
      ]
     },
     "execution_count": 154,
     "metadata": {},
     "output_type": "execute_result"
    }
   ],
   "source": [
    "test.shape"
   ]
  },
  {
   "cell_type": "markdown",
   "id": "07480747",
   "metadata": {},
   "source": [
    "#### Predict the target in test data set"
   ]
  },
  {
   "cell_type": "code",
   "execution_count": 161,
   "id": "c0407b74",
   "metadata": {},
   "outputs": [
    {
     "name": "stdout",
     "output_type": "stream",
     "text": [
      "(23856,) (23856, 136)\n"
     ]
    }
   ],
   "source": [
    "test_pred = rfclr4.predict(test)\n",
    "print(test_pred.shape, test.shape)"
   ]
  },
  {
   "cell_type": "code",
   "execution_count": 162,
   "id": "5c73eba5",
   "metadata": {},
   "outputs": [],
   "source": [
    "test['Target'] = test_pred"
   ]
  },
  {
   "cell_type": "code",
   "execution_count": 163,
   "id": "72447186",
   "metadata": {},
   "outputs": [
    {
     "data": {
      "text/plain": [
       "hacdor                0.00\n",
       "rooms                 5.00\n",
       "hacapo                0.00\n",
       "v14a                  1.00\n",
       "refrig                1.00\n",
       "                    ...   \n",
       "SQBovercrowding       2.25\n",
       "SQBdependency         0.25\n",
       "SQBmeaned           272.25\n",
       "agesq              1681.00\n",
       "Target                4.00\n",
       "Name: 1, Length: 137, dtype: float64"
      ]
     },
     "execution_count": 163,
     "metadata": {},
     "output_type": "execute_result"
    }
   ],
   "source": [
    "test.iloc[1]"
   ]
  },
  {
   "cell_type": "code",
   "execution_count": null,
   "id": "42c53b47",
   "metadata": {},
   "outputs": [],
   "source": []
  }
 ],
 "metadata": {
  "kernelspec": {
   "display_name": "Python 3",
   "language": "python",
   "name": "python3"
  },
  "language_info": {
   "codemirror_mode": {
    "name": "ipython",
    "version": 3
   },
   "file_extension": ".py",
   "mimetype": "text/x-python",
   "name": "python",
   "nbconvert_exporter": "python",
   "pygments_lexer": "ipython3",
   "version": "3.8.8"
  }
 },
 "nbformat": 4,
 "nbformat_minor": 5
}
