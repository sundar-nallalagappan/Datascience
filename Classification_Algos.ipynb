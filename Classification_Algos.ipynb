{
 "cells": [
  {
   "cell_type": "code",
   "execution_count": 1,
   "id": "e7c6de46",
   "metadata": {},
   "outputs": [],
   "source": [
    "import pandas as pd\n",
    "import numpy as np\n",
    "import matplotlib.pyplot as plt"
   ]
  },
  {
   "cell_type": "markdown",
   "id": "233aac90",
   "metadata": {},
   "source": [
    "## Load the dataset"
   ]
  },
  {
   "cell_type": "code",
   "execution_count": 2,
   "id": "16fba54e",
   "metadata": {},
   "outputs": [],
   "source": [
    "animals = pd.read_csv(r'C:\\Users\\SAIRAM\\Desktop\\Simplilearn_Practice\\Machine Learning\\Classification\\horse.csv')"
   ]
  },
  {
   "cell_type": "markdown",
   "id": "b45d4684",
   "metadata": {},
   "source": [
    "## Understand the data stats"
   ]
  },
  {
   "cell_type": "code",
   "execution_count": 3,
   "id": "8ff4abf0",
   "metadata": {},
   "outputs": [
    {
     "data": {
      "text/html": [
       "<div>\n",
       "<style scoped>\n",
       "    .dataframe tbody tr th:only-of-type {\n",
       "        vertical-align: middle;\n",
       "    }\n",
       "\n",
       "    .dataframe tbody tr th {\n",
       "        vertical-align: top;\n",
       "    }\n",
       "\n",
       "    .dataframe thead th {\n",
       "        text-align: right;\n",
       "    }\n",
       "</style>\n",
       "<table border=\"1\" class=\"dataframe\">\n",
       "  <thead>\n",
       "    <tr style=\"text-align: right;\">\n",
       "      <th></th>\n",
       "      <th>surgery</th>\n",
       "      <th>age</th>\n",
       "      <th>hospital_number</th>\n",
       "      <th>rectal_temp</th>\n",
       "      <th>pulse</th>\n",
       "      <th>respiratory_rate</th>\n",
       "      <th>temp_of_extremities</th>\n",
       "      <th>peripheral_pulse</th>\n",
       "      <th>mucous_membrane</th>\n",
       "      <th>capillary_refill_time</th>\n",
       "      <th>...</th>\n",
       "      <th>packed_cell_volume</th>\n",
       "      <th>total_protein</th>\n",
       "      <th>abdomo_appearance</th>\n",
       "      <th>abdomo_protein</th>\n",
       "      <th>outcome</th>\n",
       "      <th>surgical_lesion</th>\n",
       "      <th>lesion_1</th>\n",
       "      <th>lesion_2</th>\n",
       "      <th>lesion_3</th>\n",
       "      <th>cp_data</th>\n",
       "    </tr>\n",
       "  </thead>\n",
       "  <tbody>\n",
       "    <tr>\n",
       "      <th>0</th>\n",
       "      <td>no</td>\n",
       "      <td>adult</td>\n",
       "      <td>530101</td>\n",
       "      <td>38.5</td>\n",
       "      <td>66.0</td>\n",
       "      <td>28.0</td>\n",
       "      <td>cool</td>\n",
       "      <td>reduced</td>\n",
       "      <td>NaN</td>\n",
       "      <td>more_3_sec</td>\n",
       "      <td>...</td>\n",
       "      <td>45.0</td>\n",
       "      <td>8.4</td>\n",
       "      <td>NaN</td>\n",
       "      <td>NaN</td>\n",
       "      <td>died</td>\n",
       "      <td>no</td>\n",
       "      <td>11300</td>\n",
       "      <td>0</td>\n",
       "      <td>0</td>\n",
       "      <td>no</td>\n",
       "    </tr>\n",
       "    <tr>\n",
       "      <th>1</th>\n",
       "      <td>yes</td>\n",
       "      <td>adult</td>\n",
       "      <td>534817</td>\n",
       "      <td>39.2</td>\n",
       "      <td>88.0</td>\n",
       "      <td>20.0</td>\n",
       "      <td>NaN</td>\n",
       "      <td>NaN</td>\n",
       "      <td>pale_cyanotic</td>\n",
       "      <td>less_3_sec</td>\n",
       "      <td>...</td>\n",
       "      <td>50.0</td>\n",
       "      <td>85.0</td>\n",
       "      <td>cloudy</td>\n",
       "      <td>2.0</td>\n",
       "      <td>euthanized</td>\n",
       "      <td>no</td>\n",
       "      <td>2208</td>\n",
       "      <td>0</td>\n",
       "      <td>0</td>\n",
       "      <td>no</td>\n",
       "    </tr>\n",
       "    <tr>\n",
       "      <th>2</th>\n",
       "      <td>no</td>\n",
       "      <td>adult</td>\n",
       "      <td>530334</td>\n",
       "      <td>38.3</td>\n",
       "      <td>40.0</td>\n",
       "      <td>24.0</td>\n",
       "      <td>normal</td>\n",
       "      <td>normal</td>\n",
       "      <td>pale_pink</td>\n",
       "      <td>less_3_sec</td>\n",
       "      <td>...</td>\n",
       "      <td>33.0</td>\n",
       "      <td>6.7</td>\n",
       "      <td>NaN</td>\n",
       "      <td>NaN</td>\n",
       "      <td>lived</td>\n",
       "      <td>no</td>\n",
       "      <td>0</td>\n",
       "      <td>0</td>\n",
       "      <td>0</td>\n",
       "      <td>yes</td>\n",
       "    </tr>\n",
       "    <tr>\n",
       "      <th>3</th>\n",
       "      <td>yes</td>\n",
       "      <td>young</td>\n",
       "      <td>5290409</td>\n",
       "      <td>39.1</td>\n",
       "      <td>164.0</td>\n",
       "      <td>84.0</td>\n",
       "      <td>cold</td>\n",
       "      <td>normal</td>\n",
       "      <td>dark_cyanotic</td>\n",
       "      <td>more_3_sec</td>\n",
       "      <td>...</td>\n",
       "      <td>48.0</td>\n",
       "      <td>7.2</td>\n",
       "      <td>serosanguious</td>\n",
       "      <td>5.3</td>\n",
       "      <td>died</td>\n",
       "      <td>yes</td>\n",
       "      <td>2208</td>\n",
       "      <td>0</td>\n",
       "      <td>0</td>\n",
       "      <td>yes</td>\n",
       "    </tr>\n",
       "    <tr>\n",
       "      <th>4</th>\n",
       "      <td>no</td>\n",
       "      <td>adult</td>\n",
       "      <td>530255</td>\n",
       "      <td>37.3</td>\n",
       "      <td>104.0</td>\n",
       "      <td>35.0</td>\n",
       "      <td>NaN</td>\n",
       "      <td>NaN</td>\n",
       "      <td>dark_cyanotic</td>\n",
       "      <td>more_3_sec</td>\n",
       "      <td>...</td>\n",
       "      <td>74.0</td>\n",
       "      <td>7.4</td>\n",
       "      <td>NaN</td>\n",
       "      <td>NaN</td>\n",
       "      <td>died</td>\n",
       "      <td>no</td>\n",
       "      <td>4300</td>\n",
       "      <td>0</td>\n",
       "      <td>0</td>\n",
       "      <td>no</td>\n",
       "    </tr>\n",
       "  </tbody>\n",
       "</table>\n",
       "<p>5 rows × 28 columns</p>\n",
       "</div>"
      ],
      "text/plain": [
       "  surgery    age  hospital_number  rectal_temp  pulse  respiratory_rate  \\\n",
       "0      no  adult           530101         38.5   66.0              28.0   \n",
       "1     yes  adult           534817         39.2   88.0              20.0   \n",
       "2      no  adult           530334         38.3   40.0              24.0   \n",
       "3     yes  young          5290409         39.1  164.0              84.0   \n",
       "4      no  adult           530255         37.3  104.0              35.0   \n",
       "\n",
       "  temp_of_extremities peripheral_pulse mucous_membrane capillary_refill_time  \\\n",
       "0                cool          reduced             NaN            more_3_sec   \n",
       "1                 NaN              NaN   pale_cyanotic            less_3_sec   \n",
       "2              normal           normal       pale_pink            less_3_sec   \n",
       "3                cold           normal   dark_cyanotic            more_3_sec   \n",
       "4                 NaN              NaN   dark_cyanotic            more_3_sec   \n",
       "\n",
       "   ... packed_cell_volume total_protein abdomo_appearance abdomo_protein  \\\n",
       "0  ...               45.0           8.4               NaN            NaN   \n",
       "1  ...               50.0          85.0            cloudy            2.0   \n",
       "2  ...               33.0           6.7               NaN            NaN   \n",
       "3  ...               48.0           7.2     serosanguious            5.3   \n",
       "4  ...               74.0           7.4               NaN            NaN   \n",
       "\n",
       "      outcome  surgical_lesion lesion_1 lesion_2  lesion_3  cp_data  \n",
       "0        died               no    11300        0         0       no  \n",
       "1  euthanized               no     2208        0         0       no  \n",
       "2       lived               no        0        0         0      yes  \n",
       "3        died              yes     2208        0         0      yes  \n",
       "4        died               no     4300        0         0       no  \n",
       "\n",
       "[5 rows x 28 columns]"
      ]
     },
     "execution_count": 3,
     "metadata": {},
     "output_type": "execute_result"
    }
   ],
   "source": [
    "animals.head()"
   ]
  },
  {
   "cell_type": "code",
   "execution_count": 4,
   "id": "ffcfcc45",
   "metadata": {},
   "outputs": [
    {
     "data": {
      "text/plain": [
       "(299, 28)"
      ]
     },
     "execution_count": 4,
     "metadata": {},
     "output_type": "execute_result"
    }
   ],
   "source": [
    "animals.shape"
   ]
  },
  {
   "cell_type": "code",
   "execution_count": 5,
   "id": "8bdc1575",
   "metadata": {},
   "outputs": [
    {
     "data": {
      "text/plain": [
       "Index(['surgery', 'age', 'hospital_number', 'rectal_temp', 'pulse',\n",
       "       'respiratory_rate', 'temp_of_extremities', 'peripheral_pulse',\n",
       "       'mucous_membrane', 'capillary_refill_time', 'pain', 'peristalsis',\n",
       "       'abdominal_distention', 'nasogastric_tube', 'nasogastric_reflux',\n",
       "       'nasogastric_reflux_ph', 'rectal_exam_feces', 'abdomen',\n",
       "       'packed_cell_volume', 'total_protein', 'abdomo_appearance',\n",
       "       'abdomo_protein', 'outcome', 'surgical_lesion', 'lesion_1', 'lesion_2',\n",
       "       'lesion_3', 'cp_data'],\n",
       "      dtype='object')"
      ]
     },
     "execution_count": 5,
     "metadata": {},
     "output_type": "execute_result"
    }
   ],
   "source": [
    "animals.columns"
   ]
  },
  {
   "cell_type": "code",
   "execution_count": 6,
   "id": "929437fc",
   "metadata": {},
   "outputs": [
    {
     "data": {
      "text/plain": [
       "surgery                             no\n",
       "age                              adult\n",
       "hospital_number                 530101\n",
       "rectal_temp                       38.5\n",
       "pulse                             66.0\n",
       "respiratory_rate                  28.0\n",
       "temp_of_extremities               cool\n",
       "peripheral_pulse               reduced\n",
       "mucous_membrane                    NaN\n",
       "capillary_refill_time       more_3_sec\n",
       "pain                      extreme_pain\n",
       "peristalsis                     absent\n",
       "abdominal_distention            severe\n",
       "nasogastric_tube                   NaN\n",
       "nasogastric_reflux                 NaN\n",
       "nasogastric_reflux_ph              NaN\n",
       "rectal_exam_feces            decreased\n",
       "abdomen                  distend_large\n",
       "packed_cell_volume                45.0\n",
       "total_protein                      8.4\n",
       "abdomo_appearance                  NaN\n",
       "abdomo_protein                     NaN\n",
       "outcome                           died\n",
       "surgical_lesion                     no\n",
       "lesion_1                         11300\n",
       "lesion_2                             0\n",
       "lesion_3                             0\n",
       "cp_data                             no\n",
       "Name: 0, dtype: object"
      ]
     },
     "execution_count": 6,
     "metadata": {},
     "output_type": "execute_result"
    }
   ],
   "source": [
    "animals.iloc[0]"
   ]
  },
  {
   "cell_type": "code",
   "execution_count": 7,
   "id": "2769068c",
   "metadata": {},
   "outputs": [
    {
     "name": "stdout",
     "output_type": "stream",
     "text": [
      "['died' 'euthanized' 'lived']\n",
      "lived         178\n",
      "died           77\n",
      "euthanized     44\n",
      "Name: outcome, dtype: int64\n"
     ]
    }
   ],
   "source": [
    "print(animals['outcome'].unique())\n",
    "print(animals['outcome'].value_counts())"
   ]
  },
  {
   "cell_type": "code",
   "execution_count": 8,
   "id": "1be7a968",
   "metadata": {},
   "outputs": [
    {
     "name": "stdout",
     "output_type": "stream",
     "text": [
      "(299, 27) (299,)\n"
     ]
    }
   ],
   "source": [
    "target = animals['outcome']\n",
    "animals = animals.drop(['outcome'], axis=1)\n",
    "print(animals.shape, target.shape)"
   ]
  },
  {
   "cell_type": "code",
   "execution_count": 9,
   "id": "0aae4b30",
   "metadata": {},
   "outputs": [
    {
     "name": "stdout",
     "output_type": "stream",
     "text": [
      "<class 'pandas.core.frame.DataFrame'>\n",
      "RangeIndex: 299 entries, 0 to 298\n",
      "Data columns (total 27 columns):\n",
      " #   Column                 Non-Null Count  Dtype  \n",
      "---  ------                 --------------  -----  \n",
      " 0   surgery                299 non-null    object \n",
      " 1   age                    299 non-null    object \n",
      " 2   hospital_number        299 non-null    int64  \n",
      " 3   rectal_temp            239 non-null    float64\n",
      " 4   pulse                  275 non-null    float64\n",
      " 5   respiratory_rate       241 non-null    float64\n",
      " 6   temp_of_extremities    243 non-null    object \n",
      " 7   peripheral_pulse       230 non-null    object \n",
      " 8   mucous_membrane        252 non-null    object \n",
      " 9   capillary_refill_time  267 non-null    object \n",
      " 10  pain                   244 non-null    object \n",
      " 11  peristalsis            255 non-null    object \n",
      " 12  abdominal_distention   243 non-null    object \n",
      " 13  nasogastric_tube       195 non-null    object \n",
      " 14  nasogastric_reflux     193 non-null    object \n",
      " 15  nasogastric_reflux_ph  53 non-null     float64\n",
      " 16  rectal_exam_feces      197 non-null    object \n",
      " 17  abdomen                181 non-null    object \n",
      " 18  packed_cell_volume     270 non-null    float64\n",
      " 19  total_protein          266 non-null    float64\n",
      " 20  abdomo_appearance      134 non-null    object \n",
      " 21  abdomo_protein         101 non-null    float64\n",
      " 22  surgical_lesion        299 non-null    object \n",
      " 23  lesion_1               299 non-null    int64  \n",
      " 24  lesion_2               299 non-null    int64  \n",
      " 25  lesion_3               299 non-null    int64  \n",
      " 26  cp_data                299 non-null    object \n",
      "dtypes: float64(7), int64(4), object(16)\n",
      "memory usage: 63.2+ KB\n"
     ]
    }
   ],
   "source": [
    "animals.info()"
   ]
  },
  {
   "cell_type": "code",
   "execution_count": 10,
   "id": "f6efd9ea",
   "metadata": {},
   "outputs": [
    {
     "name": "stdout",
     "output_type": "stream",
     "text": [
      "surgery                  0.000000\n",
      "age                      0.000000\n",
      "hospital_number          0.000000\n",
      "rectal_temp              0.200669\n",
      "pulse                    0.080268\n",
      "respiratory_rate         0.193980\n",
      "temp_of_extremities      0.187291\n",
      "peripheral_pulse         0.230769\n",
      "mucous_membrane          0.157191\n",
      "capillary_refill_time    0.107023\n",
      "pain                     0.183946\n",
      "peristalsis              0.147157\n",
      "abdominal_distention     0.187291\n",
      "nasogastric_tube         0.347826\n",
      "nasogastric_reflux       0.354515\n",
      "nasogastric_reflux_ph    0.822742\n",
      "rectal_exam_feces        0.341137\n",
      "abdomen                  0.394649\n",
      "packed_cell_volume       0.096990\n",
      "total_protein            0.110368\n",
      "abdomo_appearance        0.551839\n",
      "abdomo_protein           0.662207\n",
      "surgical_lesion          0.000000\n",
      "lesion_1                 0.000000\n",
      "lesion_2                 0.000000\n",
      "lesion_3                 0.000000\n",
      "cp_data                  0.000000\n",
      "dtype: float64\n"
     ]
    }
   ],
   "source": [
    "missing_perc = animals.isnull().mean()\n",
    "print(missing_perc)"
   ]
  },
  {
   "cell_type": "markdown",
   "id": "46fad492",
   "metadata": {},
   "source": [
    "## Droping the features with > 30% missing values"
   ]
  },
  {
   "cell_type": "code",
   "execution_count": 11,
   "id": "d2ded048",
   "metadata": {},
   "outputs": [
    {
     "data": {
      "text/plain": [
       "['nasogastric_tube',\n",
       " 'nasogastric_reflux',\n",
       " 'nasogastric_reflux_ph',\n",
       " 'rectal_exam_feces',\n",
       " 'abdomen',\n",
       " 'abdomo_appearance',\n",
       " 'abdomo_protein']"
      ]
     },
     "execution_count": 11,
     "metadata": {},
     "output_type": "execute_result"
    }
   ],
   "source": [
    "list(missing_perc[missing_perc > 0.3].index)"
   ]
  },
  {
   "cell_type": "code",
   "execution_count": 12,
   "id": "4c3bbc3f",
   "metadata": {},
   "outputs": [
    {
     "data": {
      "text/plain": [
       "(299, 20)"
      ]
     },
     "execution_count": 12,
     "metadata": {},
     "output_type": "execute_result"
    }
   ],
   "source": [
    "animals = animals.drop(list(missing_perc[missing_perc > 0.3].index), axis=1)\n",
    "animals.shape"
   ]
  },
  {
   "cell_type": "code",
   "execution_count": 13,
   "id": "b6a315af",
   "metadata": {},
   "outputs": [
    {
     "data": {
      "text/plain": [
       "surgery                  0.000000\n",
       "age                      0.000000\n",
       "hospital_number          0.000000\n",
       "rectal_temp              0.200669\n",
       "pulse                    0.080268\n",
       "respiratory_rate         0.193980\n",
       "temp_of_extremities      0.187291\n",
       "peripheral_pulse         0.230769\n",
       "mucous_membrane          0.157191\n",
       "capillary_refill_time    0.107023\n",
       "pain                     0.183946\n",
       "peristalsis              0.147157\n",
       "abdominal_distention     0.187291\n",
       "packed_cell_volume       0.096990\n",
       "total_protein            0.110368\n",
       "surgical_lesion          0.000000\n",
       "lesion_1                 0.000000\n",
       "lesion_2                 0.000000\n",
       "lesion_3                 0.000000\n",
       "cp_data                  0.000000\n",
       "dtype: float64"
      ]
     },
     "execution_count": 13,
     "metadata": {},
     "output_type": "execute_result"
    }
   ],
   "source": [
    "animals.isnull().mean()"
   ]
  },
  {
   "cell_type": "markdown",
   "id": "6ecf8aba",
   "metadata": {},
   "source": [
    "## Treat the missing values"
   ]
  },
  {
   "cell_type": "code",
   "execution_count": 14,
   "id": "056b22c7",
   "metadata": {},
   "outputs": [
    {
     "name": "stdout",
     "output_type": "stream",
     "text": [
      "<class 'pandas.core.frame.DataFrame'>\n",
      "RangeIndex: 299 entries, 0 to 298\n",
      "Data columns (total 20 columns):\n",
      " #   Column                 Non-Null Count  Dtype  \n",
      "---  ------                 --------------  -----  \n",
      " 0   surgery                299 non-null    object \n",
      " 1   age                    299 non-null    object \n",
      " 2   hospital_number        299 non-null    int64  \n",
      " 3   rectal_temp            239 non-null    float64\n",
      " 4   pulse                  275 non-null    float64\n",
      " 5   respiratory_rate       241 non-null    float64\n",
      " 6   temp_of_extremities    243 non-null    object \n",
      " 7   peripheral_pulse       230 non-null    object \n",
      " 8   mucous_membrane        252 non-null    object \n",
      " 9   capillary_refill_time  267 non-null    object \n",
      " 10  pain                   244 non-null    object \n",
      " 11  peristalsis            255 non-null    object \n",
      " 12  abdominal_distention   243 non-null    object \n",
      " 13  packed_cell_volume     270 non-null    float64\n",
      " 14  total_protein          266 non-null    float64\n",
      " 15  surgical_lesion        299 non-null    object \n",
      " 16  lesion_1               299 non-null    int64  \n",
      " 17  lesion_2               299 non-null    int64  \n",
      " 18  lesion_3               299 non-null    int64  \n",
      " 19  cp_data                299 non-null    object \n",
      "dtypes: float64(5), int64(4), object(11)\n",
      "memory usage: 46.8+ KB\n"
     ]
    }
   ],
   "source": [
    "animals.info()"
   ]
  },
  {
   "cell_type": "markdown",
   "id": "f19b4e1b",
   "metadata": {},
   "source": [
    "#### rectal_temp            "
   ]
  },
  {
   "cell_type": "code",
   "execution_count": 15,
   "id": "26640ead",
   "metadata": {},
   "outputs": [
    {
     "data": {
      "text/html": [
       "<div>\n",
       "<style scoped>\n",
       "    .dataframe tbody tr th:only-of-type {\n",
       "        vertical-align: middle;\n",
       "    }\n",
       "\n",
       "    .dataframe tbody tr th {\n",
       "        vertical-align: top;\n",
       "    }\n",
       "\n",
       "    .dataframe thead th {\n",
       "        text-align: right;\n",
       "    }\n",
       "</style>\n",
       "<table border=\"1\" class=\"dataframe\">\n",
       "  <thead>\n",
       "    <tr style=\"text-align: right;\">\n",
       "      <th></th>\n",
       "      <th>surgery</th>\n",
       "      <th>age</th>\n",
       "      <th>hospital_number</th>\n",
       "      <th>rectal_temp</th>\n",
       "      <th>pulse</th>\n",
       "      <th>respiratory_rate</th>\n",
       "      <th>temp_of_extremities</th>\n",
       "      <th>peripheral_pulse</th>\n",
       "      <th>mucous_membrane</th>\n",
       "      <th>capillary_refill_time</th>\n",
       "      <th>pain</th>\n",
       "      <th>peristalsis</th>\n",
       "      <th>abdominal_distention</th>\n",
       "      <th>packed_cell_volume</th>\n",
       "      <th>total_protein</th>\n",
       "      <th>surgical_lesion</th>\n",
       "      <th>lesion_1</th>\n",
       "      <th>lesion_2</th>\n",
       "      <th>lesion_3</th>\n",
       "      <th>cp_data</th>\n",
       "    </tr>\n",
       "  </thead>\n",
       "  <tbody>\n",
       "    <tr>\n",
       "      <th>5</th>\n",
       "      <td>no</td>\n",
       "      <td>adult</td>\n",
       "      <td>528355</td>\n",
       "      <td>NaN</td>\n",
       "      <td>NaN</td>\n",
       "      <td>NaN</td>\n",
       "      <td>warm</td>\n",
       "      <td>normal</td>\n",
       "      <td>pale_pink</td>\n",
       "      <td>less_3_sec</td>\n",
       "      <td>depressed</td>\n",
       "      <td>hypomotile</td>\n",
       "      <td>slight</td>\n",
       "      <td>NaN</td>\n",
       "      <td>NaN</td>\n",
       "      <td>no</td>\n",
       "      <td>0</td>\n",
       "      <td>0</td>\n",
       "      <td>0</td>\n",
       "      <td>no</td>\n",
       "    </tr>\n",
       "    <tr>\n",
       "      <th>7</th>\n",
       "      <td>yes</td>\n",
       "      <td>adult</td>\n",
       "      <td>529607</td>\n",
       "      <td>NaN</td>\n",
       "      <td>60.0</td>\n",
       "      <td>NaN</td>\n",
       "      <td>cool</td>\n",
       "      <td>NaN</td>\n",
       "      <td>NaN</td>\n",
       "      <td>less_3_sec</td>\n",
       "      <td>NaN</td>\n",
       "      <td>absent</td>\n",
       "      <td>slight</td>\n",
       "      <td>44.0</td>\n",
       "      <td>8.3</td>\n",
       "      <td>yes</td>\n",
       "      <td>2208</td>\n",
       "      <td>0</td>\n",
       "      <td>0</td>\n",
       "      <td>no</td>\n",
       "    </tr>\n",
       "    <tr>\n",
       "      <th>8</th>\n",
       "      <td>no</td>\n",
       "      <td>adult</td>\n",
       "      <td>530051</td>\n",
       "      <td>NaN</td>\n",
       "      <td>80.0</td>\n",
       "      <td>36.0</td>\n",
       "      <td>cool</td>\n",
       "      <td>absent</td>\n",
       "      <td>pale_pink</td>\n",
       "      <td>less_3_sec</td>\n",
       "      <td>severe_pain</td>\n",
       "      <td>absent</td>\n",
       "      <td>severe</td>\n",
       "      <td>38.0</td>\n",
       "      <td>6.2</td>\n",
       "      <td>yes</td>\n",
       "      <td>3205</td>\n",
       "      <td>0</td>\n",
       "      <td>0</td>\n",
       "      <td>no</td>\n",
       "    </tr>\n",
       "    <tr>\n",
       "      <th>16</th>\n",
       "      <td>yes</td>\n",
       "      <td>young</td>\n",
       "      <td>5301219</td>\n",
       "      <td>NaN</td>\n",
       "      <td>128.0</td>\n",
       "      <td>36.0</td>\n",
       "      <td>cool</td>\n",
       "      <td>reduced</td>\n",
       "      <td>pale_cyanotic</td>\n",
       "      <td>more_3_sec</td>\n",
       "      <td>severe_pain</td>\n",
       "      <td>absent</td>\n",
       "      <td>moderate</td>\n",
       "      <td>53.0</td>\n",
       "      <td>7.8</td>\n",
       "      <td>no</td>\n",
       "      <td>1400</td>\n",
       "      <td>0</td>\n",
       "      <td>0</td>\n",
       "      <td>yes</td>\n",
       "    </tr>\n",
       "    <tr>\n",
       "      <th>28</th>\n",
       "      <td>yes</td>\n",
       "      <td>adult</td>\n",
       "      <td>5279442</td>\n",
       "      <td>NaN</td>\n",
       "      <td>NaN</td>\n",
       "      <td>NaN</td>\n",
       "      <td>NaN</td>\n",
       "      <td>NaN</td>\n",
       "      <td>NaN</td>\n",
       "      <td>NaN</td>\n",
       "      <td>NaN</td>\n",
       "      <td>NaN</td>\n",
       "      <td>NaN</td>\n",
       "      <td>NaN</td>\n",
       "      <td>NaN</td>\n",
       "      <td>no</td>\n",
       "      <td>4300</td>\n",
       "      <td>0</td>\n",
       "      <td>0</td>\n",
       "      <td>no</td>\n",
       "    </tr>\n",
       "    <tr>\n",
       "      <th>34</th>\n",
       "      <td>yes</td>\n",
       "      <td>adult</td>\n",
       "      <td>529796</td>\n",
       "      <td>NaN</td>\n",
       "      <td>100.0</td>\n",
       "      <td>30.0</td>\n",
       "      <td>cool</td>\n",
       "      <td>reduced</td>\n",
       "      <td>pale_cyanotic</td>\n",
       "      <td>more_3_sec</td>\n",
       "      <td>extreme_pain</td>\n",
       "      <td>absent</td>\n",
       "      <td>severe</td>\n",
       "      <td>52.0</td>\n",
       "      <td>6.6</td>\n",
       "      <td>yes</td>\n",
       "      <td>1124</td>\n",
       "      <td>0</td>\n",
       "      <td>0</td>\n",
       "      <td>no</td>\n",
       "    </tr>\n",
       "    <tr>\n",
       "      <th>35</th>\n",
       "      <td>no</td>\n",
       "      <td>adult</td>\n",
       "      <td>528812</td>\n",
       "      <td>NaN</td>\n",
       "      <td>104.0</td>\n",
       "      <td>24.0</td>\n",
       "      <td>cold</td>\n",
       "      <td>reduced</td>\n",
       "      <td>pale_pink</td>\n",
       "      <td>more_3_sec</td>\n",
       "      <td>severe_pain</td>\n",
       "      <td>absent</td>\n",
       "      <td>moderate</td>\n",
       "      <td>73.0</td>\n",
       "      <td>8.4</td>\n",
       "      <td>yes</td>\n",
       "      <td>7111</td>\n",
       "      <td>0</td>\n",
       "      <td>0</td>\n",
       "      <td>no</td>\n",
       "    </tr>\n",
       "    <tr>\n",
       "      <th>40</th>\n",
       "      <td>yes</td>\n",
       "      <td>adult</td>\n",
       "      <td>529498</td>\n",
       "      <td>NaN</td>\n",
       "      <td>88.0</td>\n",
       "      <td>NaN</td>\n",
       "      <td>cool</td>\n",
       "      <td>reduced</td>\n",
       "      <td>dark_cyanotic</td>\n",
       "      <td>more_3_sec</td>\n",
       "      <td>extreme_pain</td>\n",
       "      <td>hypomotile</td>\n",
       "      <td>moderate</td>\n",
       "      <td>63.0</td>\n",
       "      <td>6.5</td>\n",
       "      <td>yes</td>\n",
       "      <td>4205</td>\n",
       "      <td>0</td>\n",
       "      <td>0</td>\n",
       "      <td>no</td>\n",
       "    </tr>\n",
       "    <tr>\n",
       "      <th>43</th>\n",
       "      <td>yes</td>\n",
       "      <td>adult</td>\n",
       "      <td>534069</td>\n",
       "      <td>NaN</td>\n",
       "      <td>120.0</td>\n",
       "      <td>NaN</td>\n",
       "      <td>cool</td>\n",
       "      <td>absent</td>\n",
       "      <td>pale_cyanotic</td>\n",
       "      <td>less_3_sec</td>\n",
       "      <td>severe_pain</td>\n",
       "      <td>absent</td>\n",
       "      <td>severe</td>\n",
       "      <td>52.0</td>\n",
       "      <td>67.0</td>\n",
       "      <td>yes</td>\n",
       "      <td>3205</td>\n",
       "      <td>0</td>\n",
       "      <td>0</td>\n",
       "      <td>no</td>\n",
       "    </tr>\n",
       "    <tr>\n",
       "      <th>45</th>\n",
       "      <td>no</td>\n",
       "      <td>adult</td>\n",
       "      <td>529827</td>\n",
       "      <td>NaN</td>\n",
       "      <td>120.0</td>\n",
       "      <td>NaN</td>\n",
       "      <td>cold</td>\n",
       "      <td>reduced</td>\n",
       "      <td>pale_cyanotic</td>\n",
       "      <td>more_3_sec</td>\n",
       "      <td>extreme_pain</td>\n",
       "      <td>absent</td>\n",
       "      <td>severe</td>\n",
       "      <td>60.0</td>\n",
       "      <td>6.5</td>\n",
       "      <td>yes</td>\n",
       "      <td>3205</td>\n",
       "      <td>0</td>\n",
       "      <td>0</td>\n",
       "      <td>no</td>\n",
       "    </tr>\n",
       "    <tr>\n",
       "      <th>52</th>\n",
       "      <td>no</td>\n",
       "      <td>adult</td>\n",
       "      <td>529483</td>\n",
       "      <td>NaN</td>\n",
       "      <td>NaN</td>\n",
       "      <td>NaN</td>\n",
       "      <td>normal</td>\n",
       "      <td>normal</td>\n",
       "      <td>pale_pink</td>\n",
       "      <td>less_3_sec</td>\n",
       "      <td>alert</td>\n",
       "      <td>hypomotile</td>\n",
       "      <td>none</td>\n",
       "      <td>43.0</td>\n",
       "      <td>7.7</td>\n",
       "      <td>no</td>\n",
       "      <td>3111</td>\n",
       "      <td>0</td>\n",
       "      <td>0</td>\n",
       "      <td>no</td>\n",
       "    </tr>\n",
       "    <tr>\n",
       "      <th>56</th>\n",
       "      <td>yes</td>\n",
       "      <td>adult</td>\n",
       "      <td>528872</td>\n",
       "      <td>NaN</td>\n",
       "      <td>NaN</td>\n",
       "      <td>NaN</td>\n",
       "      <td>NaN</td>\n",
       "      <td>NaN</td>\n",
       "      <td>NaN</td>\n",
       "      <td>NaN</td>\n",
       "      <td>NaN</td>\n",
       "      <td>NaN</td>\n",
       "      <td>NaN</td>\n",
       "      <td>24.0</td>\n",
       "      <td>6.7</td>\n",
       "      <td>yes</td>\n",
       "      <td>3112</td>\n",
       "      <td>0</td>\n",
       "      <td>0</td>\n",
       "      <td>no</td>\n",
       "    </tr>\n",
       "    <tr>\n",
       "      <th>57</th>\n",
       "      <td>yes</td>\n",
       "      <td>adult</td>\n",
       "      <td>529640</td>\n",
       "      <td>NaN</td>\n",
       "      <td>64.0</td>\n",
       "      <td>36.0</td>\n",
       "      <td>warm</td>\n",
       "      <td>NaN</td>\n",
       "      <td>bright_pink</td>\n",
       "      <td>less_3_sec</td>\n",
       "      <td>extreme_pain</td>\n",
       "      <td>hypomotile</td>\n",
       "      <td>moderate</td>\n",
       "      <td>42.0</td>\n",
       "      <td>7.7</td>\n",
       "      <td>yes</td>\n",
       "      <td>3209</td>\n",
       "      <td>0</td>\n",
       "      <td>0</td>\n",
       "      <td>no</td>\n",
       "    </tr>\n",
       "    <tr>\n",
       "      <th>58</th>\n",
       "      <td>yes</td>\n",
       "      <td>adult</td>\n",
       "      <td>528298</td>\n",
       "      <td>NaN</td>\n",
       "      <td>NaN</td>\n",
       "      <td>20.0</td>\n",
       "      <td>cold</td>\n",
       "      <td>reduced</td>\n",
       "      <td>pale_pink</td>\n",
       "      <td>NaN</td>\n",
       "      <td>extreme_pain</td>\n",
       "      <td>absent</td>\n",
       "      <td>moderate</td>\n",
       "      <td>53.0</td>\n",
       "      <td>5.9</td>\n",
       "      <td>yes</td>\n",
       "      <td>3205</td>\n",
       "      <td>0</td>\n",
       "      <td>0</td>\n",
       "      <td>yes</td>\n",
       "    </tr>\n",
       "    <tr>\n",
       "      <th>59</th>\n",
       "      <td>no</td>\n",
       "      <td>adult</td>\n",
       "      <td>528904</td>\n",
       "      <td>NaN</td>\n",
       "      <td>96.0</td>\n",
       "      <td>NaN</td>\n",
       "      <td>cool</td>\n",
       "      <td>reduced</td>\n",
       "      <td>pale_pink</td>\n",
       "      <td>more_3_sec</td>\n",
       "      <td>extreme_pain</td>\n",
       "      <td>absent</td>\n",
       "      <td>severe</td>\n",
       "      <td>60.0</td>\n",
       "      <td>NaN</td>\n",
       "      <td>yes</td>\n",
       "      <td>4205</td>\n",
       "      <td>0</td>\n",
       "      <td>0</td>\n",
       "      <td>no</td>\n",
       "    </tr>\n",
       "    <tr>\n",
       "      <th>65</th>\n",
       "      <td>yes</td>\n",
       "      <td>adult</td>\n",
       "      <td>534885</td>\n",
       "      <td>NaN</td>\n",
       "      <td>60.0</td>\n",
       "      <td>36.0</td>\n",
       "      <td>cool</td>\n",
       "      <td>normal</td>\n",
       "      <td>pale_pink</td>\n",
       "      <td>less_3_sec</td>\n",
       "      <td>mild_pain</td>\n",
       "      <td>hypomotile</td>\n",
       "      <td>slight</td>\n",
       "      <td>26.0</td>\n",
       "      <td>72.0</td>\n",
       "      <td>yes</td>\n",
       "      <td>2208</td>\n",
       "      <td>0</td>\n",
       "      <td>0</td>\n",
       "      <td>no</td>\n",
       "    </tr>\n",
       "    <tr>\n",
       "      <th>68</th>\n",
       "      <td>no</td>\n",
       "      <td>adult</td>\n",
       "      <td>529777</td>\n",
       "      <td>NaN</td>\n",
       "      <td>52.0</td>\n",
       "      <td>16.0</td>\n",
       "      <td>normal</td>\n",
       "      <td>NaN</td>\n",
       "      <td>pale_pink</td>\n",
       "      <td>less_3_sec</td>\n",
       "      <td>NaN</td>\n",
       "      <td>NaN</td>\n",
       "      <td>NaN</td>\n",
       "      <td>55.0</td>\n",
       "      <td>7.2</td>\n",
       "      <td>no</td>\n",
       "      <td>2124</td>\n",
       "      <td>0</td>\n",
       "      <td>0</td>\n",
       "      <td>no</td>\n",
       "    </tr>\n",
       "    <tr>\n",
       "      <th>74</th>\n",
       "      <td>yes</td>\n",
       "      <td>young</td>\n",
       "      <td>5292929</td>\n",
       "      <td>NaN</td>\n",
       "      <td>NaN</td>\n",
       "      <td>NaN</td>\n",
       "      <td>NaN</td>\n",
       "      <td>NaN</td>\n",
       "      <td>NaN</td>\n",
       "      <td>NaN</td>\n",
       "      <td>NaN</td>\n",
       "      <td>NaN</td>\n",
       "      <td>NaN</td>\n",
       "      <td>37.0</td>\n",
       "      <td>4.9</td>\n",
       "      <td>yes</td>\n",
       "      <td>11124</td>\n",
       "      <td>0</td>\n",
       "      <td>0</td>\n",
       "      <td>no</td>\n",
       "    </tr>\n",
       "    <tr>\n",
       "      <th>78</th>\n",
       "      <td>yes</td>\n",
       "      <td>adult</td>\n",
       "      <td>530693</td>\n",
       "      <td>NaN</td>\n",
       "      <td>NaN</td>\n",
       "      <td>NaN</td>\n",
       "      <td>cool</td>\n",
       "      <td>reduced</td>\n",
       "      <td>pale_pink</td>\n",
       "      <td>3</td>\n",
       "      <td>extreme_pain</td>\n",
       "      <td>hypomotile</td>\n",
       "      <td>moderate</td>\n",
       "      <td>46.0</td>\n",
       "      <td>5.9</td>\n",
       "      <td>yes</td>\n",
       "      <td>3025</td>\n",
       "      <td>0</td>\n",
       "      <td>0</td>\n",
       "      <td>no</td>\n",
       "    </tr>\n",
       "    <tr>\n",
       "      <th>86</th>\n",
       "      <td>yes</td>\n",
       "      <td>adult</td>\n",
       "      <td>529388</td>\n",
       "      <td>NaN</td>\n",
       "      <td>88.0</td>\n",
       "      <td>40.0</td>\n",
       "      <td>cool</td>\n",
       "      <td>reduced</td>\n",
       "      <td>pale_cyanotic</td>\n",
       "      <td>more_3_sec</td>\n",
       "      <td>extreme_pain</td>\n",
       "      <td>absent</td>\n",
       "      <td>moderate</td>\n",
       "      <td>50.0</td>\n",
       "      <td>7.7</td>\n",
       "      <td>yes</td>\n",
       "      <td>4205</td>\n",
       "      <td>0</td>\n",
       "      <td>0</td>\n",
       "      <td>yes</td>\n",
       "    </tr>\n",
       "    <tr>\n",
       "      <th>87</th>\n",
       "      <td>no</td>\n",
       "      <td>adult</td>\n",
       "      <td>528006</td>\n",
       "      <td>NaN</td>\n",
       "      <td>40.0</td>\n",
       "      <td>16.0</td>\n",
       "      <td>NaN</td>\n",
       "      <td>NaN</td>\n",
       "      <td>NaN</td>\n",
       "      <td>less_3_sec</td>\n",
       "      <td>NaN</td>\n",
       "      <td>NaN</td>\n",
       "      <td>NaN</td>\n",
       "      <td>50.0</td>\n",
       "      <td>7.0</td>\n",
       "      <td>yes</td>\n",
       "      <td>2208</td>\n",
       "      <td>0</td>\n",
       "      <td>0</td>\n",
       "      <td>yes</td>\n",
       "    </tr>\n",
       "    <tr>\n",
       "      <th>93</th>\n",
       "      <td>no</td>\n",
       "      <td>adult</td>\n",
       "      <td>530310</td>\n",
       "      <td>NaN</td>\n",
       "      <td>NaN</td>\n",
       "      <td>NaN</td>\n",
       "      <td>cool</td>\n",
       "      <td>reduced</td>\n",
       "      <td>normal_pink</td>\n",
       "      <td>less_3_sec</td>\n",
       "      <td>extreme_pain</td>\n",
       "      <td>hypomotile</td>\n",
       "      <td>moderate</td>\n",
       "      <td>38.0</td>\n",
       "      <td>6.5</td>\n",
       "      <td>yes</td>\n",
       "      <td>3205</td>\n",
       "      <td>0</td>\n",
       "      <td>0</td>\n",
       "      <td>no</td>\n",
       "    </tr>\n",
       "    <tr>\n",
       "      <th>96</th>\n",
       "      <td>no</td>\n",
       "      <td>adult</td>\n",
       "      <td>530319</td>\n",
       "      <td>NaN</td>\n",
       "      <td>84.0</td>\n",
       "      <td>36.0</td>\n",
       "      <td>NaN</td>\n",
       "      <td>NaN</td>\n",
       "      <td>pale_pink</td>\n",
       "      <td>less_3_sec</td>\n",
       "      <td>NaN</td>\n",
       "      <td>hypomotile</td>\n",
       "      <td>none</td>\n",
       "      <td>44.0</td>\n",
       "      <td>8.5</td>\n",
       "      <td>yes</td>\n",
       "      <td>3111</td>\n",
       "      <td>0</td>\n",
       "      <td>0</td>\n",
       "      <td>no</td>\n",
       "    </tr>\n",
       "    <tr>\n",
       "      <th>101</th>\n",
       "      <td>yes</td>\n",
       "      <td>adult</td>\n",
       "      <td>534899</td>\n",
       "      <td>NaN</td>\n",
       "      <td>60.0</td>\n",
       "      <td>20.0</td>\n",
       "      <td>cold</td>\n",
       "      <td>reduced</td>\n",
       "      <td>pale_cyanotic</td>\n",
       "      <td>more_3_sec</td>\n",
       "      <td>extreme_pain</td>\n",
       "      <td>absent</td>\n",
       "      <td>NaN</td>\n",
       "      <td>NaN</td>\n",
       "      <td>NaN</td>\n",
       "      <td>yes</td>\n",
       "      <td>3205</td>\n",
       "      <td>0</td>\n",
       "      <td>0</td>\n",
       "      <td>no</td>\n",
       "    </tr>\n",
       "    <tr>\n",
       "      <th>105</th>\n",
       "      <td>yes</td>\n",
       "      <td>adult</td>\n",
       "      <td>530381</td>\n",
       "      <td>NaN</td>\n",
       "      <td>70.0</td>\n",
       "      <td>36.0</td>\n",
       "      <td>normal</td>\n",
       "      <td>NaN</td>\n",
       "      <td>pale_pink</td>\n",
       "      <td>more_3_sec</td>\n",
       "      <td>depressed</td>\n",
       "      <td>hypomotile</td>\n",
       "      <td>slight</td>\n",
       "      <td>36.0</td>\n",
       "      <td>7.3</td>\n",
       "      <td>yes</td>\n",
       "      <td>31110</td>\n",
       "      <td>0</td>\n",
       "      <td>0</td>\n",
       "      <td>no</td>\n",
       "    </tr>\n",
       "    <tr>\n",
       "      <th>110</th>\n",
       "      <td>yes</td>\n",
       "      <td>adult</td>\n",
       "      <td>527544</td>\n",
       "      <td>NaN</td>\n",
       "      <td>70.0</td>\n",
       "      <td>16.0</td>\n",
       "      <td>cool</td>\n",
       "      <td>absent</td>\n",
       "      <td>bright_red</td>\n",
       "      <td>more_3_sec</td>\n",
       "      <td>depressed</td>\n",
       "      <td>hypomotile</td>\n",
       "      <td>slight</td>\n",
       "      <td>60.0</td>\n",
       "      <td>7.5</td>\n",
       "      <td>yes</td>\n",
       "      <td>2112</td>\n",
       "      <td>0</td>\n",
       "      <td>0</td>\n",
       "      <td>no</td>\n",
       "    </tr>\n",
       "    <tr>\n",
       "      <th>112</th>\n",
       "      <td>yes</td>\n",
       "      <td>adult</td>\n",
       "      <td>534963</td>\n",
       "      <td>NaN</td>\n",
       "      <td>40.0</td>\n",
       "      <td>NaN</td>\n",
       "      <td>warm</td>\n",
       "      <td>normal</td>\n",
       "      <td>normal_pink</td>\n",
       "      <td>less_3_sec</td>\n",
       "      <td>alert</td>\n",
       "      <td>hypomotile</td>\n",
       "      <td>none</td>\n",
       "      <td>39.0</td>\n",
       "      <td>56.0</td>\n",
       "      <td>yes</td>\n",
       "      <td>3111</td>\n",
       "      <td>0</td>\n",
       "      <td>0</td>\n",
       "      <td>no</td>\n",
       "    </tr>\n",
       "    <tr>\n",
       "      <th>115</th>\n",
       "      <td>no</td>\n",
       "      <td>adult</td>\n",
       "      <td>533723</td>\n",
       "      <td>NaN</td>\n",
       "      <td>NaN</td>\n",
       "      <td>40.0</td>\n",
       "      <td>cool</td>\n",
       "      <td>normal</td>\n",
       "      <td>normal_pink</td>\n",
       "      <td>less_3_sec</td>\n",
       "      <td>mild_pain</td>\n",
       "      <td>hypomotile</td>\n",
       "      <td>slight</td>\n",
       "      <td>45.0</td>\n",
       "      <td>70.0</td>\n",
       "      <td>no</td>\n",
       "      <td>0</td>\n",
       "      <td>0</td>\n",
       "      <td>0</td>\n",
       "      <td>no</td>\n",
       "    </tr>\n",
       "    <tr>\n",
       "      <th>133</th>\n",
       "      <td>yes</td>\n",
       "      <td>adult</td>\n",
       "      <td>527524</td>\n",
       "      <td>NaN</td>\n",
       "      <td>100.0</td>\n",
       "      <td>NaN</td>\n",
       "      <td>cool</td>\n",
       "      <td>NaN</td>\n",
       "      <td>pale_cyanotic</td>\n",
       "      <td>more_3_sec</td>\n",
       "      <td>extreme_pain</td>\n",
       "      <td>absent</td>\n",
       "      <td>NaN</td>\n",
       "      <td>59.0</td>\n",
       "      <td>6.3</td>\n",
       "      <td>yes</td>\n",
       "      <td>4205</td>\n",
       "      <td>0</td>\n",
       "      <td>0</td>\n",
       "      <td>no</td>\n",
       "    </tr>\n",
       "    <tr>\n",
       "      <th>135</th>\n",
       "      <td>yes</td>\n",
       "      <td>adult</td>\n",
       "      <td>530693</td>\n",
       "      <td>NaN</td>\n",
       "      <td>NaN</td>\n",
       "      <td>NaN</td>\n",
       "      <td>cool</td>\n",
       "      <td>reduced</td>\n",
       "      <td>pale_pink</td>\n",
       "      <td>more_3_sec</td>\n",
       "      <td>extreme_pain</td>\n",
       "      <td>hypomotile</td>\n",
       "      <td>moderate</td>\n",
       "      <td>46.0</td>\n",
       "      <td>5.9</td>\n",
       "      <td>yes</td>\n",
       "      <td>3025</td>\n",
       "      <td>0</td>\n",
       "      <td>0</td>\n",
       "      <td>no</td>\n",
       "    </tr>\n",
       "    <tr>\n",
       "      <th>141</th>\n",
       "      <td>yes</td>\n",
       "      <td>adult</td>\n",
       "      <td>530402</td>\n",
       "      <td>NaN</td>\n",
       "      <td>120.0</td>\n",
       "      <td>NaN</td>\n",
       "      <td>cold</td>\n",
       "      <td>reduced</td>\n",
       "      <td>dark_cyanotic</td>\n",
       "      <td>more_3_sec</td>\n",
       "      <td>extreme_pain</td>\n",
       "      <td>absent</td>\n",
       "      <td>severe</td>\n",
       "      <td>57.0</td>\n",
       "      <td>4.5</td>\n",
       "      <td>yes</td>\n",
       "      <td>3205</td>\n",
       "      <td>0</td>\n",
       "      <td>0</td>\n",
       "      <td>yes</td>\n",
       "    </tr>\n",
       "    <tr>\n",
       "      <th>144</th>\n",
       "      <td>no</td>\n",
       "      <td>adult</td>\n",
       "      <td>535246</td>\n",
       "      <td>NaN</td>\n",
       "      <td>80.0</td>\n",
       "      <td>32.0</td>\n",
       "      <td>cool</td>\n",
       "      <td>reduced</td>\n",
       "      <td>bright_pink</td>\n",
       "      <td>less_3_sec</td>\n",
       "      <td>depressed</td>\n",
       "      <td>hypomotile</td>\n",
       "      <td>moderate</td>\n",
       "      <td>50.0</td>\n",
       "      <td>80.0</td>\n",
       "      <td>yes</td>\n",
       "      <td>0</td>\n",
       "      <td>0</td>\n",
       "      <td>0</td>\n",
       "      <td>no</td>\n",
       "    </tr>\n",
       "    <tr>\n",
       "      <th>151</th>\n",
       "      <td>yes</td>\n",
       "      <td>adult</td>\n",
       "      <td>533836</td>\n",
       "      <td>NaN</td>\n",
       "      <td>100.0</td>\n",
       "      <td>NaN</td>\n",
       "      <td>cool</td>\n",
       "      <td>reduced</td>\n",
       "      <td>pale_cyanotic</td>\n",
       "      <td>more_3_sec</td>\n",
       "      <td>NaN</td>\n",
       "      <td>absent</td>\n",
       "      <td>severe</td>\n",
       "      <td>68.0</td>\n",
       "      <td>64.0</td>\n",
       "      <td>yes</td>\n",
       "      <td>2209</td>\n",
       "      <td>0</td>\n",
       "      <td>0</td>\n",
       "      <td>no</td>\n",
       "    </tr>\n",
       "    <tr>\n",
       "      <th>158</th>\n",
       "      <td>no</td>\n",
       "      <td>adult</td>\n",
       "      <td>528134</td>\n",
       "      <td>NaN</td>\n",
       "      <td>NaN</td>\n",
       "      <td>12.0</td>\n",
       "      <td>normal</td>\n",
       "      <td>normal</td>\n",
       "      <td>bright_pink</td>\n",
       "      <td>less_3_sec</td>\n",
       "      <td>depressed</td>\n",
       "      <td>hypermotile</td>\n",
       "      <td>slight</td>\n",
       "      <td>44.0</td>\n",
       "      <td>7.5</td>\n",
       "      <td>no</td>\n",
       "      <td>0</td>\n",
       "      <td>0</td>\n",
       "      <td>0</td>\n",
       "      <td>yes</td>\n",
       "    </tr>\n",
       "    <tr>\n",
       "      <th>159</th>\n",
       "      <td>yes</td>\n",
       "      <td>adult</td>\n",
       "      <td>527916</td>\n",
       "      <td>NaN</td>\n",
       "      <td>NaN</td>\n",
       "      <td>NaN</td>\n",
       "      <td>NaN</td>\n",
       "      <td>NaN</td>\n",
       "      <td>NaN</td>\n",
       "      <td>NaN</td>\n",
       "      <td>severe_pain</td>\n",
       "      <td>NaN</td>\n",
       "      <td>NaN</td>\n",
       "      <td>35.0</td>\n",
       "      <td>58.0</td>\n",
       "      <td>yes</td>\n",
       "      <td>4205</td>\n",
       "      <td>0</td>\n",
       "      <td>0</td>\n",
       "      <td>no</td>\n",
       "    </tr>\n",
       "    <tr>\n",
       "      <th>166</th>\n",
       "      <td>no</td>\n",
       "      <td>adult</td>\n",
       "      <td>528299</td>\n",
       "      <td>NaN</td>\n",
       "      <td>44.0</td>\n",
       "      <td>24.0</td>\n",
       "      <td>normal</td>\n",
       "      <td>normal</td>\n",
       "      <td>normal_pink</td>\n",
       "      <td>less_3_sec</td>\n",
       "      <td>mild_pain</td>\n",
       "      <td>hypomotile</td>\n",
       "      <td>none</td>\n",
       "      <td>NaN</td>\n",
       "      <td>6.3</td>\n",
       "      <td>no</td>\n",
       "      <td>3111</td>\n",
       "      <td>0</td>\n",
       "      <td>0</td>\n",
       "      <td>no</td>\n",
       "    </tr>\n",
       "    <tr>\n",
       "      <th>168</th>\n",
       "      <td>yes</td>\n",
       "      <td>adult</td>\n",
       "      <td>535085</td>\n",
       "      <td>NaN</td>\n",
       "      <td>65.0</td>\n",
       "      <td>24.0</td>\n",
       "      <td>NaN</td>\n",
       "      <td>NaN</td>\n",
       "      <td>NaN</td>\n",
       "      <td>more_3_sec</td>\n",
       "      <td>extreme_pain</td>\n",
       "      <td>NaN</td>\n",
       "      <td>severe</td>\n",
       "      <td>NaN</td>\n",
       "      <td>NaN</td>\n",
       "      <td>yes</td>\n",
       "      <td>3205</td>\n",
       "      <td>0</td>\n",
       "      <td>0</td>\n",
       "      <td>no</td>\n",
       "    </tr>\n",
       "    <tr>\n",
       "      <th>172</th>\n",
       "      <td>yes</td>\n",
       "      <td>adult</td>\n",
       "      <td>529729</td>\n",
       "      <td>NaN</td>\n",
       "      <td>104.0</td>\n",
       "      <td>NaN</td>\n",
       "      <td>cool</td>\n",
       "      <td>reduced</td>\n",
       "      <td>bright_red</td>\n",
       "      <td>more_3_sec</td>\n",
       "      <td>depressed</td>\n",
       "      <td>absent</td>\n",
       "      <td>moderate</td>\n",
       "      <td>69.0</td>\n",
       "      <td>8.6</td>\n",
       "      <td>yes</td>\n",
       "      <td>2207</td>\n",
       "      <td>0</td>\n",
       "      <td>0</td>\n",
       "      <td>yes</td>\n",
       "    </tr>\n",
       "    <tr>\n",
       "      <th>173</th>\n",
       "      <td>no</td>\n",
       "      <td>adult</td>\n",
       "      <td>518476</td>\n",
       "      <td>NaN</td>\n",
       "      <td>NaN</td>\n",
       "      <td>NaN</td>\n",
       "      <td>cool</td>\n",
       "      <td>absent</td>\n",
       "      <td>dark_cyanotic</td>\n",
       "      <td>NaN</td>\n",
       "      <td>severe_pain</td>\n",
       "      <td>NaN</td>\n",
       "      <td>severe</td>\n",
       "      <td>NaN</td>\n",
       "      <td>NaN</td>\n",
       "      <td>yes</td>\n",
       "      <td>3400</td>\n",
       "      <td>0</td>\n",
       "      <td>0</td>\n",
       "      <td>yes</td>\n",
       "    </tr>\n",
       "    <tr>\n",
       "      <th>174</th>\n",
       "      <td>yes</td>\n",
       "      <td>adult</td>\n",
       "      <td>527929</td>\n",
       "      <td>NaN</td>\n",
       "      <td>NaN</td>\n",
       "      <td>NaN</td>\n",
       "      <td>NaN</td>\n",
       "      <td>NaN</td>\n",
       "      <td>NaN</td>\n",
       "      <td>NaN</td>\n",
       "      <td>NaN</td>\n",
       "      <td>NaN</td>\n",
       "      <td>NaN</td>\n",
       "      <td>NaN</td>\n",
       "      <td>NaN</td>\n",
       "      <td>yes</td>\n",
       "      <td>2208</td>\n",
       "      <td>0</td>\n",
       "      <td>0</td>\n",
       "      <td>no</td>\n",
       "    </tr>\n",
       "    <tr>\n",
       "      <th>176</th>\n",
       "      <td>yes</td>\n",
       "      <td>adult</td>\n",
       "      <td>523190</td>\n",
       "      <td>NaN</td>\n",
       "      <td>68.0</td>\n",
       "      <td>14.0</td>\n",
       "      <td>NaN</td>\n",
       "      <td>NaN</td>\n",
       "      <td>pale_cyanotic</td>\n",
       "      <td>less_3_sec</td>\n",
       "      <td>severe_pain</td>\n",
       "      <td>NaN</td>\n",
       "      <td>NaN</td>\n",
       "      <td>NaN</td>\n",
       "      <td>NaN</td>\n",
       "      <td>yes</td>\n",
       "      <td>4205</td>\n",
       "      <td>0</td>\n",
       "      <td>0</td>\n",
       "      <td>yes</td>\n",
       "    </tr>\n",
       "    <tr>\n",
       "      <th>177</th>\n",
       "      <td>yes</td>\n",
       "      <td>adult</td>\n",
       "      <td>533968</td>\n",
       "      <td>NaN</td>\n",
       "      <td>60.0</td>\n",
       "      <td>30.0</td>\n",
       "      <td>cool</td>\n",
       "      <td>reduced</td>\n",
       "      <td>pale_cyanotic</td>\n",
       "      <td>more_3_sec</td>\n",
       "      <td>extreme_pain</td>\n",
       "      <td>absent</td>\n",
       "      <td>severe</td>\n",
       "      <td>45.0</td>\n",
       "      <td>70.0</td>\n",
       "      <td>yes</td>\n",
       "      <td>6111</td>\n",
       "      <td>3111</td>\n",
       "      <td>0</td>\n",
       "      <td>no</td>\n",
       "    </tr>\n",
       "    <tr>\n",
       "      <th>190</th>\n",
       "      <td>no</td>\n",
       "      <td>young</td>\n",
       "      <td>5287279</td>\n",
       "      <td>NaN</td>\n",
       "      <td>100.0</td>\n",
       "      <td>44.0</td>\n",
       "      <td>warm</td>\n",
       "      <td>normal</td>\n",
       "      <td>normal_pink</td>\n",
       "      <td>less_3_sec</td>\n",
       "      <td>severe_pain</td>\n",
       "      <td>hypermotile</td>\n",
       "      <td>none</td>\n",
       "      <td>37.0</td>\n",
       "      <td>4.7</td>\n",
       "      <td>no</td>\n",
       "      <td>7111</td>\n",
       "      <td>0</td>\n",
       "      <td>0</td>\n",
       "      <td>no</td>\n",
       "    </tr>\n",
       "    <tr>\n",
       "      <th>192</th>\n",
       "      <td>yes</td>\n",
       "      <td>adult</td>\n",
       "      <td>529373</td>\n",
       "      <td>NaN</td>\n",
       "      <td>60.0</td>\n",
       "      <td>48.0</td>\n",
       "      <td>cool</td>\n",
       "      <td>reduced</td>\n",
       "      <td>pale_cyanotic</td>\n",
       "      <td>more_3_sec</td>\n",
       "      <td>severe_pain</td>\n",
       "      <td>hypomotile</td>\n",
       "      <td>severe</td>\n",
       "      <td>58.0</td>\n",
       "      <td>7.6</td>\n",
       "      <td>yes</td>\n",
       "      <td>3205</td>\n",
       "      <td>0</td>\n",
       "      <td>0</td>\n",
       "      <td>no</td>\n",
       "    </tr>\n",
       "    <tr>\n",
       "      <th>206</th>\n",
       "      <td>yes</td>\n",
       "      <td>adult</td>\n",
       "      <td>530297</td>\n",
       "      <td>NaN</td>\n",
       "      <td>NaN</td>\n",
       "      <td>NaN</td>\n",
       "      <td>NaN</td>\n",
       "      <td>NaN</td>\n",
       "      <td>NaN</td>\n",
       "      <td>NaN</td>\n",
       "      <td>NaN</td>\n",
       "      <td>NaN</td>\n",
       "      <td>NaN</td>\n",
       "      <td>45.0</td>\n",
       "      <td>8.7</td>\n",
       "      <td>yes</td>\n",
       "      <td>2208</td>\n",
       "      <td>0</td>\n",
       "      <td>0</td>\n",
       "      <td>no</td>\n",
       "    </tr>\n",
       "    <tr>\n",
       "      <th>215</th>\n",
       "      <td>no</td>\n",
       "      <td>adult</td>\n",
       "      <td>528977</td>\n",
       "      <td>NaN</td>\n",
       "      <td>NaN</td>\n",
       "      <td>NaN</td>\n",
       "      <td>NaN</td>\n",
       "      <td>NaN</td>\n",
       "      <td>NaN</td>\n",
       "      <td>NaN</td>\n",
       "      <td>NaN</td>\n",
       "      <td>NaN</td>\n",
       "      <td>NaN</td>\n",
       "      <td>NaN</td>\n",
       "      <td>NaN</td>\n",
       "      <td>no</td>\n",
       "      <td>0</td>\n",
       "      <td>0</td>\n",
       "      <td>0</td>\n",
       "      <td>no</td>\n",
       "    </tr>\n",
       "    <tr>\n",
       "      <th>218</th>\n",
       "      <td>yes</td>\n",
       "      <td>adult</td>\n",
       "      <td>529736</td>\n",
       "      <td>NaN</td>\n",
       "      <td>52.0</td>\n",
       "      <td>28.0</td>\n",
       "      <td>cool</td>\n",
       "      <td>reduced</td>\n",
       "      <td>pale_cyanotic</td>\n",
       "      <td>less_3_sec</td>\n",
       "      <td>mild_pain</td>\n",
       "      <td>absent</td>\n",
       "      <td>moderate</td>\n",
       "      <td>37.0</td>\n",
       "      <td>8.1</td>\n",
       "      <td>yes</td>\n",
       "      <td>2111</td>\n",
       "      <td>0</td>\n",
       "      <td>0</td>\n",
       "      <td>no</td>\n",
       "    </tr>\n",
       "    <tr>\n",
       "      <th>221</th>\n",
       "      <td>yes</td>\n",
       "      <td>adult</td>\n",
       "      <td>528800</td>\n",
       "      <td>NaN</td>\n",
       "      <td>112.0</td>\n",
       "      <td>13.0</td>\n",
       "      <td>cold</td>\n",
       "      <td>absent</td>\n",
       "      <td>pale_cyanotic</td>\n",
       "      <td>less_3_sec</td>\n",
       "      <td>depressed</td>\n",
       "      <td>hypomotile</td>\n",
       "      <td>none</td>\n",
       "      <td>60.0</td>\n",
       "      <td>6.3</td>\n",
       "      <td>yes</td>\n",
       "      <td>2205</td>\n",
       "      <td>0</td>\n",
       "      <td>0</td>\n",
       "      <td>yes</td>\n",
       "    </tr>\n",
       "    <tr>\n",
       "      <th>226</th>\n",
       "      <td>yes</td>\n",
       "      <td>young</td>\n",
       "      <td>5289419</td>\n",
       "      <td>NaN</td>\n",
       "      <td>NaN</td>\n",
       "      <td>NaN</td>\n",
       "      <td>NaN</td>\n",
       "      <td>NaN</td>\n",
       "      <td>NaN</td>\n",
       "      <td>NaN</td>\n",
       "      <td>NaN</td>\n",
       "      <td>NaN</td>\n",
       "      <td>NaN</td>\n",
       "      <td>45.0</td>\n",
       "      <td>6.5</td>\n",
       "      <td>yes</td>\n",
       "      <td>9000</td>\n",
       "      <td>0</td>\n",
       "      <td>0</td>\n",
       "      <td>yes</td>\n",
       "    </tr>\n",
       "    <tr>\n",
       "      <th>241</th>\n",
       "      <td>yes</td>\n",
       "      <td>adult</td>\n",
       "      <td>530354</td>\n",
       "      <td>NaN</td>\n",
       "      <td>36.0</td>\n",
       "      <td>32.0</td>\n",
       "      <td>normal</td>\n",
       "      <td>normal</td>\n",
       "      <td>pale_cyanotic</td>\n",
       "      <td>less_3_sec</td>\n",
       "      <td>extreme_pain</td>\n",
       "      <td>hypomotile</td>\n",
       "      <td>moderate</td>\n",
       "      <td>41.0</td>\n",
       "      <td>5.9</td>\n",
       "      <td>yes</td>\n",
       "      <td>2205</td>\n",
       "      <td>0</td>\n",
       "      <td>0</td>\n",
       "      <td>no</td>\n",
       "    </tr>\n",
       "    <tr>\n",
       "      <th>244</th>\n",
       "      <td>no</td>\n",
       "      <td>adult</td>\n",
       "      <td>528904</td>\n",
       "      <td>NaN</td>\n",
       "      <td>96.0</td>\n",
       "      <td>NaN</td>\n",
       "      <td>cool</td>\n",
       "      <td>reduced</td>\n",
       "      <td>pale_pink</td>\n",
       "      <td>more_3_sec</td>\n",
       "      <td>extreme_pain</td>\n",
       "      <td>absent</td>\n",
       "      <td>severe</td>\n",
       "      <td>60.0</td>\n",
       "      <td>NaN</td>\n",
       "      <td>yes</td>\n",
       "      <td>41110</td>\n",
       "      <td>0</td>\n",
       "      <td>0</td>\n",
       "      <td>no</td>\n",
       "    </tr>\n",
       "    <tr>\n",
       "      <th>252</th>\n",
       "      <td>no</td>\n",
       "      <td>adult</td>\n",
       "      <td>530561</td>\n",
       "      <td>NaN</td>\n",
       "      <td>112.0</td>\n",
       "      <td>24.0</td>\n",
       "      <td>cool</td>\n",
       "      <td>reduced</td>\n",
       "      <td>pale_cyanotic</td>\n",
       "      <td>more_3_sec</td>\n",
       "      <td>extreme_pain</td>\n",
       "      <td>absent</td>\n",
       "      <td>slight</td>\n",
       "      <td>40.0</td>\n",
       "      <td>5.3</td>\n",
       "      <td>no</td>\n",
       "      <td>400</td>\n",
       "      <td>0</td>\n",
       "      <td>0</td>\n",
       "      <td>yes</td>\n",
       "    </tr>\n",
       "    <tr>\n",
       "      <th>253</th>\n",
       "      <td>yes</td>\n",
       "      <td>adult</td>\n",
       "      <td>533738</td>\n",
       "      <td>NaN</td>\n",
       "      <td>80.0</td>\n",
       "      <td>NaN</td>\n",
       "      <td>cool</td>\n",
       "      <td>reduced</td>\n",
       "      <td>pale_pink</td>\n",
       "      <td>less_3_sec</td>\n",
       "      <td>severe_pain</td>\n",
       "      <td>absent</td>\n",
       "      <td>severe</td>\n",
       "      <td>43.0</td>\n",
       "      <td>70.0</td>\n",
       "      <td>yes</td>\n",
       "      <td>3111</td>\n",
       "      <td>0</td>\n",
       "      <td>0</td>\n",
       "      <td>no</td>\n",
       "    </tr>\n",
       "    <tr>\n",
       "      <th>264</th>\n",
       "      <td>no</td>\n",
       "      <td>adult</td>\n",
       "      <td>528590</td>\n",
       "      <td>NaN</td>\n",
       "      <td>56.0</td>\n",
       "      <td>68.0</td>\n",
       "      <td>cool</td>\n",
       "      <td>normal</td>\n",
       "      <td>normal_pink</td>\n",
       "      <td>less_3_sec</td>\n",
       "      <td>mild_pain</td>\n",
       "      <td>hypomotile</td>\n",
       "      <td>none</td>\n",
       "      <td>40.0</td>\n",
       "      <td>6.0</td>\n",
       "      <td>yes</td>\n",
       "      <td>5206</td>\n",
       "      <td>0</td>\n",
       "      <td>0</td>\n",
       "      <td>no</td>\n",
       "    </tr>\n",
       "    <tr>\n",
       "      <th>271</th>\n",
       "      <td>yes</td>\n",
       "      <td>adult</td>\n",
       "      <td>529796</td>\n",
       "      <td>NaN</td>\n",
       "      <td>100.0</td>\n",
       "      <td>30.0</td>\n",
       "      <td>cool</td>\n",
       "      <td>reduced</td>\n",
       "      <td>pale_cyanotic</td>\n",
       "      <td>more_3_sec</td>\n",
       "      <td>extreme_pain</td>\n",
       "      <td>absent</td>\n",
       "      <td>severe</td>\n",
       "      <td>52.0</td>\n",
       "      <td>6.6</td>\n",
       "      <td>yes</td>\n",
       "      <td>2124</td>\n",
       "      <td>0</td>\n",
       "      <td>0</td>\n",
       "      <td>no</td>\n",
       "    </tr>\n",
       "    <tr>\n",
       "      <th>273</th>\n",
       "      <td>yes</td>\n",
       "      <td>adult</td>\n",
       "      <td>534624</td>\n",
       "      <td>NaN</td>\n",
       "      <td>76.0</td>\n",
       "      <td>NaN</td>\n",
       "      <td>NaN</td>\n",
       "      <td>reduced</td>\n",
       "      <td>NaN</td>\n",
       "      <td>NaN</td>\n",
       "      <td>NaN</td>\n",
       "      <td>absent</td>\n",
       "      <td>severe</td>\n",
       "      <td>NaN</td>\n",
       "      <td>NaN</td>\n",
       "      <td>yes</td>\n",
       "      <td>11124</td>\n",
       "      <td>0</td>\n",
       "      <td>0</td>\n",
       "      <td>no</td>\n",
       "    </tr>\n",
       "    <tr>\n",
       "      <th>281</th>\n",
       "      <td>yes</td>\n",
       "      <td>adult</td>\n",
       "      <td>527544</td>\n",
       "      <td>NaN</td>\n",
       "      <td>70.0</td>\n",
       "      <td>16.0</td>\n",
       "      <td>cool</td>\n",
       "      <td>absent</td>\n",
       "      <td>bright_red</td>\n",
       "      <td>more_3_sec</td>\n",
       "      <td>depressed</td>\n",
       "      <td>hypomotile</td>\n",
       "      <td>slight</td>\n",
       "      <td>60.0</td>\n",
       "      <td>7.5</td>\n",
       "      <td>yes</td>\n",
       "      <td>1400</td>\n",
       "      <td>0</td>\n",
       "      <td>0</td>\n",
       "      <td>no</td>\n",
       "    </tr>\n",
       "    <tr>\n",
       "      <th>287</th>\n",
       "      <td>yes</td>\n",
       "      <td>adult</td>\n",
       "      <td>529428</td>\n",
       "      <td>NaN</td>\n",
       "      <td>NaN</td>\n",
       "      <td>NaN</td>\n",
       "      <td>NaN</td>\n",
       "      <td>NaN</td>\n",
       "      <td>NaN</td>\n",
       "      <td>NaN</td>\n",
       "      <td>NaN</td>\n",
       "      <td>NaN</td>\n",
       "      <td>NaN</td>\n",
       "      <td>NaN</td>\n",
       "      <td>NaN</td>\n",
       "      <td>yes</td>\n",
       "      <td>2124</td>\n",
       "      <td>0</td>\n",
       "      <td>0</td>\n",
       "      <td>no</td>\n",
       "    </tr>\n",
       "    <tr>\n",
       "      <th>292</th>\n",
       "      <td>yes</td>\n",
       "      <td>adult</td>\n",
       "      <td>534004</td>\n",
       "      <td>NaN</td>\n",
       "      <td>78.0</td>\n",
       "      <td>24.0</td>\n",
       "      <td>cool</td>\n",
       "      <td>reduced</td>\n",
       "      <td>pale_pink</td>\n",
       "      <td>less_3_sec</td>\n",
       "      <td>NaN</td>\n",
       "      <td>hypomotile</td>\n",
       "      <td>NaN</td>\n",
       "      <td>43.0</td>\n",
       "      <td>62.0</td>\n",
       "      <td>no</td>\n",
       "      <td>2209</td>\n",
       "      <td>0</td>\n",
       "      <td>0</td>\n",
       "      <td>no</td>\n",
       "    </tr>\n",
       "    <tr>\n",
       "      <th>294</th>\n",
       "      <td>yes</td>\n",
       "      <td>adult</td>\n",
       "      <td>533886</td>\n",
       "      <td>NaN</td>\n",
       "      <td>120.0</td>\n",
       "      <td>70.0</td>\n",
       "      <td>cold</td>\n",
       "      <td>NaN</td>\n",
       "      <td>pale_cyanotic</td>\n",
       "      <td>more_3_sec</td>\n",
       "      <td>depressed</td>\n",
       "      <td>absent</td>\n",
       "      <td>NaN</td>\n",
       "      <td>55.0</td>\n",
       "      <td>65.0</td>\n",
       "      <td>no</td>\n",
       "      <td>3205</td>\n",
       "      <td>0</td>\n",
       "      <td>0</td>\n",
       "      <td>no</td>\n",
       "    </tr>\n",
       "  </tbody>\n",
       "</table>\n",
       "</div>"
      ],
      "text/plain": [
       "    surgery    age  hospital_number  rectal_temp  pulse  respiratory_rate  \\\n",
       "5        no  adult           528355          NaN    NaN               NaN   \n",
       "7       yes  adult           529607          NaN   60.0               NaN   \n",
       "8        no  adult           530051          NaN   80.0              36.0   \n",
       "16      yes  young          5301219          NaN  128.0              36.0   \n",
       "28      yes  adult          5279442          NaN    NaN               NaN   \n",
       "34      yes  adult           529796          NaN  100.0              30.0   \n",
       "35       no  adult           528812          NaN  104.0              24.0   \n",
       "40      yes  adult           529498          NaN   88.0               NaN   \n",
       "43      yes  adult           534069          NaN  120.0               NaN   \n",
       "45       no  adult           529827          NaN  120.0               NaN   \n",
       "52       no  adult           529483          NaN    NaN               NaN   \n",
       "56      yes  adult           528872          NaN    NaN               NaN   \n",
       "57      yes  adult           529640          NaN   64.0              36.0   \n",
       "58      yes  adult           528298          NaN    NaN              20.0   \n",
       "59       no  adult           528904          NaN   96.0               NaN   \n",
       "65      yes  adult           534885          NaN   60.0              36.0   \n",
       "68       no  adult           529777          NaN   52.0              16.0   \n",
       "74      yes  young          5292929          NaN    NaN               NaN   \n",
       "78      yes  adult           530693          NaN    NaN               NaN   \n",
       "86      yes  adult           529388          NaN   88.0              40.0   \n",
       "87       no  adult           528006          NaN   40.0              16.0   \n",
       "93       no  adult           530310          NaN    NaN               NaN   \n",
       "96       no  adult           530319          NaN   84.0              36.0   \n",
       "101     yes  adult           534899          NaN   60.0              20.0   \n",
       "105     yes  adult           530381          NaN   70.0              36.0   \n",
       "110     yes  adult           527544          NaN   70.0              16.0   \n",
       "112     yes  adult           534963          NaN   40.0               NaN   \n",
       "115      no  adult           533723          NaN    NaN              40.0   \n",
       "133     yes  adult           527524          NaN  100.0               NaN   \n",
       "135     yes  adult           530693          NaN    NaN               NaN   \n",
       "141     yes  adult           530402          NaN  120.0               NaN   \n",
       "144      no  adult           535246          NaN   80.0              32.0   \n",
       "151     yes  adult           533836          NaN  100.0               NaN   \n",
       "158      no  adult           528134          NaN    NaN              12.0   \n",
       "159     yes  adult           527916          NaN    NaN               NaN   \n",
       "166      no  adult           528299          NaN   44.0              24.0   \n",
       "168     yes  adult           535085          NaN   65.0              24.0   \n",
       "172     yes  adult           529729          NaN  104.0               NaN   \n",
       "173      no  adult           518476          NaN    NaN               NaN   \n",
       "174     yes  adult           527929          NaN    NaN               NaN   \n",
       "176     yes  adult           523190          NaN   68.0              14.0   \n",
       "177     yes  adult           533968          NaN   60.0              30.0   \n",
       "190      no  young          5287279          NaN  100.0              44.0   \n",
       "192     yes  adult           529373          NaN   60.0              48.0   \n",
       "206     yes  adult           530297          NaN    NaN               NaN   \n",
       "215      no  adult           528977          NaN    NaN               NaN   \n",
       "218     yes  adult           529736          NaN   52.0              28.0   \n",
       "221     yes  adult           528800          NaN  112.0              13.0   \n",
       "226     yes  young          5289419          NaN    NaN               NaN   \n",
       "241     yes  adult           530354          NaN   36.0              32.0   \n",
       "244      no  adult           528904          NaN   96.0               NaN   \n",
       "252      no  adult           530561          NaN  112.0              24.0   \n",
       "253     yes  adult           533738          NaN   80.0               NaN   \n",
       "264      no  adult           528590          NaN   56.0              68.0   \n",
       "271     yes  adult           529796          NaN  100.0              30.0   \n",
       "273     yes  adult           534624          NaN   76.0               NaN   \n",
       "281     yes  adult           527544          NaN   70.0              16.0   \n",
       "287     yes  adult           529428          NaN    NaN               NaN   \n",
       "292     yes  adult           534004          NaN   78.0              24.0   \n",
       "294     yes  adult           533886          NaN  120.0              70.0   \n",
       "\n",
       "    temp_of_extremities peripheral_pulse mucous_membrane  \\\n",
       "5                  warm           normal       pale_pink   \n",
       "7                  cool              NaN             NaN   \n",
       "8                  cool           absent       pale_pink   \n",
       "16                 cool          reduced   pale_cyanotic   \n",
       "28                  NaN              NaN             NaN   \n",
       "34                 cool          reduced   pale_cyanotic   \n",
       "35                 cold          reduced       pale_pink   \n",
       "40                 cool          reduced   dark_cyanotic   \n",
       "43                 cool           absent   pale_cyanotic   \n",
       "45                 cold          reduced   pale_cyanotic   \n",
       "52               normal           normal       pale_pink   \n",
       "56                  NaN              NaN             NaN   \n",
       "57                 warm              NaN     bright_pink   \n",
       "58                 cold          reduced       pale_pink   \n",
       "59                 cool          reduced       pale_pink   \n",
       "65                 cool           normal       pale_pink   \n",
       "68               normal              NaN       pale_pink   \n",
       "74                  NaN              NaN             NaN   \n",
       "78                 cool          reduced       pale_pink   \n",
       "86                 cool          reduced   pale_cyanotic   \n",
       "87                  NaN              NaN             NaN   \n",
       "93                 cool          reduced     normal_pink   \n",
       "96                  NaN              NaN       pale_pink   \n",
       "101                cold          reduced   pale_cyanotic   \n",
       "105              normal              NaN       pale_pink   \n",
       "110                cool           absent      bright_red   \n",
       "112                warm           normal     normal_pink   \n",
       "115                cool           normal     normal_pink   \n",
       "133                cool              NaN   pale_cyanotic   \n",
       "135                cool          reduced       pale_pink   \n",
       "141                cold          reduced   dark_cyanotic   \n",
       "144                cool          reduced     bright_pink   \n",
       "151                cool          reduced   pale_cyanotic   \n",
       "158              normal           normal     bright_pink   \n",
       "159                 NaN              NaN             NaN   \n",
       "166              normal           normal     normal_pink   \n",
       "168                 NaN              NaN             NaN   \n",
       "172                cool          reduced      bright_red   \n",
       "173                cool           absent   dark_cyanotic   \n",
       "174                 NaN              NaN             NaN   \n",
       "176                 NaN              NaN   pale_cyanotic   \n",
       "177                cool          reduced   pale_cyanotic   \n",
       "190                warm           normal     normal_pink   \n",
       "192                cool          reduced   pale_cyanotic   \n",
       "206                 NaN              NaN             NaN   \n",
       "215                 NaN              NaN             NaN   \n",
       "218                cool          reduced   pale_cyanotic   \n",
       "221                cold           absent   pale_cyanotic   \n",
       "226                 NaN              NaN             NaN   \n",
       "241              normal           normal   pale_cyanotic   \n",
       "244                cool          reduced       pale_pink   \n",
       "252                cool          reduced   pale_cyanotic   \n",
       "253                cool          reduced       pale_pink   \n",
       "264                cool           normal     normal_pink   \n",
       "271                cool          reduced   pale_cyanotic   \n",
       "273                 NaN          reduced             NaN   \n",
       "281                cool           absent      bright_red   \n",
       "287                 NaN              NaN             NaN   \n",
       "292                cool          reduced       pale_pink   \n",
       "294                cold              NaN   pale_cyanotic   \n",
       "\n",
       "    capillary_refill_time          pain  peristalsis abdominal_distention  \\\n",
       "5              less_3_sec     depressed   hypomotile               slight   \n",
       "7              less_3_sec           NaN       absent               slight   \n",
       "8              less_3_sec   severe_pain       absent               severe   \n",
       "16             more_3_sec   severe_pain       absent             moderate   \n",
       "28                    NaN           NaN          NaN                  NaN   \n",
       "34             more_3_sec  extreme_pain       absent               severe   \n",
       "35             more_3_sec   severe_pain       absent             moderate   \n",
       "40             more_3_sec  extreme_pain   hypomotile             moderate   \n",
       "43             less_3_sec   severe_pain       absent               severe   \n",
       "45             more_3_sec  extreme_pain       absent               severe   \n",
       "52             less_3_sec         alert   hypomotile                 none   \n",
       "56                    NaN           NaN          NaN                  NaN   \n",
       "57             less_3_sec  extreme_pain   hypomotile             moderate   \n",
       "58                    NaN  extreme_pain       absent             moderate   \n",
       "59             more_3_sec  extreme_pain       absent               severe   \n",
       "65             less_3_sec     mild_pain   hypomotile               slight   \n",
       "68             less_3_sec           NaN          NaN                  NaN   \n",
       "74                    NaN           NaN          NaN                  NaN   \n",
       "78                      3  extreme_pain   hypomotile             moderate   \n",
       "86             more_3_sec  extreme_pain       absent             moderate   \n",
       "87             less_3_sec           NaN          NaN                  NaN   \n",
       "93             less_3_sec  extreme_pain   hypomotile             moderate   \n",
       "96             less_3_sec           NaN   hypomotile                 none   \n",
       "101            more_3_sec  extreme_pain       absent                  NaN   \n",
       "105            more_3_sec     depressed   hypomotile               slight   \n",
       "110            more_3_sec     depressed   hypomotile               slight   \n",
       "112            less_3_sec         alert   hypomotile                 none   \n",
       "115            less_3_sec     mild_pain   hypomotile               slight   \n",
       "133            more_3_sec  extreme_pain       absent                  NaN   \n",
       "135            more_3_sec  extreme_pain   hypomotile             moderate   \n",
       "141            more_3_sec  extreme_pain       absent               severe   \n",
       "144            less_3_sec     depressed   hypomotile             moderate   \n",
       "151            more_3_sec           NaN       absent               severe   \n",
       "158            less_3_sec     depressed  hypermotile               slight   \n",
       "159                   NaN   severe_pain          NaN                  NaN   \n",
       "166            less_3_sec     mild_pain   hypomotile                 none   \n",
       "168            more_3_sec  extreme_pain          NaN               severe   \n",
       "172            more_3_sec     depressed       absent             moderate   \n",
       "173                   NaN   severe_pain          NaN               severe   \n",
       "174                   NaN           NaN          NaN                  NaN   \n",
       "176            less_3_sec   severe_pain          NaN                  NaN   \n",
       "177            more_3_sec  extreme_pain       absent               severe   \n",
       "190            less_3_sec   severe_pain  hypermotile                 none   \n",
       "192            more_3_sec   severe_pain   hypomotile               severe   \n",
       "206                   NaN           NaN          NaN                  NaN   \n",
       "215                   NaN           NaN          NaN                  NaN   \n",
       "218            less_3_sec     mild_pain       absent             moderate   \n",
       "221            less_3_sec     depressed   hypomotile                 none   \n",
       "226                   NaN           NaN          NaN                  NaN   \n",
       "241            less_3_sec  extreme_pain   hypomotile             moderate   \n",
       "244            more_3_sec  extreme_pain       absent               severe   \n",
       "252            more_3_sec  extreme_pain       absent               slight   \n",
       "253            less_3_sec   severe_pain       absent               severe   \n",
       "264            less_3_sec     mild_pain   hypomotile                 none   \n",
       "271            more_3_sec  extreme_pain       absent               severe   \n",
       "273                   NaN           NaN       absent               severe   \n",
       "281            more_3_sec     depressed   hypomotile               slight   \n",
       "287                   NaN           NaN          NaN                  NaN   \n",
       "292            less_3_sec           NaN   hypomotile                  NaN   \n",
       "294            more_3_sec     depressed       absent                  NaN   \n",
       "\n",
       "     packed_cell_volume  total_protein surgical_lesion  lesion_1  lesion_2  \\\n",
       "5                   NaN            NaN              no         0         0   \n",
       "7                  44.0            8.3             yes      2208         0   \n",
       "8                  38.0            6.2             yes      3205         0   \n",
       "16                 53.0            7.8              no      1400         0   \n",
       "28                  NaN            NaN              no      4300         0   \n",
       "34                 52.0            6.6             yes      1124         0   \n",
       "35                 73.0            8.4             yes      7111         0   \n",
       "40                 63.0            6.5             yes      4205         0   \n",
       "43                 52.0           67.0             yes      3205         0   \n",
       "45                 60.0            6.5             yes      3205         0   \n",
       "52                 43.0            7.7              no      3111         0   \n",
       "56                 24.0            6.7             yes      3112         0   \n",
       "57                 42.0            7.7             yes      3209         0   \n",
       "58                 53.0            5.9             yes      3205         0   \n",
       "59                 60.0            NaN             yes      4205         0   \n",
       "65                 26.0           72.0             yes      2208         0   \n",
       "68                 55.0            7.2              no      2124         0   \n",
       "74                 37.0            4.9             yes     11124         0   \n",
       "78                 46.0            5.9             yes      3025         0   \n",
       "86                 50.0            7.7             yes      4205         0   \n",
       "87                 50.0            7.0             yes      2208         0   \n",
       "93                 38.0            6.5             yes      3205         0   \n",
       "96                 44.0            8.5             yes      3111         0   \n",
       "101                 NaN            NaN             yes      3205         0   \n",
       "105                36.0            7.3             yes     31110         0   \n",
       "110                60.0            7.5             yes      2112         0   \n",
       "112                39.0           56.0             yes      3111         0   \n",
       "115                45.0           70.0              no         0         0   \n",
       "133                59.0            6.3             yes      4205         0   \n",
       "135                46.0            5.9             yes      3025         0   \n",
       "141                57.0            4.5             yes      3205         0   \n",
       "144                50.0           80.0             yes         0         0   \n",
       "151                68.0           64.0             yes      2209         0   \n",
       "158                44.0            7.5              no         0         0   \n",
       "159                35.0           58.0             yes      4205         0   \n",
       "166                 NaN            6.3              no      3111         0   \n",
       "168                 NaN            NaN             yes      3205         0   \n",
       "172                69.0            8.6             yes      2207         0   \n",
       "173                 NaN            NaN             yes      3400         0   \n",
       "174                 NaN            NaN             yes      2208         0   \n",
       "176                 NaN            NaN             yes      4205         0   \n",
       "177                45.0           70.0             yes      6111      3111   \n",
       "190                37.0            4.7              no      7111         0   \n",
       "192                58.0            7.6             yes      3205         0   \n",
       "206                45.0            8.7             yes      2208         0   \n",
       "215                 NaN            NaN              no         0         0   \n",
       "218                37.0            8.1             yes      2111         0   \n",
       "221                60.0            6.3             yes      2205         0   \n",
       "226                45.0            6.5             yes      9000         0   \n",
       "241                41.0            5.9             yes      2205         0   \n",
       "244                60.0            NaN             yes     41110         0   \n",
       "252                40.0            5.3              no       400         0   \n",
       "253                43.0           70.0             yes      3111         0   \n",
       "264                40.0            6.0             yes      5206         0   \n",
       "271                52.0            6.6             yes      2124         0   \n",
       "273                 NaN            NaN             yes     11124         0   \n",
       "281                60.0            7.5             yes      1400         0   \n",
       "287                 NaN            NaN             yes      2124         0   \n",
       "292                43.0           62.0              no      2209         0   \n",
       "294                55.0           65.0              no      3205         0   \n",
       "\n",
       "     lesion_3 cp_data  \n",
       "5           0      no  \n",
       "7           0      no  \n",
       "8           0      no  \n",
       "16          0     yes  \n",
       "28          0      no  \n",
       "34          0      no  \n",
       "35          0      no  \n",
       "40          0      no  \n",
       "43          0      no  \n",
       "45          0      no  \n",
       "52          0      no  \n",
       "56          0      no  \n",
       "57          0      no  \n",
       "58          0     yes  \n",
       "59          0      no  \n",
       "65          0      no  \n",
       "68          0      no  \n",
       "74          0      no  \n",
       "78          0      no  \n",
       "86          0     yes  \n",
       "87          0     yes  \n",
       "93          0      no  \n",
       "96          0      no  \n",
       "101         0      no  \n",
       "105         0      no  \n",
       "110         0      no  \n",
       "112         0      no  \n",
       "115         0      no  \n",
       "133         0      no  \n",
       "135         0      no  \n",
       "141         0     yes  \n",
       "144         0      no  \n",
       "151         0      no  \n",
       "158         0     yes  \n",
       "159         0      no  \n",
       "166         0      no  \n",
       "168         0      no  \n",
       "172         0     yes  \n",
       "173         0     yes  \n",
       "174         0      no  \n",
       "176         0     yes  \n",
       "177         0      no  \n",
       "190         0      no  \n",
       "192         0      no  \n",
       "206         0      no  \n",
       "215         0      no  \n",
       "218         0      no  \n",
       "221         0     yes  \n",
       "226         0     yes  \n",
       "241         0      no  \n",
       "244         0      no  \n",
       "252         0     yes  \n",
       "253         0      no  \n",
       "264         0      no  \n",
       "271         0      no  \n",
       "273         0      no  \n",
       "281         0      no  \n",
       "287         0      no  \n",
       "292         0      no  \n",
       "294         0      no  "
      ]
     },
     "execution_count": 15,
     "metadata": {},
     "output_type": "execute_result"
    }
   ],
   "source": [
    "animals[pd.isnull(animals['rectal_temp'])]"
   ]
  },
  {
   "cell_type": "code",
   "execution_count": 16,
   "id": "c3956266",
   "metadata": {},
   "outputs": [
    {
     "data": {
      "text/plain": [
       "adult    275\n",
       "young     24\n",
       "Name: age, dtype: int64"
      ]
     },
     "execution_count": 16,
     "metadata": {},
     "output_type": "execute_result"
    }
   ],
   "source": [
    "animals['age'].value_counts()"
   ]
  },
  {
   "cell_type": "code",
   "execution_count": 17,
   "id": "06a1afe7",
   "metadata": {},
   "outputs": [
    {
     "name": "stdout",
     "output_type": "stream",
     "text": [
      "rectal_temp\n",
      "38.12511415525117\n",
      "38.644999999999996\n",
      "\n",
      "\n",
      "pulse\n",
      "67.53359683794466\n",
      "123.36363636363636\n",
      "\n",
      "\n",
      "respiratory_rate\n",
      "28.27601809954751\n",
      "54.6\n",
      "\n",
      "\n",
      "packed_cell_volume\n",
      "46.77732793522267\n",
      "41.26086956521739\n",
      "\n",
      "\n",
      "total_protein\n",
      "25.24303278688525\n",
      "13.531818181818181\n",
      "\n",
      "\n"
     ]
    }
   ],
   "source": [
    "#rectal_temp\n",
    "print('rectal_temp')\n",
    "print(animals[animals['age'] == 'adult']['rectal_temp'].mean())\n",
    "print(animals[animals['age'] == 'young']['rectal_temp'].mean())\n",
    "print('\\n')\n",
    "\n",
    "#pulse\n",
    "print('pulse')\n",
    "print(animals[animals['age'] == 'adult']['pulse'].mean())\n",
    "print(animals[animals['age'] == 'young']['pulse'].mean())\n",
    "print('\\n')\n",
    "\n",
    "#respiratory_rate\n",
    "print('respiratory_rate')\n",
    "print(animals[animals['age'] == 'adult']['respiratory_rate'].mean())\n",
    "print(animals[animals['age'] == 'young']['respiratory_rate'].mean())\n",
    "print('\\n')\n",
    "\n",
    "#packed_cell_volume \n",
    "print('packed_cell_volume')\n",
    "print(animals[animals['age'] == 'adult']['packed_cell_volume'].mean())\n",
    "print(animals[animals['age'] == 'young']['packed_cell_volume'].mean())\n",
    "print('\\n')\n",
    "\n",
    "#total_protein\n",
    "print('total_protein')\n",
    "print(animals[animals['age'] == 'adult']['total_protein'].mean())\n",
    "print(animals[animals['age'] == 'young']['total_protein'].mean())\n",
    "print('\\n')\n"
   ]
  },
  {
   "cell_type": "markdown",
   "id": "b17d08f3",
   "metadata": {},
   "source": [
    "<b>\n",
    "rectal_temp        ==> can use mean directly ==> no need of grouped mean as there is no much variations <br>\n",
    "pulse              ==> use grouped mean based on age ==> adult: 67 and yound ==> 123 <br>\n",
    "respiratory_rate   ==> use grouped mean based on age ==> adult: 28 and yound ==> 54 <br>\n",
    "packed_cell_volume ==> use grouped mean based on age ==> adult: 46 and yound ==> 41 <br>\n",
    "total_protein      ==> use grouped mean based on age ==> adult: 25 and yound ==> 13 <br>"
   ]
  },
  {
   "cell_type": "code",
   "execution_count": 18,
   "id": "33d320df",
   "metadata": {},
   "outputs": [
    {
     "data": {
      "text/plain": [
       "38"
      ]
     },
     "execution_count": 18,
     "metadata": {},
     "output_type": "execute_result"
    }
   ],
   "source": [
    "int(animals['rectal_temp'].mean())"
   ]
  },
  {
   "cell_type": "code",
   "execution_count": 19,
   "id": "0468c429",
   "metadata": {},
   "outputs": [],
   "source": [
    "#rectal_temp\n",
    "animals['rectal_temp'] = animals['rectal_temp'].fillna(int(animals['rectal_temp'].mean()))"
   ]
  },
  {
   "cell_type": "code",
   "execution_count": 20,
   "id": "3db82dc0",
   "metadata": {},
   "outputs": [],
   "source": [
    "def fill_missing(cols):\n",
    "    age     = cols[0]\n",
    "    val     = cols[1]\n",
    "    colname = cols[2]\n",
    "    \n",
    "    if pd.isnull(val):\n",
    "        return animals[animals['age'] == age][colname].mean()\n",
    "    else:\n",
    "        return val"
   ]
  },
  {
   "cell_type": "code",
   "execution_count": 21,
   "id": "de8c8b5b",
   "metadata": {},
   "outputs": [],
   "source": [
    "#pulse\n",
    "animals['temp_col_name'] = 'pulse'\n",
    "animals['pulse'] = animals[['age', 'pulse', 'temp_col_name']].apply(fill_missing, axis=1)"
   ]
  },
  {
   "cell_type": "code",
   "execution_count": 22,
   "id": "3119ac0b",
   "metadata": {},
   "outputs": [],
   "source": [
    "#respiratory_rate\n",
    "animals['temp_col_name'] = 'respiratory_rate'\n",
    "animals['respiratory_rate'] = animals[['age', 'respiratory_rate', 'temp_col_name']].apply(fill_missing, axis=1)"
   ]
  },
  {
   "cell_type": "code",
   "execution_count": 23,
   "id": "cd07fbf1",
   "metadata": {},
   "outputs": [],
   "source": [
    "#packed_cell_volume\n",
    "animals['temp_col_name'] = 'packed_cell_volume'\n",
    "animals['packed_cell_volume'] = animals[['age', 'packed_cell_volume', 'temp_col_name']].apply(fill_missing, axis=1)"
   ]
  },
  {
   "cell_type": "code",
   "execution_count": 24,
   "id": "3fc88fb1",
   "metadata": {},
   "outputs": [],
   "source": [
    "#total_protein\n",
    "animals['temp_col_name'] = 'total_protein'\n",
    "animals['total_protein'] = animals[['age', 'total_protein', 'temp_col_name']].apply(fill_missing, axis=1)"
   ]
  },
  {
   "cell_type": "code",
   "execution_count": 25,
   "id": "3e293fdb",
   "metadata": {},
   "outputs": [],
   "source": [
    "animals = animals.drop('temp_col_name', axis=1)"
   ]
  },
  {
   "cell_type": "code",
   "execution_count": 26,
   "id": "1b5eeafc",
   "metadata": {},
   "outputs": [
    {
     "name": "stdout",
     "output_type": "stream",
     "text": [
      "<class 'pandas.core.frame.DataFrame'>\n",
      "RangeIndex: 299 entries, 0 to 298\n",
      "Data columns (total 20 columns):\n",
      " #   Column                 Non-Null Count  Dtype  \n",
      "---  ------                 --------------  -----  \n",
      " 0   surgery                299 non-null    object \n",
      " 1   age                    299 non-null    object \n",
      " 2   hospital_number        299 non-null    int64  \n",
      " 3   rectal_temp            299 non-null    float64\n",
      " 4   pulse                  299 non-null    float64\n",
      " 5   respiratory_rate       299 non-null    float64\n",
      " 6   temp_of_extremities    243 non-null    object \n",
      " 7   peripheral_pulse       230 non-null    object \n",
      " 8   mucous_membrane        252 non-null    object \n",
      " 9   capillary_refill_time  267 non-null    object \n",
      " 10  pain                   244 non-null    object \n",
      " 11  peristalsis            255 non-null    object \n",
      " 12  abdominal_distention   243 non-null    object \n",
      " 13  packed_cell_volume     299 non-null    float64\n",
      " 14  total_protein          299 non-null    float64\n",
      " 15  surgical_lesion        299 non-null    object \n",
      " 16  lesion_1               299 non-null    int64  \n",
      " 17  lesion_2               299 non-null    int64  \n",
      " 18  lesion_3               299 non-null    int64  \n",
      " 19  cp_data                299 non-null    object \n",
      "dtypes: float64(5), int64(4), object(11)\n",
      "memory usage: 46.8+ KB\n"
     ]
    }
   ],
   "source": [
    "animals.info()"
   ]
  },
  {
   "cell_type": "markdown",
   "id": "36358291",
   "metadata": {},
   "source": [
    "Below are the objects that are having missing values <br>\n",
    " 6   temp_of_extremities    243 non-null    object <br>\n",
    " 7   peripheral_pulse       230 non-null    object <br>\n",
    " 8   mucous_membrane        252 non-null    object <br>\n",
    " 9   capillary_refill_time  267 non-null    object <br>\n",
    " 10  pain                   244 non-null    object <br>\n",
    " 11  peristalsis            255 non-null    object <br>\n",
    " 12  abdominal_distention   243 non-null    object "
   ]
  },
  {
   "cell_type": "code",
   "execution_count": 27,
   "id": "d3798ddd",
   "metadata": {},
   "outputs": [
    {
     "name": "stdout",
     "output_type": "stream",
     "text": [
      "temp_of_extremities\n",
      "Mode of temp of extemeties is  cool\n",
      "cool\n",
      "cool\n",
      "\n",
      "\n",
      "peripheral_pulse\n",
      "Mode of temp of peripheral_pulse is  normal\n",
      "0    normal\n",
      "dtype: object\n",
      "0    reduced\n",
      "dtype: object\n",
      "\n",
      "\n",
      "mucous_membrane\n",
      "Mode of temp of mucous_membrane is  normal_pink\n",
      "0    normal_pink\n",
      "dtype: object\n",
      "0    bright_pink\n",
      "dtype: object\n",
      "\n",
      "\n",
      "capillary_refill_time\n",
      "Mode of temp of capillary_refill_time is  less_3_sec\n",
      "0    less_3_sec\n",
      "dtype: object\n",
      "0    less_3_sec\n",
      "dtype: object\n",
      "\n",
      "\n"
     ]
    }
   ],
   "source": [
    "#temp_of_extremities\n",
    "print('temp_of_extremities')\n",
    "print('Mode of temp of extemeties is ', animals['temp_of_extremities'].mode()[0])\n",
    "print(animals[animals['age'] == 'adult']['temp_of_extremities'].mode()[0])\n",
    "print(animals[animals['age'] == 'young']['temp_of_extremities'].mode()[0])\n",
    "print('\\n')\n",
    "\n",
    "\n",
    "#peripheral_pulse\n",
    "print('peripheral_pulse')\n",
    "print('Mode of temp of peripheral_pulse is ', animals['peripheral_pulse'].mode()[0])\n",
    "print(animals[animals['age'] == 'adult']['peripheral_pulse'].mode())\n",
    "print(animals[animals['age'] == 'young']['peripheral_pulse'].mode())\n",
    "print('\\n')\n",
    "\n",
    "#mucous_membrane\n",
    "print('mucous_membrane')\n",
    "print('Mode of temp of mucous_membrane is ', animals['mucous_membrane'].mode()[0])\n",
    "print(animals[animals['age'] == 'adult']['mucous_membrane'].mode())\n",
    "print(animals[animals['age'] == 'young']['mucous_membrane'].mode())\n",
    "print('\\n')\n",
    "\n",
    "#capillary_refill_time\n",
    "print('capillary_refill_time')\n",
    "print('Mode of temp of capillary_refill_time is ', animals['capillary_refill_time'].mode()[0])\n",
    "print(animals[animals['age'] == 'adult']['capillary_refill_time'].mode())\n",
    "print(animals[animals['age'] == 'young']['capillary_refill_time'].mode())\n",
    "print('\\n')"
   ]
  },
  {
   "cell_type": "markdown",
   "id": "9847b4f3",
   "metadata": {},
   "source": [
    "With above observations, for age == young, value of missing feature is not always the same the mode of the complete feature - so we will fill the missing values based on grouped mode value on basis of the feature age"
   ]
  },
  {
   "cell_type": "code",
   "execution_count": 28,
   "id": "8b261411",
   "metadata": {},
   "outputs": [],
   "source": [
    "def fill_missing_objects(cols):\n",
    "    age      = cols[0]\n",
    "    val      = cols[1]\n",
    "    col_name = cols[2]\n",
    "    \n",
    "    if pd.isnull(val):\n",
    "        return animals[animals['age'] == age][col_name].mode()[0]\n",
    "    else:\n",
    "        return val"
   ]
  },
  {
   "cell_type": "code",
   "execution_count": 29,
   "id": "6325e632",
   "metadata": {},
   "outputs": [
    {
     "data": {
      "text/plain": [
       "0      cool\n",
       "1       NaN\n",
       "2    normal\n",
       "3      cold\n",
       "4       NaN\n",
       "Name: temp_of_extremities, dtype: object"
      ]
     },
     "execution_count": 29,
     "metadata": {},
     "output_type": "execute_result"
    }
   ],
   "source": [
    "animals['temp_of_extremities'].head()"
   ]
  },
  {
   "cell_type": "code",
   "execution_count": 30,
   "id": "cb21f796",
   "metadata": {},
   "outputs": [],
   "source": [
    "#temp_of_extremities\n",
    "animals['temp_col_name'] = 'temp_of_extremities'\n",
    "animals['temp_of_extremities'] = animals[['age', 'temp_of_extremities', 'temp_col_name']].apply(fill_missing_objects, axis=1)"
   ]
  },
  {
   "cell_type": "markdown",
   "id": "95bb3c59",
   "metadata": {},
   "source": [
    "### Loop to iterate across the features in concern due to missing value and fill them with grouped mode"
   ]
  },
  {
   "cell_type": "code",
   "execution_count": 31,
   "id": "363a7255",
   "metadata": {},
   "outputs": [
    {
     "name": "stdout",
     "output_type": "stream",
     "text": [
      "peripheral_pulse\n",
      "mucous_membrane\n",
      "capillary_refill_time\n",
      "pain\n",
      "peristalsis\n",
      "abdominal_distention\n"
     ]
    }
   ],
   "source": [
    "col_list = ['peripheral_pulse', 'mucous_membrane', 'capillary_refill_time', 'pain', 'peristalsis', 'abdominal_distention']\n",
    "\n",
    "for col in col_list:\n",
    "    print(col)\n",
    "    animals['temp_col_name'] = col\n",
    "    animals[col] = animals[['age', col, 'temp_col_name']].apply(fill_missing_objects, axis=1)"
   ]
  },
  {
   "cell_type": "code",
   "execution_count": 32,
   "id": "03d757a3",
   "metadata": {},
   "outputs": [
    {
     "data": {
      "text/plain": [
       "surgery                  0.0\n",
       "age                      0.0\n",
       "hospital_number          0.0\n",
       "rectal_temp              0.0\n",
       "pulse                    0.0\n",
       "respiratory_rate         0.0\n",
       "temp_of_extremities      0.0\n",
       "peripheral_pulse         0.0\n",
       "mucous_membrane          0.0\n",
       "capillary_refill_time    0.0\n",
       "pain                     0.0\n",
       "peristalsis              0.0\n",
       "abdominal_distention     0.0\n",
       "packed_cell_volume       0.0\n",
       "total_protein            0.0\n",
       "surgical_lesion          0.0\n",
       "lesion_1                 0.0\n",
       "lesion_2                 0.0\n",
       "lesion_3                 0.0\n",
       "cp_data                  0.0\n",
       "temp_col_name            0.0\n",
       "dtype: float64"
      ]
     },
     "execution_count": 32,
     "metadata": {},
     "output_type": "execute_result"
    }
   ],
   "source": [
    "animals.isnull().mean()"
   ]
  },
  {
   "cell_type": "markdown",
   "id": "ae321571",
   "metadata": {},
   "source": [
    "## Feature selection"
   ]
  },
  {
   "cell_type": "code",
   "execution_count": 33,
   "id": "eef548fe",
   "metadata": {},
   "outputs": [
    {
     "name": "stdout",
     "output_type": "stream",
     "text": [
      "0     530101\n",
      "1     534817\n",
      "2     530334\n",
      "3    5290409\n",
      "4     530255\n",
      "Name: hospital_number, dtype: int64\n"
     ]
    }
   ],
   "source": [
    "animals['hospital_number'].nunique()\n",
    "print(animals['hospital_number'].head())\n",
    "\n",
    "#Looks to be continous ID like numbers - drop the feature - not a good predictor\n",
    "animals = animals.drop('hospital_number', axis=1)"
   ]
  },
  {
   "cell_type": "code",
   "execution_count": 34,
   "id": "107a3dc2",
   "metadata": {},
   "outputs": [
    {
     "data": {
      "text/plain": [
       "Index(['surgery', 'age', 'temp_of_extremities', 'peripheral_pulse',\n",
       "       'mucous_membrane', 'capillary_refill_time', 'pain', 'peristalsis',\n",
       "       'abdominal_distention', 'surgical_lesion', 'cp_data', 'temp_col_name'],\n",
       "      dtype='object')"
      ]
     },
     "execution_count": 34,
     "metadata": {},
     "output_type": "execute_result"
    }
   ],
   "source": [
    "#selecting the columns that are object types\n",
    "animals.select_dtypes('object').columns"
   ]
  },
  {
   "cell_type": "code",
   "execution_count": 35,
   "id": "944b9df1",
   "metadata": {},
   "outputs": [
    {
     "name": "stdout",
     "output_type": "stream",
     "text": [
      "['surgery', 'age', 'temp_of_extremities', 'peripheral_pulse', 'mucous_membrane', 'capillary_refill_time', 'pain', 'peristalsis', 'abdominal_distention', 'surgical_lesion', 'cp_data', 'temp_col_name']\n"
     ]
    }
   ],
   "source": [
    "cat_features = list(animals.select_dtypes('object').columns)\n",
    "print(cat_features)"
   ]
  },
  {
   "cell_type": "code",
   "execution_count": 36,
   "id": "a76da10f",
   "metadata": {},
   "outputs": [
    {
     "name": "stdout",
     "output_type": "stream",
     "text": [
      "(299, 47)\n"
     ]
    },
    {
     "data": {
      "text/html": [
       "<div>\n",
       "<style scoped>\n",
       "    .dataframe tbody tr th:only-of-type {\n",
       "        vertical-align: middle;\n",
       "    }\n",
       "\n",
       "    .dataframe tbody tr th {\n",
       "        vertical-align: top;\n",
       "    }\n",
       "\n",
       "    .dataframe thead th {\n",
       "        text-align: right;\n",
       "    }\n",
       "</style>\n",
       "<table border=\"1\" class=\"dataframe\">\n",
       "  <thead>\n",
       "    <tr style=\"text-align: right;\">\n",
       "      <th></th>\n",
       "      <th>rectal_temp</th>\n",
       "      <th>pulse</th>\n",
       "      <th>respiratory_rate</th>\n",
       "      <th>packed_cell_volume</th>\n",
       "      <th>total_protein</th>\n",
       "      <th>lesion_1</th>\n",
       "      <th>lesion_2</th>\n",
       "      <th>lesion_3</th>\n",
       "      <th>surgery_no</th>\n",
       "      <th>surgery_yes</th>\n",
       "      <th>...</th>\n",
       "      <th>peristalsis_normal</th>\n",
       "      <th>abdominal_distention_moderate</th>\n",
       "      <th>abdominal_distention_none</th>\n",
       "      <th>abdominal_distention_severe</th>\n",
       "      <th>abdominal_distention_slight</th>\n",
       "      <th>surgical_lesion_no</th>\n",
       "      <th>surgical_lesion_yes</th>\n",
       "      <th>cp_data_no</th>\n",
       "      <th>cp_data_yes</th>\n",
       "      <th>temp_col_name_abdominal_distention</th>\n",
       "    </tr>\n",
       "  </thead>\n",
       "  <tbody>\n",
       "    <tr>\n",
       "      <th>0</th>\n",
       "      <td>38.5</td>\n",
       "      <td>66.0</td>\n",
       "      <td>28.0</td>\n",
       "      <td>45.0</td>\n",
       "      <td>8.4</td>\n",
       "      <td>11300</td>\n",
       "      <td>0</td>\n",
       "      <td>0</td>\n",
       "      <td>1</td>\n",
       "      <td>0</td>\n",
       "      <td>...</td>\n",
       "      <td>0</td>\n",
       "      <td>0</td>\n",
       "      <td>0</td>\n",
       "      <td>1</td>\n",
       "      <td>0</td>\n",
       "      <td>1</td>\n",
       "      <td>0</td>\n",
       "      <td>1</td>\n",
       "      <td>0</td>\n",
       "      <td>1</td>\n",
       "    </tr>\n",
       "    <tr>\n",
       "      <th>1</th>\n",
       "      <td>39.2</td>\n",
       "      <td>88.0</td>\n",
       "      <td>20.0</td>\n",
       "      <td>50.0</td>\n",
       "      <td>85.0</td>\n",
       "      <td>2208</td>\n",
       "      <td>0</td>\n",
       "      <td>0</td>\n",
       "      <td>0</td>\n",
       "      <td>1</td>\n",
       "      <td>...</td>\n",
       "      <td>0</td>\n",
       "      <td>0</td>\n",
       "      <td>0</td>\n",
       "      <td>0</td>\n",
       "      <td>1</td>\n",
       "      <td>1</td>\n",
       "      <td>0</td>\n",
       "      <td>1</td>\n",
       "      <td>0</td>\n",
       "      <td>1</td>\n",
       "    </tr>\n",
       "    <tr>\n",
       "      <th>2</th>\n",
       "      <td>38.3</td>\n",
       "      <td>40.0</td>\n",
       "      <td>24.0</td>\n",
       "      <td>33.0</td>\n",
       "      <td>6.7</td>\n",
       "      <td>0</td>\n",
       "      <td>0</td>\n",
       "      <td>0</td>\n",
       "      <td>1</td>\n",
       "      <td>0</td>\n",
       "      <td>...</td>\n",
       "      <td>0</td>\n",
       "      <td>0</td>\n",
       "      <td>1</td>\n",
       "      <td>0</td>\n",
       "      <td>0</td>\n",
       "      <td>1</td>\n",
       "      <td>0</td>\n",
       "      <td>0</td>\n",
       "      <td>1</td>\n",
       "      <td>1</td>\n",
       "    </tr>\n",
       "    <tr>\n",
       "      <th>3</th>\n",
       "      <td>39.1</td>\n",
       "      <td>164.0</td>\n",
       "      <td>84.0</td>\n",
       "      <td>48.0</td>\n",
       "      <td>7.2</td>\n",
       "      <td>2208</td>\n",
       "      <td>0</td>\n",
       "      <td>0</td>\n",
       "      <td>0</td>\n",
       "      <td>1</td>\n",
       "      <td>...</td>\n",
       "      <td>0</td>\n",
       "      <td>0</td>\n",
       "      <td>0</td>\n",
       "      <td>1</td>\n",
       "      <td>0</td>\n",
       "      <td>0</td>\n",
       "      <td>1</td>\n",
       "      <td>0</td>\n",
       "      <td>1</td>\n",
       "      <td>1</td>\n",
       "    </tr>\n",
       "    <tr>\n",
       "      <th>4</th>\n",
       "      <td>37.3</td>\n",
       "      <td>104.0</td>\n",
       "      <td>35.0</td>\n",
       "      <td>74.0</td>\n",
       "      <td>7.4</td>\n",
       "      <td>4300</td>\n",
       "      <td>0</td>\n",
       "      <td>0</td>\n",
       "      <td>1</td>\n",
       "      <td>0</td>\n",
       "      <td>...</td>\n",
       "      <td>0</td>\n",
       "      <td>0</td>\n",
       "      <td>1</td>\n",
       "      <td>0</td>\n",
       "      <td>0</td>\n",
       "      <td>1</td>\n",
       "      <td>0</td>\n",
       "      <td>1</td>\n",
       "      <td>0</td>\n",
       "      <td>1</td>\n",
       "    </tr>\n",
       "  </tbody>\n",
       "</table>\n",
       "<p>5 rows × 47 columns</p>\n",
       "</div>"
      ],
      "text/plain": [
       "   rectal_temp  pulse  respiratory_rate  packed_cell_volume  total_protein  \\\n",
       "0         38.5   66.0              28.0                45.0            8.4   \n",
       "1         39.2   88.0              20.0                50.0           85.0   \n",
       "2         38.3   40.0              24.0                33.0            6.7   \n",
       "3         39.1  164.0              84.0                48.0            7.2   \n",
       "4         37.3  104.0              35.0                74.0            7.4   \n",
       "\n",
       "   lesion_1  lesion_2  lesion_3  surgery_no  surgery_yes  ...  \\\n",
       "0     11300         0         0           1            0  ...   \n",
       "1      2208         0         0           0            1  ...   \n",
       "2         0         0         0           1            0  ...   \n",
       "3      2208         0         0           0            1  ...   \n",
       "4      4300         0         0           1            0  ...   \n",
       "\n",
       "   peristalsis_normal  abdominal_distention_moderate  \\\n",
       "0                   0                              0   \n",
       "1                   0                              0   \n",
       "2                   0                              0   \n",
       "3                   0                              0   \n",
       "4                   0                              0   \n",
       "\n",
       "   abdominal_distention_none  abdominal_distention_severe  \\\n",
       "0                          0                            1   \n",
       "1                          0                            0   \n",
       "2                          1                            0   \n",
       "3                          0                            1   \n",
       "4                          1                            0   \n",
       "\n",
       "   abdominal_distention_slight  surgical_lesion_no  surgical_lesion_yes  \\\n",
       "0                            0                   1                    0   \n",
       "1                            1                   1                    0   \n",
       "2                            0                   1                    0   \n",
       "3                            0                   0                    1   \n",
       "4                            0                   1                    0   \n",
       "\n",
       "   cp_data_no  cp_data_yes  temp_col_name_abdominal_distention  \n",
       "0           1            0                                   1  \n",
       "1           1            0                                   1  \n",
       "2           0            1                                   1  \n",
       "3           0            1                                   1  \n",
       "4           1            0                                   1  \n",
       "\n",
       "[5 rows x 47 columns]"
      ]
     },
     "execution_count": 36,
     "metadata": {},
     "output_type": "execute_result"
    }
   ],
   "source": [
    "animals = pd.get_dummies(animals, columns=cat_features)\n",
    "print(animals.shape)\n",
    "animals.head()"
   ]
  },
  {
   "cell_type": "code",
   "execution_count": 37,
   "id": "42eac64a",
   "metadata": {},
   "outputs": [
    {
     "data": {
      "text/plain": [
       "Index(['rectal_temp', 'pulse', 'respiratory_rate', 'packed_cell_volume',\n",
       "       'total_protein', 'lesion_1', 'lesion_2', 'lesion_3', 'surgery_no',\n",
       "       'surgery_yes', 'age_adult', 'age_young', 'temp_of_extremities_cold',\n",
       "       'temp_of_extremities_cool', 'temp_of_extremities_normal',\n",
       "       'temp_of_extremities_warm', 'peripheral_pulse_absent',\n",
       "       'peripheral_pulse_increased', 'peripheral_pulse_normal',\n",
       "       'peripheral_pulse_reduced', 'mucous_membrane_bright_pink',\n",
       "       'mucous_membrane_bright_red', 'mucous_membrane_dark_cyanotic',\n",
       "       'mucous_membrane_normal_pink', 'mucous_membrane_pale_cyanotic',\n",
       "       'mucous_membrane_pale_pink', 'capillary_refill_time_3',\n",
       "       'capillary_refill_time_less_3_sec', 'capillary_refill_time_more_3_sec',\n",
       "       'pain_alert', 'pain_depressed', 'pain_extreme_pain', 'pain_mild_pain',\n",
       "       'pain_severe_pain', 'peristalsis_absent', 'peristalsis_hypermotile',\n",
       "       'peristalsis_hypomotile', 'peristalsis_normal',\n",
       "       'abdominal_distention_moderate', 'abdominal_distention_none',\n",
       "       'abdominal_distention_severe', 'abdominal_distention_slight',\n",
       "       'surgical_lesion_no', 'surgical_lesion_yes', 'cp_data_no',\n",
       "       'cp_data_yes', 'temp_col_name_abdominal_distention'],\n",
       "      dtype='object')"
      ]
     },
     "execution_count": 37,
     "metadata": {},
     "output_type": "execute_result"
    }
   ],
   "source": [
    "animals.columns"
   ]
  },
  {
   "cell_type": "code",
   "execution_count": 38,
   "id": "f48510f5",
   "metadata": {},
   "outputs": [
    {
     "name": "stdout",
     "output_type": "stream",
     "text": [
      "(299,) 0          died\n",
      "1    euthanized\n",
      "2         lived\n",
      "3          died\n",
      "4          died\n",
      "Name: outcome, dtype: object\n",
      "Encoding of Y is done (299,) [0 1 2 0 0]\n"
     ]
    }
   ],
   "source": [
    "#Encode the target variable - Use Label encoding - as we can have only one dimension in the target\n",
    "from sklearn.model_selection import train_test_split\n",
    "from sklearn.preprocessing import LabelEncoder\n",
    "\n",
    "X = animals\n",
    "Y = target\n",
    "print(Y.shape, Y[0:5])\n",
    "\n",
    "le = LabelEncoder()\n",
    "Y = le.fit_transform(Y)\n",
    "print('Encoding of Y is done', Y.shape, Y[0:5])"
   ]
  },
  {
   "cell_type": "markdown",
   "id": "c021828e",
   "metadata": {},
   "source": [
    "<b > died --> 0 <br>\n",
    "euthanized --> 1 <br>\n",
    "lived --> 2 <br> <b>   "
   ]
  },
  {
   "cell_type": "code",
   "execution_count": 39,
   "id": "eaad6d75",
   "metadata": {},
   "outputs": [
    {
     "name": "stdout",
     "output_type": "stream",
     "text": [
      "(239, 47) (60, 47) (239,) (60,)\n"
     ]
    }
   ],
   "source": [
    "X_train, X_test, y_train, y_test = train_test_split(X, Y, test_size=0.2)\n",
    "print(X_train.shape, X_test.shape, y_train.shape, y_test.shape)"
   ]
  },
  {
   "cell_type": "markdown",
   "id": "1dcb5e46",
   "metadata": {},
   "source": [
    "## Decision Tree"
   ]
  },
  {
   "cell_type": "code",
   "execution_count": 40,
   "id": "d626c4c8",
   "metadata": {},
   "outputs": [],
   "source": [
    "from sklearn.tree import DecisionTreeClassifier\n",
    "from sklearn import metrics\n",
    "from sklearn.model_selection import GridSearchCV"
   ]
  },
  {
   "cell_type": "code",
   "execution_count": 41,
   "id": "a547bd11",
   "metadata": {},
   "outputs": [
    {
     "data": {
      "text/plain": [
       "DecisionTreeClassifier()"
      ]
     },
     "execution_count": 41,
     "metadata": {},
     "output_type": "execute_result"
    }
   ],
   "source": [
    "classifier = DecisionTreeClassifier()\n",
    "classifier.fit(X_train, y_train) "
   ]
  },
  {
   "cell_type": "code",
   "execution_count": 42,
   "id": "27acb74e",
   "metadata": {},
   "outputs": [
    {
     "data": {
      "text/plain": [
       "1.0"
      ]
     },
     "execution_count": 42,
     "metadata": {},
     "output_type": "execute_result"
    }
   ],
   "source": [
    "classifier.score(X_train, y_train)"
   ]
  },
  {
   "cell_type": "code",
   "execution_count": 43,
   "id": "3a113e9d",
   "metadata": {},
   "outputs": [
    {
     "data": {
      "text/plain": [
       "0.5666666666666667"
      ]
     },
     "execution_count": 43,
     "metadata": {},
     "output_type": "execute_result"
    }
   ],
   "source": [
    "y_pred = classifier.predict(X_test)\n",
    "classifier.score(X_test, y_test)"
   ]
  },
  {
   "cell_type": "code",
   "execution_count": 44,
   "id": "58ecaf33",
   "metadata": {},
   "outputs": [
    {
     "data": {
      "text/plain": [
       "0.5666666666666667"
      ]
     },
     "execution_count": 44,
     "metadata": {},
     "output_type": "execute_result"
    }
   ],
   "source": [
    "#accuracy score using metrics package\n",
    "metrics.accuracy_score(y_test, y_pred)"
   ]
  },
  {
   "cell_type": "markdown",
   "id": "9e0cf723",
   "metadata": {},
   "source": [
    "#### Overfitting case - Training accuracy way higher than test accuracy"
   ]
  },
  {
   "cell_type": "markdown",
   "id": "0b984dbc",
   "metadata": {},
   "source": [
    "###### Use Gridsearch to check on combinations for min sample leaf and max depth to avoid overfitting"
   ]
  },
  {
   "cell_type": "code",
   "execution_count": 45,
   "id": "66bdbce9",
   "metadata": {},
   "outputs": [],
   "source": [
    "param_grid = {\n",
    "    'max_depth'        : [1,2,3,4,5,None],\n",
    "    'min_samples_leaf' : [1,2,3,4,5]\n",
    "}"
   ]
  },
  {
   "cell_type": "code",
   "execution_count": 46,
   "id": "576c3250",
   "metadata": {},
   "outputs": [],
   "source": [
    "gs = GridSearchCV(classifier, param_grid, cv=3, verbose=2)\n",
    "#cv=3 - cross check every combination three times\n",
    "#verbose=2 - logging mechanism"
   ]
  },
  {
   "cell_type": "code",
   "execution_count": 47,
   "id": "1983f7e9",
   "metadata": {},
   "outputs": [
    {
     "name": "stdout",
     "output_type": "stream",
     "text": [
      "Fitting 3 folds for each of 30 candidates, totalling 90 fits\n",
      "[CV] END ....................max_depth=1, min_samples_leaf=1; total time=   0.0s\n",
      "[CV] END ....................max_depth=1, min_samples_leaf=1; total time=   0.0s\n",
      "[CV] END ....................max_depth=1, min_samples_leaf=1; total time=   0.0s\n",
      "[CV] END ....................max_depth=1, min_samples_leaf=2; total time=   0.0s\n",
      "[CV] END ....................max_depth=1, min_samples_leaf=2; total time=   0.0s\n",
      "[CV] END ....................max_depth=1, min_samples_leaf=2; total time=   0.0s\n",
      "[CV] END ....................max_depth=1, min_samples_leaf=3; total time=   0.0s\n",
      "[CV] END ....................max_depth=1, min_samples_leaf=3; total time=   0.0s\n",
      "[CV] END ....................max_depth=1, min_samples_leaf=3; total time=   0.0s\n",
      "[CV] END ....................max_depth=1, min_samples_leaf=4; total time=   0.0s\n",
      "[CV] END ....................max_depth=1, min_samples_leaf=4; total time=   0.0s\n",
      "[CV] END ....................max_depth=1, min_samples_leaf=4; total time=   0.0s\n",
      "[CV] END ....................max_depth=1, min_samples_leaf=5; total time=   0.0s\n",
      "[CV] END ....................max_depth=1, min_samples_leaf=5; total time=   0.0s\n",
      "[CV] END ....................max_depth=1, min_samples_leaf=5; total time=   0.0s\n",
      "[CV] END ....................max_depth=2, min_samples_leaf=1; total time=   0.0s\n",
      "[CV] END ....................max_depth=2, min_samples_leaf=1; total time=   0.0s\n",
      "[CV] END ....................max_depth=2, min_samples_leaf=1; total time=   0.0s\n",
      "[CV] END ....................max_depth=2, min_samples_leaf=2; total time=   0.0s\n",
      "[CV] END ....................max_depth=2, min_samples_leaf=2; total time=   0.0s\n",
      "[CV] END ....................max_depth=2, min_samples_leaf=2; total time=   0.0s\n",
      "[CV] END ....................max_depth=2, min_samples_leaf=3; total time=   0.0s\n",
      "[CV] END ....................max_depth=2, min_samples_leaf=3; total time=   0.0s\n",
      "[CV] END ....................max_depth=2, min_samples_leaf=3; total time=   0.0s\n",
      "[CV] END ....................max_depth=2, min_samples_leaf=4; total time=   0.0s\n",
      "[CV] END ....................max_depth=2, min_samples_leaf=4; total time=   0.0s\n",
      "[CV] END ....................max_depth=2, min_samples_leaf=4; total time=   0.0s\n",
      "[CV] END ....................max_depth=2, min_samples_leaf=5; total time=   0.0s\n",
      "[CV] END ....................max_depth=2, min_samples_leaf=5; total time=   0.0s\n",
      "[CV] END ....................max_depth=2, min_samples_leaf=5; total time=   0.0s\n",
      "[CV] END ....................max_depth=3, min_samples_leaf=1; total time=   0.0s\n",
      "[CV] END ....................max_depth=3, min_samples_leaf=1; total time=   0.0s\n",
      "[CV] END ....................max_depth=3, min_samples_leaf=1; total time=   0.0s\n",
      "[CV] END ....................max_depth=3, min_samples_leaf=2; total time=   0.0s\n",
      "[CV] END ....................max_depth=3, min_samples_leaf=2; total time=   0.0s\n",
      "[CV] END ....................max_depth=3, min_samples_leaf=2; total time=   0.0s\n",
      "[CV] END ....................max_depth=3, min_samples_leaf=3; total time=   0.0s\n",
      "[CV] END ....................max_depth=3, min_samples_leaf=3; total time=   0.0s\n",
      "[CV] END ....................max_depth=3, min_samples_leaf=3; total time=   0.0s\n",
      "[CV] END ....................max_depth=3, min_samples_leaf=4; total time=   0.0s\n",
      "[CV] END ....................max_depth=3, min_samples_leaf=4; total time=   0.0s\n",
      "[CV] END ....................max_depth=3, min_samples_leaf=4; total time=   0.0s\n",
      "[CV] END ....................max_depth=3, min_samples_leaf=5; total time=   0.0s\n",
      "[CV] END ....................max_depth=3, min_samples_leaf=5; total time=   0.0s\n",
      "[CV] END ....................max_depth=3, min_samples_leaf=5; total time=   0.0s\n",
      "[CV] END ....................max_depth=4, min_samples_leaf=1; total time=   0.0s\n",
      "[CV] END ....................max_depth=4, min_samples_leaf=1; total time=   0.0s\n",
      "[CV] END ....................max_depth=4, min_samples_leaf=1; total time=   0.0s\n",
      "[CV] END ....................max_depth=4, min_samples_leaf=2; total time=   0.0s\n",
      "[CV] END ....................max_depth=4, min_samples_leaf=2; total time=   0.0s\n",
      "[CV] END ....................max_depth=4, min_samples_leaf=2; total time=   0.0s\n",
      "[CV] END ....................max_depth=4, min_samples_leaf=3; total time=   0.0s\n",
      "[CV] END ....................max_depth=4, min_samples_leaf=3; total time=   0.0s\n",
      "[CV] END ....................max_depth=4, min_samples_leaf=3; total time=   0.0s\n",
      "[CV] END ....................max_depth=4, min_samples_leaf=4; total time=   0.0s\n",
      "[CV] END ....................max_depth=4, min_samples_leaf=4; total time=   0.0s\n",
      "[CV] END ....................max_depth=4, min_samples_leaf=4; total time=   0.0s\n",
      "[CV] END ....................max_depth=4, min_samples_leaf=5; total time=   0.0s\n",
      "[CV] END ....................max_depth=4, min_samples_leaf=5; total time=   0.0s\n",
      "[CV] END ....................max_depth=4, min_samples_leaf=5; total time=   0.0s\n",
      "[CV] END ....................max_depth=5, min_samples_leaf=1; total time=   0.0s\n",
      "[CV] END ....................max_depth=5, min_samples_leaf=1; total time=   0.0s\n",
      "[CV] END ....................max_depth=5, min_samples_leaf=1; total time=   0.0s\n",
      "[CV] END ....................max_depth=5, min_samples_leaf=2; total time=   0.0s\n",
      "[CV] END ....................max_depth=5, min_samples_leaf=2; total time=   0.0s\n",
      "[CV] END ....................max_depth=5, min_samples_leaf=2; total time=   0.0s\n",
      "[CV] END ....................max_depth=5, min_samples_leaf=3; total time=   0.0s\n",
      "[CV] END ....................max_depth=5, min_samples_leaf=3; total time=   0.0s\n",
      "[CV] END ....................max_depth=5, min_samples_leaf=3; total time=   0.0s\n",
      "[CV] END ....................max_depth=5, min_samples_leaf=4; total time=   0.0s\n",
      "[CV] END ....................max_depth=5, min_samples_leaf=4; total time=   0.0s\n",
      "[CV] END ....................max_depth=5, min_samples_leaf=4; total time=   0.0s\n",
      "[CV] END ....................max_depth=5, min_samples_leaf=5; total time=   0.0s\n",
      "[CV] END ....................max_depth=5, min_samples_leaf=5; total time=   0.0s\n",
      "[CV] END ....................max_depth=5, min_samples_leaf=5; total time=   0.0s\n",
      "[CV] END .................max_depth=None, min_samples_leaf=1; total time=   0.0s\n",
      "[CV] END .................max_depth=None, min_samples_leaf=1; total time=   0.0s\n",
      "[CV] END .................max_depth=None, min_samples_leaf=1; total time=   0.0s\n",
      "[CV] END .................max_depth=None, min_samples_leaf=2; total time=   0.0s\n",
      "[CV] END .................max_depth=None, min_samples_leaf=2; total time=   0.0s\n",
      "[CV] END .................max_depth=None, min_samples_leaf=2; total time=   0.0s\n",
      "[CV] END .................max_depth=None, min_samples_leaf=3; total time=   0.0s\n",
      "[CV] END .................max_depth=None, min_samples_leaf=3; total time=   0.0s\n",
      "[CV] END .................max_depth=None, min_samples_leaf=3; total time=   0.0s\n",
      "[CV] END .................max_depth=None, min_samples_leaf=4; total time=   0.0s\n",
      "[CV] END .................max_depth=None, min_samples_leaf=4; total time=   0.0s\n",
      "[CV] END .................max_depth=None, min_samples_leaf=4; total time=   0.0s\n",
      "[CV] END .................max_depth=None, min_samples_leaf=5; total time=   0.0s\n",
      "[CV] END .................max_depth=None, min_samples_leaf=5; total time=   0.0s\n",
      "[CV] END .................max_depth=None, min_samples_leaf=5; total time=   0.0s\n"
     ]
    },
    {
     "data": {
      "text/plain": [
       "GridSearchCV(cv=3, estimator=DecisionTreeClassifier(),\n",
       "             param_grid={'max_depth': [1, 2, 3, 4, 5, None],\n",
       "                         'min_samples_leaf': [1, 2, 3, 4, 5]},\n",
       "             verbose=2)"
      ]
     },
     "execution_count": 47,
     "metadata": {},
     "output_type": "execute_result"
    }
   ],
   "source": [
    "gs.fit(X, Y)"
   ]
  },
  {
   "cell_type": "code",
   "execution_count": 48,
   "id": "6282b9eb",
   "metadata": {},
   "outputs": [
    {
     "data": {
      "text/plain": [
       "{'max_depth': 5, 'min_samples_leaf': 2}"
      ]
     },
     "execution_count": 48,
     "metadata": {},
     "output_type": "execute_result"
    }
   ],
   "source": [
    "gs.best_params_"
   ]
  },
  {
   "cell_type": "code",
   "execution_count": 49,
   "id": "664d1321",
   "metadata": {},
   "outputs": [
    {
     "data": {
      "text/plain": [
       "0.6622222222222223"
      ]
     },
     "execution_count": 49,
     "metadata": {},
     "output_type": "execute_result"
    }
   ],
   "source": [
    "gs.best_score_"
   ]
  },
  {
   "cell_type": "code",
   "execution_count": 50,
   "id": "3f4291e6",
   "metadata": {},
   "outputs": [
    {
     "data": {
      "text/plain": [
       "array([0.04915398, 0.13734703, 0.04959858, 0.23923478, 0.16604625,\n",
       "       0.09164829, 0.        , 0.        , 0.03027852, 0.        ,\n",
       "       0.        , 0.        , 0.        , 0.00965423, 0.        ,\n",
       "       0.        , 0.        , 0.01244705, 0.        , 0.04271995,\n",
       "       0.        , 0.01464924, 0.01899611, 0.02086002, 0.        ,\n",
       "       0.        , 0.        , 0.02051523, 0.        , 0.        ,\n",
       "       0.01448134, 0.        , 0.00724067, 0.        , 0.        ,\n",
       "       0.        , 0.01396415, 0.01123232, 0.00965423, 0.00965423,\n",
       "       0.        , 0.        , 0.01976282, 0.        , 0.010861  ,\n",
       "       0.        , 0.        ])"
      ]
     },
     "execution_count": 50,
     "metadata": {},
     "output_type": "execute_result"
    }
   ],
   "source": [
    "classifier.feature_importances_"
   ]
  },
  {
   "cell_type": "code",
   "execution_count": 51,
   "id": "dcf6aed5",
   "metadata": {},
   "outputs": [
    {
     "name": "stdout",
     "output_type": "stream",
     "text": [
      "Fitting 3 folds for each of 30 candidates, totalling 90 fits\n",
      "[CV] END ....................max_depth=1, min_samples_leaf=1; total time=   0.0s\n",
      "[CV] END ....................max_depth=1, min_samples_leaf=1; total time=   0.0s\n",
      "[CV] END ....................max_depth=1, min_samples_leaf=1; total time=   0.0s\n",
      "[CV] END ....................max_depth=1, min_samples_leaf=2; total time=   0.0s\n",
      "[CV] END ....................max_depth=1, min_samples_leaf=2; total time=   0.0s\n",
      "[CV] END ....................max_depth=1, min_samples_leaf=2; total time=   0.0s\n",
      "[CV] END ....................max_depth=1, min_samples_leaf=3; total time=   0.0s\n",
      "[CV] END ....................max_depth=1, min_samples_leaf=3; total time=   0.0s\n",
      "[CV] END ....................max_depth=1, min_samples_leaf=3; total time=   0.0s\n",
      "[CV] END ....................max_depth=1, min_samples_leaf=4; total time=   0.0s\n",
      "[CV] END ....................max_depth=1, min_samples_leaf=4; total time=   0.0s\n",
      "[CV] END ....................max_depth=1, min_samples_leaf=4; total time=   0.0s\n",
      "[CV] END ....................max_depth=1, min_samples_leaf=5; total time=   0.0s\n",
      "[CV] END ....................max_depth=1, min_samples_leaf=5; total time=   0.0s\n",
      "[CV] END ....................max_depth=1, min_samples_leaf=5; total time=   0.0s\n",
      "[CV] END ....................max_depth=2, min_samples_leaf=1; total time=   0.0s\n",
      "[CV] END ....................max_depth=2, min_samples_leaf=1; total time=   0.0s\n",
      "[CV] END ....................max_depth=2, min_samples_leaf=1; total time=   0.0s\n",
      "[CV] END ....................max_depth=2, min_samples_leaf=2; total time=   0.0s\n",
      "[CV] END ....................max_depth=2, min_samples_leaf=2; total time=   0.0s\n",
      "[CV] END ....................max_depth=2, min_samples_leaf=2; total time=   0.0s\n",
      "[CV] END ....................max_depth=2, min_samples_leaf=3; total time=   0.0s\n",
      "[CV] END ....................max_depth=2, min_samples_leaf=3; total time=   0.0s\n",
      "[CV] END ....................max_depth=2, min_samples_leaf=3; total time=   0.0s\n",
      "[CV] END ....................max_depth=2, min_samples_leaf=4; total time=   0.0s\n",
      "[CV] END ....................max_depth=2, min_samples_leaf=4; total time=   0.0s\n",
      "[CV] END ....................max_depth=2, min_samples_leaf=4; total time=   0.0s\n",
      "[CV] END ....................max_depth=2, min_samples_leaf=5; total time=   0.0s\n",
      "[CV] END ....................max_depth=2, min_samples_leaf=5; total time=   0.0s\n",
      "[CV] END ....................max_depth=2, min_samples_leaf=5; total time=   0.0s\n",
      "[CV] END ....................max_depth=3, min_samples_leaf=1; total time=   0.0s\n",
      "[CV] END ....................max_depth=3, min_samples_leaf=1; total time=   0.0s\n",
      "[CV] END ....................max_depth=3, min_samples_leaf=1; total time=   0.0s\n",
      "[CV] END ....................max_depth=3, min_samples_leaf=2; total time=   0.0s\n",
      "[CV] END ....................max_depth=3, min_samples_leaf=2; total time=   0.0s\n",
      "[CV] END ....................max_depth=3, min_samples_leaf=2; total time=   0.0s\n",
      "[CV] END ....................max_depth=3, min_samples_leaf=3; total time=   0.0s\n",
      "[CV] END ....................max_depth=3, min_samples_leaf=3; total time=   0.0s\n",
      "[CV] END ....................max_depth=3, min_samples_leaf=3; total time=   0.0s\n",
      "[CV] END ....................max_depth=3, min_samples_leaf=4; total time=   0.0s\n",
      "[CV] END ....................max_depth=3, min_samples_leaf=4; total time=   0.0s\n",
      "[CV] END ....................max_depth=3, min_samples_leaf=4; total time=   0.0s\n",
      "[CV] END ....................max_depth=3, min_samples_leaf=5; total time=   0.0s\n",
      "[CV] END ....................max_depth=3, min_samples_leaf=5; total time=   0.0s\n",
      "[CV] END ....................max_depth=3, min_samples_leaf=5; total time=   0.0s\n",
      "[CV] END ....................max_depth=4, min_samples_leaf=1; total time=   0.0s\n",
      "[CV] END ....................max_depth=4, min_samples_leaf=1; total time=   0.0s\n",
      "[CV] END ....................max_depth=4, min_samples_leaf=1; total time=   0.0s\n",
      "[CV] END ....................max_depth=4, min_samples_leaf=2; total time=   0.0s\n",
      "[CV] END ....................max_depth=4, min_samples_leaf=2; total time=   0.0s\n",
      "[CV] END ....................max_depth=4, min_samples_leaf=2; total time=   0.0s\n",
      "[CV] END ....................max_depth=4, min_samples_leaf=3; total time=   0.0s\n",
      "[CV] END ....................max_depth=4, min_samples_leaf=3; total time=   0.0s\n",
      "[CV] END ....................max_depth=4, min_samples_leaf=3; total time=   0.0s\n",
      "[CV] END ....................max_depth=4, min_samples_leaf=4; total time=   0.0s\n",
      "[CV] END ....................max_depth=4, min_samples_leaf=4; total time=   0.0s\n",
      "[CV] END ....................max_depth=4, min_samples_leaf=4; total time=   0.0s\n",
      "[CV] END ....................max_depth=4, min_samples_leaf=5; total time=   0.0s\n",
      "[CV] END ....................max_depth=4, min_samples_leaf=5; total time=   0.0s\n",
      "[CV] END ....................max_depth=4, min_samples_leaf=5; total time=   0.0s\n",
      "[CV] END ....................max_depth=5, min_samples_leaf=1; total time=   0.0s\n",
      "[CV] END ....................max_depth=5, min_samples_leaf=1; total time=   0.0s\n",
      "[CV] END ....................max_depth=5, min_samples_leaf=1; total time=   0.0s\n",
      "[CV] END ....................max_depth=5, min_samples_leaf=2; total time=   0.0s\n",
      "[CV] END ....................max_depth=5, min_samples_leaf=2; total time=   0.0s\n",
      "[CV] END ....................max_depth=5, min_samples_leaf=2; total time=   0.0s\n",
      "[CV] END ....................max_depth=5, min_samples_leaf=3; total time=   0.0s\n",
      "[CV] END ....................max_depth=5, min_samples_leaf=3; total time=   0.0s\n",
      "[CV] END ....................max_depth=5, min_samples_leaf=3; total time=   0.0s\n",
      "[CV] END ....................max_depth=5, min_samples_leaf=4; total time=   0.0s\n",
      "[CV] END ....................max_depth=5, min_samples_leaf=4; total time=   0.0s\n",
      "[CV] END ....................max_depth=5, min_samples_leaf=4; total time=   0.0s\n",
      "[CV] END ....................max_depth=5, min_samples_leaf=5; total time=   0.0s\n",
      "[CV] END ....................max_depth=5, min_samples_leaf=5; total time=   0.0s\n",
      "[CV] END ....................max_depth=5, min_samples_leaf=5; total time=   0.0s\n",
      "[CV] END .................max_depth=None, min_samples_leaf=1; total time=   0.0s\n",
      "[CV] END .................max_depth=None, min_samples_leaf=1; total time=   0.0s\n",
      "[CV] END .................max_depth=None, min_samples_leaf=1; total time=   0.0s\n",
      "[CV] END .................max_depth=None, min_samples_leaf=2; total time=   0.0s\n",
      "[CV] END .................max_depth=None, min_samples_leaf=2; total time=   0.0s\n",
      "[CV] END .................max_depth=None, min_samples_leaf=2; total time=   0.0s\n",
      "[CV] END .................max_depth=None, min_samples_leaf=3; total time=   0.0s\n",
      "[CV] END .................max_depth=None, min_samples_leaf=3; total time=   0.0s\n",
      "[CV] END .................max_depth=None, min_samples_leaf=3; total time=   0.0s\n",
      "[CV] END .................max_depth=None, min_samples_leaf=4; total time=   0.0s\n",
      "[CV] END .................max_depth=None, min_samples_leaf=4; total time=   0.0s\n",
      "[CV] END .................max_depth=None, min_samples_leaf=4; total time=   0.0s\n",
      "[CV] END .................max_depth=None, min_samples_leaf=5; total time=   0.0s\n",
      "[CV] END .................max_depth=None, min_samples_leaf=5; total time=   0.0s\n",
      "[CV] END .................max_depth=None, min_samples_leaf=5; total time=   0.0s\n"
     ]
    },
    {
     "data": {
      "text/plain": [
       "GridSearchCV(cv=3, estimator=DecisionTreeClassifier(),\n",
       "             param_grid={'max_depth': [1, 2, 3, 4, 5, None],\n",
       "                         'min_samples_leaf': [1, 2, 3, 4, 5]},\n",
       "             verbose=2)"
      ]
     },
     "execution_count": 51,
     "metadata": {},
     "output_type": "execute_result"
    }
   ],
   "source": [
    "gs.fit(X_train, y_train)"
   ]
  },
  {
   "cell_type": "code",
   "execution_count": 52,
   "id": "dc4904f2",
   "metadata": {},
   "outputs": [
    {
     "data": {
      "text/plain": [
       "{'max_depth': 4, 'min_samples_leaf': 3}"
      ]
     },
     "execution_count": 52,
     "metadata": {},
     "output_type": "execute_result"
    }
   ],
   "source": [
    "gs.best_params_"
   ]
  },
  {
   "cell_type": "code",
   "execution_count": 53,
   "id": "aafa8b48",
   "metadata": {},
   "outputs": [
    {
     "data": {
      "text/plain": [
       "0.6611286919831224"
      ]
     },
     "execution_count": 53,
     "metadata": {},
     "output_type": "execute_result"
    }
   ],
   "source": [
    "gs.best_score_"
   ]
  },
  {
   "cell_type": "markdown",
   "id": "e397606f",
   "metadata": {},
   "source": [
    "Using regularization parameters, we are able to get only 65% (earlier it was 55%) ==> Still the case of overfitting"
   ]
  },
  {
   "cell_type": "code",
   "execution_count": 54,
   "id": "f6dbda2a",
   "metadata": {},
   "outputs": [
    {
     "data": {
      "text/plain": [
       "array([0.04915398, 0.13734703, 0.04959858, 0.23923478, 0.16604625,\n",
       "       0.09164829, 0.        , 0.        , 0.03027852, 0.        ,\n",
       "       0.        , 0.        , 0.        , 0.00965423, 0.        ,\n",
       "       0.        , 0.        , 0.01244705, 0.        , 0.04271995,\n",
       "       0.        , 0.01464924, 0.01899611, 0.02086002, 0.        ,\n",
       "       0.        , 0.        , 0.02051523, 0.        , 0.        ,\n",
       "       0.01448134, 0.        , 0.00724067, 0.        , 0.        ,\n",
       "       0.        , 0.01396415, 0.01123232, 0.00965423, 0.00965423,\n",
       "       0.        , 0.        , 0.01976282, 0.        , 0.010861  ,\n",
       "       0.        , 0.        ])"
      ]
     },
     "execution_count": 54,
     "metadata": {},
     "output_type": "execute_result"
    }
   ],
   "source": [
    "classifier.feature_importances_"
   ]
  },
  {
   "cell_type": "code",
   "execution_count": 55,
   "id": "ddcb8e04",
   "metadata": {},
   "outputs": [
    {
     "data": {
      "text/plain": [
       "Index(['rectal_temp', 'pulse', 'respiratory_rate', 'packed_cell_volume',\n",
       "       'total_protein', 'lesion_1', 'lesion_2', 'lesion_3', 'surgery_no',\n",
       "       'surgery_yes', 'age_adult', 'age_young', 'temp_of_extremities_cold',\n",
       "       'temp_of_extremities_cool', 'temp_of_extremities_normal',\n",
       "       'temp_of_extremities_warm', 'peripheral_pulse_absent',\n",
       "       'peripheral_pulse_increased', 'peripheral_pulse_normal',\n",
       "       'peripheral_pulse_reduced', 'mucous_membrane_bright_pink',\n",
       "       'mucous_membrane_bright_red', 'mucous_membrane_dark_cyanotic',\n",
       "       'mucous_membrane_normal_pink', 'mucous_membrane_pale_cyanotic',\n",
       "       'mucous_membrane_pale_pink', 'capillary_refill_time_3',\n",
       "       'capillary_refill_time_less_3_sec', 'capillary_refill_time_more_3_sec',\n",
       "       'pain_alert', 'pain_depressed', 'pain_extreme_pain', 'pain_mild_pain',\n",
       "       'pain_severe_pain', 'peristalsis_absent', 'peristalsis_hypermotile',\n",
       "       'peristalsis_hypomotile', 'peristalsis_normal',\n",
       "       'abdominal_distention_moderate', 'abdominal_distention_none',\n",
       "       'abdominal_distention_severe', 'abdominal_distention_slight',\n",
       "       'surgical_lesion_no', 'surgical_lesion_yes', 'cp_data_no',\n",
       "       'cp_data_yes', 'temp_col_name_abdominal_distention'],\n",
       "      dtype='object')"
      ]
     },
     "execution_count": 55,
     "metadata": {},
     "output_type": "execute_result"
    }
   ],
   "source": [
    "X.columns"
   ]
  },
  {
   "cell_type": "code",
   "execution_count": 56,
   "id": "ed72e8d0",
   "metadata": {},
   "outputs": [
    {
     "name": "stderr",
     "output_type": "stream",
     "text": [
      "C:\\Users\\SAIRAM\\anaconda3\\lib\\site-packages\\seaborn\\_decorators.py:36: FutureWarning: Pass the following variables as keyword args: x, y. From version 0.12, the only valid positional argument will be `data`, and passing other arguments without an explicit keyword will result in an error or misinterpretation.\n",
      "  warnings.warn(\n"
     ]
    },
    {
     "data": {
      "image/png": "[encoded data removed]",
      "text/plain": [
       "<Figure size 1152x1152 with 1 Axes>"
      ]
     },
     "metadata": {
      "needs_background": "light"
     },
     "output_type": "display_data"
    }
   ],
   "source": [
    "import seaborn as sns\n",
    "plt.figure(figsize=(16,16))\n",
    "sns.barplot(classifier.feature_importances_, X.columns)\n",
    "plt.show()"
   ]
  },
  {
   "cell_type": "markdown",
   "id": "604c4220",
   "metadata": {},
   "source": [
    "#### Above feature importance is based on ENTROPY (degree of randomness)"
   ]
  },
  {
   "cell_type": "markdown",
   "id": "5f7f9806",
   "metadata": {},
   "source": [
    "### Random Forest classifier"
   ]
  },
  {
   "cell_type": "code",
   "execution_count": 57,
   "id": "b77f4509",
   "metadata": {},
   "outputs": [],
   "source": [
    "from sklearn.ensemble import RandomForestClassifier"
   ]
  },
  {
   "cell_type": "code",
   "execution_count": 58,
   "id": "eb49003d",
   "metadata": {},
   "outputs": [
    {
     "data": {
      "text/plain": [
       "RandomForestClassifier()"
      ]
     },
     "execution_count": 58,
     "metadata": {},
     "output_type": "execute_result"
    }
   ],
   "source": [
    "rf = RandomForestClassifier()\n",
    "rf.fit(X_train, y_train)"
   ]
  },
  {
   "cell_type": "code",
   "execution_count": 59,
   "id": "c746b451",
   "metadata": {},
   "outputs": [
    {
     "data": {
      "text/plain": [
       "1.0"
      ]
     },
     "execution_count": 59,
     "metadata": {},
     "output_type": "execute_result"
    }
   ],
   "source": [
    "rf.score(X_train, y_train)"
   ]
  },
  {
   "cell_type": "code",
   "execution_count": 60,
   "id": "9a2bc2e3",
   "metadata": {},
   "outputs": [
    {
     "data": {
      "text/plain": [
       "0.7166666666666667"
      ]
     },
     "execution_count": 60,
     "metadata": {},
     "output_type": "execute_result"
    }
   ],
   "source": [
    "rf.score(X_test, y_test)"
   ]
  },
  {
   "cell_type": "code",
   "execution_count": 61,
   "id": "5ca22262",
   "metadata": {},
   "outputs": [
    {
     "data": {
      "text/plain": [
       "array([0, 2, 0, 2, 0, 2, 0, 0, 2, 2])"
      ]
     },
     "execution_count": 61,
     "metadata": {},
     "output_type": "execute_result"
    }
   ],
   "source": [
    "rf_y_pred = rf.predict(X_test)\n",
    "rf_y_pred[0:10]"
   ]
  },
  {
   "cell_type": "code",
   "execution_count": 62,
   "id": "7da52f21",
   "metadata": {},
   "outputs": [
    {
     "data": {
      "text/plain": [
       "0.7166666666666667"
      ]
     },
     "execution_count": 62,
     "metadata": {},
     "output_type": "execute_result"
    }
   ],
   "source": [
    "metrics.accuracy_score(y_test, rf_y_pred)"
   ]
  },
  {
   "cell_type": "code",
   "execution_count": 89,
   "id": "36d1bc37",
   "metadata": {},
   "outputs": [],
   "source": [
    "param_grid = {\n",
    "    \n",
    "    'n_estimators'     : [100,150,200,250],\n",
    "    'max_depth'        : [1,2,3,4,5,None],\n",
    "    'min_samples_leaf' : [1,2,3,4,5],\n",
    "    'random_state'     : [17]\n",
    "}"
   ]
  },
  {
   "cell_type": "code",
   "execution_count": 90,
   "id": "b7a78ccc",
   "metadata": {},
   "outputs": [],
   "source": [
    "gs = GridSearchCV(rf, param_grid, verbose=2, cv=3)"
   ]
  },
  {
   "cell_type": "code",
   "execution_count": 99,
   "id": "cc847839",
   "metadata": {},
   "outputs": [
    {
     "name": "stdout",
     "output_type": "stream",
     "text": [
      "Fitting 3 folds for each of 120 candidates, totalling 360 fits\n",
      "[CV] END max_depth=1, min_samples_leaf=1, n_estimators=100, random_state=17; total time=   0.0s\n",
      "[CV] END max_depth=1, min_samples_leaf=1, n_estimators=100, random_state=17; total time=   0.0s\n",
      "[CV] END max_depth=1, min_samples_leaf=1, n_estimators=100, random_state=17; total time=   0.0s\n",
      "[CV] END max_depth=1, min_samples_leaf=1, n_estimators=150, random_state=17; total time=   0.0s\n",
      "[CV] END max_depth=1, min_samples_leaf=1, n_estimators=150, random_state=17; total time=   0.0s\n",
      "[CV] END max_depth=1, min_samples_leaf=1, n_estimators=150, random_state=17; total time=   0.0s\n",
      "[CV] END max_depth=1, min_samples_leaf=1, n_estimators=200, random_state=17; total time=   0.1s\n",
      "[CV] END max_depth=1, min_samples_leaf=1, n_estimators=200, random_state=17; total time=   0.1s\n",
      "[CV] END max_depth=1, min_samples_leaf=1, n_estimators=200, random_state=17; total time=   0.1s\n",
      "[CV] END max_depth=1, min_samples_leaf=1, n_estimators=250, random_state=17; total time=   0.1s\n",
      "[CV] END max_depth=1, min_samples_leaf=1, n_estimators=250, random_state=17; total time=   0.1s\n",
      "[CV] END max_depth=1, min_samples_leaf=1, n_estimators=250, random_state=17; total time=   0.1s\n",
      "[CV] END max_depth=1, min_samples_leaf=2, n_estimators=100, random_state=17; total time=   0.0s\n",
      "[CV] END max_depth=1, min_samples_leaf=2, n_estimators=100, random_state=17; total time=   0.0s\n",
      "[CV] END max_depth=1, min_samples_leaf=2, n_estimators=100, random_state=17; total time=   0.0s\n",
      "[CV] END max_depth=1, min_samples_leaf=2, n_estimators=150, random_state=17; total time=   0.0s\n",
      "[CV] END max_depth=1, min_samples_leaf=2, n_estimators=150, random_state=17; total time=   0.0s\n",
      "[CV] END max_depth=1, min_samples_leaf=2, n_estimators=150, random_state=17; total time=   0.0s\n",
      "[CV] END max_depth=1, min_samples_leaf=2, n_estimators=200, random_state=17; total time=   0.1s\n",
      "[CV] END max_depth=1, min_samples_leaf=2, n_estimators=200, random_state=17; total time=   0.1s\n",
      "[CV] END max_depth=1, min_samples_leaf=2, n_estimators=200, random_state=17; total time=   0.1s\n",
      "[CV] END max_depth=1, min_samples_leaf=2, n_estimators=250, random_state=17; total time=   0.1s\n",
      "[CV] END max_depth=1, min_samples_leaf=2, n_estimators=250, random_state=17; total time=   0.1s\n",
      "[CV] END max_depth=1, min_samples_leaf=2, n_estimators=250, random_state=17; total time=   0.1s\n",
      "[CV] END max_depth=1, min_samples_leaf=3, n_estimators=100, random_state=17; total time=   0.0s\n",
      "[CV] END max_depth=1, min_samples_leaf=3, n_estimators=100, random_state=17; total time=   0.0s\n",
      "[CV] END max_depth=1, min_samples_leaf=3, n_estimators=100, random_state=17; total time=   0.0s\n",
      "[CV] END max_depth=1, min_samples_leaf=3, n_estimators=150, random_state=17; total time=   0.0s\n",
      "[CV] END max_depth=1, min_samples_leaf=3, n_estimators=150, random_state=17; total time=   0.0s\n",
      "[CV] END max_depth=1, min_samples_leaf=3, n_estimators=150, random_state=17; total time=   0.0s\n",
      "[CV] END max_depth=1, min_samples_leaf=3, n_estimators=200, random_state=17; total time=   0.1s\n",
      "[CV] END max_depth=1, min_samples_leaf=3, n_estimators=200, random_state=17; total time=   0.1s\n",
      "[CV] END max_depth=1, min_samples_leaf=3, n_estimators=200, random_state=17; total time=   0.0s\n",
      "[CV] END max_depth=1, min_samples_leaf=3, n_estimators=250, random_state=17; total time=   0.1s\n",
      "[CV] END max_depth=1, min_samples_leaf=3, n_estimators=250, random_state=17; total time=   0.1s\n",
      "[CV] END max_depth=1, min_samples_leaf=3, n_estimators=250, random_state=17; total time=   0.1s\n",
      "[CV] END max_depth=1, min_samples_leaf=4, n_estimators=100, random_state=17; total time=   0.0s\n",
      "[CV] END max_depth=1, min_samples_leaf=4, n_estimators=100, random_state=17; total time=   0.0s\n",
      "[CV] END max_depth=1, min_samples_leaf=4, n_estimators=100, random_state=17; total time=   0.0s\n",
      "[CV] END max_depth=1, min_samples_leaf=4, n_estimators=150, random_state=17; total time=   0.0s\n",
      "[CV] END max_depth=1, min_samples_leaf=4, n_estimators=150, random_state=17; total time=   0.0s\n",
      "[CV] END max_depth=1, min_samples_leaf=4, n_estimators=150, random_state=17; total time=   0.0s\n",
      "[CV] END max_depth=1, min_samples_leaf=4, n_estimators=200, random_state=17; total time=   0.1s\n",
      "[CV] END max_depth=1, min_samples_leaf=4, n_estimators=200, random_state=17; total time=   0.1s\n",
      "[CV] END max_depth=1, min_samples_leaf=4, n_estimators=200, random_state=17; total time=   0.1s\n",
      "[CV] END max_depth=1, min_samples_leaf=4, n_estimators=250, random_state=17; total time=   0.1s\n",
      "[CV] END max_depth=1, min_samples_leaf=4, n_estimators=250, random_state=17; total time=   0.1s\n",
      "[CV] END max_depth=1, min_samples_leaf=4, n_estimators=250, random_state=17; total time=   0.1s\n",
      "[CV] END max_depth=1, min_samples_leaf=5, n_estimators=100, random_state=17; total time=   0.0s\n",
      "[CV] END max_depth=1, min_samples_leaf=5, n_estimators=100, random_state=17; total time=   0.0s\n",
      "[CV] END max_depth=1, min_samples_leaf=5, n_estimators=100, random_state=17; total time=   0.0s\n",
      "[CV] END max_depth=1, min_samples_leaf=5, n_estimators=150, random_state=17; total time=   0.0s\n",
      "[CV] END max_depth=1, min_samples_leaf=5, n_estimators=150, random_state=17; total time=   0.0s\n",
      "[CV] END max_depth=1, min_samples_leaf=5, n_estimators=150, random_state=17; total time=   0.0s\n",
      "[CV] END max_depth=1, min_samples_leaf=5, n_estimators=200, random_state=17; total time=   0.1s\n",
      "[CV] END max_depth=1, min_samples_leaf=5, n_estimators=200, random_state=17; total time=   0.1s\n",
      "[CV] END max_depth=1, min_samples_leaf=5, n_estimators=200, random_state=17; total time=   0.1s\n",
      "[CV] END max_depth=1, min_samples_leaf=5, n_estimators=250, random_state=17; total time=   0.1s\n",
      "[CV] END max_depth=1, min_samples_leaf=5, n_estimators=250, random_state=17; total time=   0.1s\n",
      "[CV] END max_depth=1, min_samples_leaf=5, n_estimators=250, random_state=17; total time=   0.1s\n",
      "[CV] END max_depth=2, min_samples_leaf=1, n_estimators=100, random_state=17; total time=   0.0s\n",
      "[CV] END max_depth=2, min_samples_leaf=1, n_estimators=100, random_state=17; total time=   0.0s\n",
      "[CV] END max_depth=2, min_samples_leaf=1, n_estimators=100, random_state=17; total time=   0.0s\n",
      "[CV] END max_depth=2, min_samples_leaf=1, n_estimators=150, random_state=17; total time=   0.0s\n",
      "[CV] END max_depth=2, min_samples_leaf=1, n_estimators=150, random_state=17; total time=   0.0s\n",
      "[CV] END max_depth=2, min_samples_leaf=1, n_estimators=150, random_state=17; total time=   0.0s\n",
      "[CV] END max_depth=2, min_samples_leaf=1, n_estimators=200, random_state=17; total time=   0.1s\n",
      "[CV] END max_depth=2, min_samples_leaf=1, n_estimators=200, random_state=17; total time=   0.0s\n",
      "[CV] END max_depth=2, min_samples_leaf=1, n_estimators=200, random_state=17; total time=   0.1s\n",
      "[CV] END max_depth=2, min_samples_leaf=1, n_estimators=250, random_state=17; total time=   0.1s\n",
      "[CV] END max_depth=2, min_samples_leaf=1, n_estimators=250, random_state=17; total time=   0.1s\n",
      "[CV] END max_depth=2, min_samples_leaf=1, n_estimators=250, random_state=17; total time=   0.1s\n",
      "[CV] END max_depth=2, min_samples_leaf=2, n_estimators=100, random_state=17; total time=   0.0s\n",
      "[CV] END max_depth=2, min_samples_leaf=2, n_estimators=100, random_state=17; total time=   0.0s\n",
      "[CV] END max_depth=2, min_samples_leaf=2, n_estimators=100, random_state=17; total time=   0.0s\n",
      "[CV] END max_depth=2, min_samples_leaf=2, n_estimators=150, random_state=17; total time=   0.0s\n",
      "[CV] END max_depth=2, min_samples_leaf=2, n_estimators=150, random_state=17; total time=   0.0s\n",
      "[CV] END max_depth=2, min_samples_leaf=2, n_estimators=150, random_state=17; total time=   0.0s\n",
      "[CV] END max_depth=2, min_samples_leaf=2, n_estimators=200, random_state=17; total time=   0.1s\n",
      "[CV] END max_depth=2, min_samples_leaf=2, n_estimators=200, random_state=17; total time=   0.1s\n",
      "[CV] END max_depth=2, min_samples_leaf=2, n_estimators=200, random_state=17; total time=   0.1s\n",
      "[CV] END max_depth=2, min_samples_leaf=2, n_estimators=250, random_state=17; total time=   0.1s\n",
      "[CV] END max_depth=2, min_samples_leaf=2, n_estimators=250, random_state=17; total time=   0.1s\n",
      "[CV] END max_depth=2, min_samples_leaf=2, n_estimators=250, random_state=17; total time=   0.1s\n",
      "[CV] END max_depth=2, min_samples_leaf=3, n_estimators=100, random_state=17; total time=   0.0s\n",
      "[CV] END max_depth=2, min_samples_leaf=3, n_estimators=100, random_state=17; total time=   0.0s\n"
     ]
    },
    {
     "name": "stdout",
     "output_type": "stream",
     "text": [
      "[CV] END max_depth=2, min_samples_leaf=3, n_estimators=100, random_state=17; total time=   0.0s\n",
      "[CV] END max_depth=2, min_samples_leaf=3, n_estimators=150, random_state=17; total time=   0.0s\n",
      "[CV] END max_depth=2, min_samples_leaf=3, n_estimators=150, random_state=17; total time=   0.0s\n",
      "[CV] END max_depth=2, min_samples_leaf=3, n_estimators=150, random_state=17; total time=   0.0s\n",
      "[CV] END max_depth=2, min_samples_leaf=3, n_estimators=200, random_state=17; total time=   0.1s\n",
      "[CV] END max_depth=2, min_samples_leaf=3, n_estimators=200, random_state=17; total time=   0.1s\n",
      "[CV] END max_depth=2, min_samples_leaf=3, n_estimators=200, random_state=17; total time=   0.1s\n",
      "[CV] END max_depth=2, min_samples_leaf=3, n_estimators=250, random_state=17; total time=   0.1s\n",
      "[CV] END max_depth=2, min_samples_leaf=3, n_estimators=250, random_state=17; total time=   0.1s\n",
      "[CV] END max_depth=2, min_samples_leaf=3, n_estimators=250, random_state=17; total time=   0.1s\n",
      "[CV] END max_depth=2, min_samples_leaf=4, n_estimators=100, random_state=17; total time=   0.0s\n",
      "[CV] END max_depth=2, min_samples_leaf=4, n_estimators=100, random_state=17; total time=   0.0s\n",
      "[CV] END max_depth=2, min_samples_leaf=4, n_estimators=100, random_state=17; total time=   0.0s\n",
      "[CV] END max_depth=2, min_samples_leaf=4, n_estimators=150, random_state=17; total time=   0.0s\n",
      "[CV] END max_depth=2, min_samples_leaf=4, n_estimators=150, random_state=17; total time=   0.0s\n",
      "[CV] END max_depth=2, min_samples_leaf=4, n_estimators=150, random_state=17; total time=   0.0s\n",
      "[CV] END max_depth=2, min_samples_leaf=4, n_estimators=200, random_state=17; total time=   0.1s\n",
      "[CV] END max_depth=2, min_samples_leaf=4, n_estimators=200, random_state=17; total time=   0.1s\n",
      "[CV] END max_depth=2, min_samples_leaf=4, n_estimators=200, random_state=17; total time=   0.1s\n",
      "[CV] END max_depth=2, min_samples_leaf=4, n_estimators=250, random_state=17; total time=   0.1s\n",
      "[CV] END max_depth=2, min_samples_leaf=4, n_estimators=250, random_state=17; total time=   0.1s\n",
      "[CV] END max_depth=2, min_samples_leaf=4, n_estimators=250, random_state=17; total time=   0.1s\n",
      "[CV] END max_depth=2, min_samples_leaf=5, n_estimators=100, random_state=17; total time=   0.0s\n",
      "[CV] END max_depth=2, min_samples_leaf=5, n_estimators=100, random_state=17; total time=   0.0s\n",
      "[CV] END max_depth=2, min_samples_leaf=5, n_estimators=100, random_state=17; total time=   0.0s\n",
      "[CV] END max_depth=2, min_samples_leaf=5, n_estimators=150, random_state=17; total time=   0.0s\n",
      "[CV] END max_depth=2, min_samples_leaf=5, n_estimators=150, random_state=17; total time=   0.0s\n",
      "[CV] END max_depth=2, min_samples_leaf=5, n_estimators=150, random_state=17; total time=   0.0s\n",
      "[CV] END max_depth=2, min_samples_leaf=5, n_estimators=200, random_state=17; total time=   0.1s\n",
      "[CV] END max_depth=2, min_samples_leaf=5, n_estimators=200, random_state=17; total time=   0.1s\n",
      "[CV] END max_depth=2, min_samples_leaf=5, n_estimators=200, random_state=17; total time=   0.1s\n",
      "[CV] END max_depth=2, min_samples_leaf=5, n_estimators=250, random_state=17; total time=   0.1s\n",
      "[CV] END max_depth=2, min_samples_leaf=5, n_estimators=250, random_state=17; total time=   0.1s\n",
      "[CV] END max_depth=2, min_samples_leaf=5, n_estimators=250, random_state=17; total time=   0.1s\n",
      "[CV] END max_depth=3, min_samples_leaf=1, n_estimators=100, random_state=17; total time=   0.0s\n",
      "[CV] END max_depth=3, min_samples_leaf=1, n_estimators=100, random_state=17; total time=   0.0s\n",
      "[CV] END max_depth=3, min_samples_leaf=1, n_estimators=100, random_state=17; total time=   0.0s\n",
      "[CV] END max_depth=3, min_samples_leaf=1, n_estimators=150, random_state=17; total time=   0.0s\n",
      "[CV] END max_depth=3, min_samples_leaf=1, n_estimators=150, random_state=17; total time=   0.0s\n",
      "[CV] END max_depth=3, min_samples_leaf=1, n_estimators=150, random_state=17; total time=   0.0s\n",
      "[CV] END max_depth=3, min_samples_leaf=1, n_estimators=200, random_state=17; total time=   0.1s\n",
      "[CV] END max_depth=3, min_samples_leaf=1, n_estimators=200, random_state=17; total time=   0.1s\n",
      "[CV] END max_depth=3, min_samples_leaf=1, n_estimators=200, random_state=17; total time=   0.1s\n",
      "[CV] END max_depth=3, min_samples_leaf=1, n_estimators=250, random_state=17; total time=   0.1s\n",
      "[CV] END max_depth=3, min_samples_leaf=1, n_estimators=250, random_state=17; total time=   0.1s\n",
      "[CV] END max_depth=3, min_samples_leaf=1, n_estimators=250, random_state=17; total time=   0.1s\n",
      "[CV] END max_depth=3, min_samples_leaf=2, n_estimators=100, random_state=17; total time=   0.0s\n",
      "[CV] END max_depth=3, min_samples_leaf=2, n_estimators=100, random_state=17; total time=   0.0s\n",
      "[CV] END max_depth=3, min_samples_leaf=2, n_estimators=100, random_state=17; total time=   0.0s\n",
      "[CV] END max_depth=3, min_samples_leaf=2, n_estimators=150, random_state=17; total time=   0.0s\n",
      "[CV] END max_depth=3, min_samples_leaf=2, n_estimators=150, random_state=17; total time=   0.0s\n",
      "[CV] END max_depth=3, min_samples_leaf=2, n_estimators=150, random_state=17; total time=   0.0s\n",
      "[CV] END max_depth=3, min_samples_leaf=2, n_estimators=200, random_state=17; total time=   0.1s\n",
      "[CV] END max_depth=3, min_samples_leaf=2, n_estimators=200, random_state=17; total time=   0.1s\n",
      "[CV] END max_depth=3, min_samples_leaf=2, n_estimators=200, random_state=17; total time=   0.1s\n",
      "[CV] END max_depth=3, min_samples_leaf=2, n_estimators=250, random_state=17; total time=   0.1s\n",
      "[CV] END max_depth=3, min_samples_leaf=2, n_estimators=250, random_state=17; total time=   0.1s\n",
      "[CV] END max_depth=3, min_samples_leaf=2, n_estimators=250, random_state=17; total time=   0.1s\n",
      "[CV] END max_depth=3, min_samples_leaf=3, n_estimators=100, random_state=17; total time=   0.0s\n",
      "[CV] END max_depth=3, min_samples_leaf=3, n_estimators=100, random_state=17; total time=   0.0s\n",
      "[CV] END max_depth=3, min_samples_leaf=3, n_estimators=100, random_state=17; total time=   0.0s\n",
      "[CV] END max_depth=3, min_samples_leaf=3, n_estimators=150, random_state=17; total time=   0.0s\n",
      "[CV] END max_depth=3, min_samples_leaf=3, n_estimators=150, random_state=17; total time=   0.0s\n",
      "[CV] END max_depth=3, min_samples_leaf=3, n_estimators=150, random_state=17; total time=   0.0s\n",
      "[CV] END max_depth=3, min_samples_leaf=3, n_estimators=200, random_state=17; total time=   0.1s\n",
      "[CV] END max_depth=3, min_samples_leaf=3, n_estimators=200, random_state=17; total time=   0.1s\n",
      "[CV] END max_depth=3, min_samples_leaf=3, n_estimators=200, random_state=17; total time=   0.1s\n",
      "[CV] END max_depth=3, min_samples_leaf=3, n_estimators=250, random_state=17; total time=   0.1s\n",
      "[CV] END max_depth=3, min_samples_leaf=3, n_estimators=250, random_state=17; total time=   0.1s\n",
      "[CV] END max_depth=3, min_samples_leaf=3, n_estimators=250, random_state=17; total time=   0.1s\n",
      "[CV] END max_depth=3, min_samples_leaf=4, n_estimators=100, random_state=17; total time=   0.0s\n",
      "[CV] END max_depth=3, min_samples_leaf=4, n_estimators=100, random_state=17; total time=   0.0s\n",
      "[CV] END max_depth=3, min_samples_leaf=4, n_estimators=100, random_state=17; total time=   0.0s\n",
      "[CV] END max_depth=3, min_samples_leaf=4, n_estimators=150, random_state=17; total time=   0.0s\n",
      "[CV] END max_depth=3, min_samples_leaf=4, n_estimators=150, random_state=17; total time=   0.0s\n",
      "[CV] END max_depth=3, min_samples_leaf=4, n_estimators=150, random_state=17; total time=   0.0s\n",
      "[CV] END max_depth=3, min_samples_leaf=4, n_estimators=200, random_state=17; total time=   0.1s\n",
      "[CV] END max_depth=3, min_samples_leaf=4, n_estimators=200, random_state=17; total time=   0.1s\n",
      "[CV] END max_depth=3, min_samples_leaf=4, n_estimators=200, random_state=17; total time=   0.1s\n",
      "[CV] END max_depth=3, min_samples_leaf=4, n_estimators=250, random_state=17; total time=   0.1s\n",
      "[CV] END max_depth=3, min_samples_leaf=4, n_estimators=250, random_state=17; total time=   0.1s\n",
      "[CV] END max_depth=3, min_samples_leaf=4, n_estimators=250, random_state=17; total time=   0.1s\n",
      "[CV] END max_depth=3, min_samples_leaf=5, n_estimators=100, random_state=17; total time=   0.0s\n",
      "[CV] END max_depth=3, min_samples_leaf=5, n_estimators=100, random_state=17; total time=   0.0s\n",
      "[CV] END max_depth=3, min_samples_leaf=5, n_estimators=100, random_state=17; total time=   0.0s\n",
      "[CV] END max_depth=3, min_samples_leaf=5, n_estimators=150, random_state=17; total time=   0.0s\n"
     ]
    },
    {
     "name": "stdout",
     "output_type": "stream",
     "text": [
      "[CV] END max_depth=3, min_samples_leaf=5, n_estimators=150, random_state=17; total time=   0.0s\n",
      "[CV] END max_depth=3, min_samples_leaf=5, n_estimators=150, random_state=17; total time=   0.0s\n",
      "[CV] END max_depth=3, min_samples_leaf=5, n_estimators=200, random_state=17; total time=   0.1s\n",
      "[CV] END max_depth=3, min_samples_leaf=5, n_estimators=200, random_state=17; total time=   0.1s\n",
      "[CV] END max_depth=3, min_samples_leaf=5, n_estimators=200, random_state=17; total time=   0.1s\n",
      "[CV] END max_depth=3, min_samples_leaf=5, n_estimators=250, random_state=17; total time=   0.3s\n",
      "[CV] END max_depth=3, min_samples_leaf=5, n_estimators=250, random_state=17; total time=   0.1s\n",
      "[CV] END max_depth=3, min_samples_leaf=5, n_estimators=250, random_state=17; total time=   0.1s\n",
      "[CV] END max_depth=4, min_samples_leaf=1, n_estimators=100, random_state=17; total time=   0.0s\n",
      "[CV] END max_depth=4, min_samples_leaf=1, n_estimators=100, random_state=17; total time=   0.0s\n",
      "[CV] END max_depth=4, min_samples_leaf=1, n_estimators=100, random_state=17; total time=   0.0s\n",
      "[CV] END max_depth=4, min_samples_leaf=1, n_estimators=150, random_state=17; total time=   0.0s\n",
      "[CV] END max_depth=4, min_samples_leaf=1, n_estimators=150, random_state=17; total time=   0.0s\n",
      "[CV] END max_depth=4, min_samples_leaf=1, n_estimators=150, random_state=17; total time=   0.0s\n",
      "[CV] END max_depth=4, min_samples_leaf=1, n_estimators=200, random_state=17; total time=   0.1s\n",
      "[CV] END max_depth=4, min_samples_leaf=1, n_estimators=200, random_state=17; total time=   0.1s\n",
      "[CV] END max_depth=4, min_samples_leaf=1, n_estimators=200, random_state=17; total time=   0.1s\n",
      "[CV] END max_depth=4, min_samples_leaf=1, n_estimators=250, random_state=17; total time=   0.1s\n",
      "[CV] END max_depth=4, min_samples_leaf=1, n_estimators=250, random_state=17; total time=   0.1s\n",
      "[CV] END max_depth=4, min_samples_leaf=1, n_estimators=250, random_state=17; total time=   0.1s\n",
      "[CV] END max_depth=4, min_samples_leaf=2, n_estimators=100, random_state=17; total time=   0.0s\n",
      "[CV] END max_depth=4, min_samples_leaf=2, n_estimators=100, random_state=17; total time=   0.0s\n",
      "[CV] END max_depth=4, min_samples_leaf=2, n_estimators=100, random_state=17; total time=   0.0s\n",
      "[CV] END max_depth=4, min_samples_leaf=2, n_estimators=150, random_state=17; total time=   0.0s\n",
      "[CV] END max_depth=4, min_samples_leaf=2, n_estimators=150, random_state=17; total time=   0.0s\n",
      "[CV] END max_depth=4, min_samples_leaf=2, n_estimators=150, random_state=17; total time=   0.0s\n",
      "[CV] END max_depth=4, min_samples_leaf=2, n_estimators=200, random_state=17; total time=   0.1s\n",
      "[CV] END max_depth=4, min_samples_leaf=2, n_estimators=200, random_state=17; total time=   0.1s\n",
      "[CV] END max_depth=4, min_samples_leaf=2, n_estimators=200, random_state=17; total time=   0.1s\n",
      "[CV] END max_depth=4, min_samples_leaf=2, n_estimators=250, random_state=17; total time=   0.1s\n",
      "[CV] END max_depth=4, min_samples_leaf=2, n_estimators=250, random_state=17; total time=   0.1s\n",
      "[CV] END max_depth=4, min_samples_leaf=2, n_estimators=250, random_state=17; total time=   0.1s\n",
      "[CV] END max_depth=4, min_samples_leaf=3, n_estimators=100, random_state=17; total time=   0.0s\n",
      "[CV] END max_depth=4, min_samples_leaf=3, n_estimators=100, random_state=17; total time=   0.0s\n",
      "[CV] END max_depth=4, min_samples_leaf=3, n_estimators=100, random_state=17; total time=   0.0s\n",
      "[CV] END max_depth=4, min_samples_leaf=3, n_estimators=150, random_state=17; total time=   0.0s\n",
      "[CV] END max_depth=4, min_samples_leaf=3, n_estimators=150, random_state=17; total time=   0.0s\n",
      "[CV] END max_depth=4, min_samples_leaf=3, n_estimators=150, random_state=17; total time=   0.0s\n",
      "[CV] END max_depth=4, min_samples_leaf=3, n_estimators=200, random_state=17; total time=   0.1s\n",
      "[CV] END max_depth=4, min_samples_leaf=3, n_estimators=200, random_state=17; total time=   0.1s\n",
      "[CV] END max_depth=4, min_samples_leaf=3, n_estimators=200, random_state=17; total time=   0.1s\n",
      "[CV] END max_depth=4, min_samples_leaf=3, n_estimators=250, random_state=17; total time=   0.1s\n",
      "[CV] END max_depth=4, min_samples_leaf=3, n_estimators=250, random_state=17; total time=   0.1s\n",
      "[CV] END max_depth=4, min_samples_leaf=3, n_estimators=250, random_state=17; total time=   0.1s\n",
      "[CV] END max_depth=4, min_samples_leaf=4, n_estimators=100, random_state=17; total time=   0.0s\n",
      "[CV] END max_depth=4, min_samples_leaf=4, n_estimators=100, random_state=17; total time=   0.0s\n",
      "[CV] END max_depth=4, min_samples_leaf=4, n_estimators=100, random_state=17; total time=   0.0s\n",
      "[CV] END max_depth=4, min_samples_leaf=4, n_estimators=150, random_state=17; total time=   0.0s\n",
      "[CV] END max_depth=4, min_samples_leaf=4, n_estimators=150, random_state=17; total time=   0.0s\n",
      "[CV] END max_depth=4, min_samples_leaf=4, n_estimators=150, random_state=17; total time=   0.0s\n",
      "[CV] END max_depth=4, min_samples_leaf=4, n_estimators=200, random_state=17; total time=   0.1s\n",
      "[CV] END max_depth=4, min_samples_leaf=4, n_estimators=200, random_state=17; total time=   0.1s\n",
      "[CV] END max_depth=4, min_samples_leaf=4, n_estimators=200, random_state=17; total time=   0.1s\n",
      "[CV] END max_depth=4, min_samples_leaf=4, n_estimators=250, random_state=17; total time=   0.1s\n",
      "[CV] END max_depth=4, min_samples_leaf=4, n_estimators=250, random_state=17; total time=   0.1s\n",
      "[CV] END max_depth=4, min_samples_leaf=4, n_estimators=250, random_state=17; total time=   0.1s\n",
      "[CV] END max_depth=4, min_samples_leaf=5, n_estimators=100, random_state=17; total time=   0.0s\n",
      "[CV] END max_depth=4, min_samples_leaf=5, n_estimators=100, random_state=17; total time=   0.0s\n",
      "[CV] END max_depth=4, min_samples_leaf=5, n_estimators=100, random_state=17; total time=   0.0s\n",
      "[CV] END max_depth=4, min_samples_leaf=5, n_estimators=150, random_state=17; total time=   0.0s\n",
      "[CV] END max_depth=4, min_samples_leaf=5, n_estimators=150, random_state=17; total time=   0.0s\n",
      "[CV] END max_depth=4, min_samples_leaf=5, n_estimators=150, random_state=17; total time=   0.0s\n",
      "[CV] END max_depth=4, min_samples_leaf=5, n_estimators=200, random_state=17; total time=   0.1s\n",
      "[CV] END max_depth=4, min_samples_leaf=5, n_estimators=200, random_state=17; total time=   0.1s\n",
      "[CV] END max_depth=4, min_samples_leaf=5, n_estimators=200, random_state=17; total time=   0.1s\n",
      "[CV] END max_depth=4, min_samples_leaf=5, n_estimators=250, random_state=17; total time=   0.1s\n",
      "[CV] END max_depth=4, min_samples_leaf=5, n_estimators=250, random_state=17; total time=   0.1s\n",
      "[CV] END max_depth=4, min_samples_leaf=5, n_estimators=250, random_state=17; total time=   0.1s\n",
      "[CV] END max_depth=5, min_samples_leaf=1, n_estimators=100, random_state=17; total time=   0.0s\n",
      "[CV] END max_depth=5, min_samples_leaf=1, n_estimators=100, random_state=17; total time=   0.0s\n",
      "[CV] END max_depth=5, min_samples_leaf=1, n_estimators=100, random_state=17; total time=   0.0s\n",
      "[CV] END max_depth=5, min_samples_leaf=1, n_estimators=150, random_state=17; total time=   0.0s\n",
      "[CV] END max_depth=5, min_samples_leaf=1, n_estimators=150, random_state=17; total time=   0.0s\n",
      "[CV] END max_depth=5, min_samples_leaf=1, n_estimators=150, random_state=17; total time=   0.0s\n",
      "[CV] END max_depth=5, min_samples_leaf=1, n_estimators=200, random_state=17; total time=   0.1s\n",
      "[CV] END max_depth=5, min_samples_leaf=1, n_estimators=200, random_state=17; total time=   0.1s\n",
      "[CV] END max_depth=5, min_samples_leaf=1, n_estimators=200, random_state=17; total time=   0.1s\n",
      "[CV] END max_depth=5, min_samples_leaf=1, n_estimators=250, random_state=17; total time=   0.1s\n",
      "[CV] END max_depth=5, min_samples_leaf=1, n_estimators=250, random_state=17; total time=   0.1s\n",
      "[CV] END max_depth=5, min_samples_leaf=1, n_estimators=250, random_state=17; total time=   0.1s\n",
      "[CV] END max_depth=5, min_samples_leaf=2, n_estimators=100, random_state=17; total time=   0.0s\n",
      "[CV] END max_depth=5, min_samples_leaf=2, n_estimators=100, random_state=17; total time=   0.0s\n",
      "[CV] END max_depth=5, min_samples_leaf=2, n_estimators=100, random_state=17; total time=   0.0s\n",
      "[CV] END max_depth=5, min_samples_leaf=2, n_estimators=150, random_state=17; total time=   0.0s\n",
      "[CV] END max_depth=5, min_samples_leaf=2, n_estimators=150, random_state=17; total time=   0.0s\n",
      "[CV] END max_depth=5, min_samples_leaf=2, n_estimators=150, random_state=17; total time=   0.0s\n",
      "[CV] END max_depth=5, min_samples_leaf=2, n_estimators=200, random_state=17; total time=   0.1s\n"
     ]
    },
    {
     "name": "stdout",
     "output_type": "stream",
     "text": [
      "[CV] END max_depth=5, min_samples_leaf=2, n_estimators=200, random_state=17; total time=   0.1s\n",
      "[CV] END max_depth=5, min_samples_leaf=2, n_estimators=200, random_state=17; total time=   0.1s\n",
      "[CV] END max_depth=5, min_samples_leaf=2, n_estimators=250, random_state=17; total time=   0.1s\n",
      "[CV] END max_depth=5, min_samples_leaf=2, n_estimators=250, random_state=17; total time=   0.1s\n",
      "[CV] END max_depth=5, min_samples_leaf=2, n_estimators=250, random_state=17; total time=   0.1s\n",
      "[CV] END max_depth=5, min_samples_leaf=3, n_estimators=100, random_state=17; total time=   0.0s\n",
      "[CV] END max_depth=5, min_samples_leaf=3, n_estimators=100, random_state=17; total time=   0.0s\n",
      "[CV] END max_depth=5, min_samples_leaf=3, n_estimators=100, random_state=17; total time=   0.0s\n",
      "[CV] END max_depth=5, min_samples_leaf=3, n_estimators=150, random_state=17; total time=   0.0s\n",
      "[CV] END max_depth=5, min_samples_leaf=3, n_estimators=150, random_state=17; total time=   0.0s\n",
      "[CV] END max_depth=5, min_samples_leaf=3, n_estimators=150, random_state=17; total time=   0.0s\n",
      "[CV] END max_depth=5, min_samples_leaf=3, n_estimators=200, random_state=17; total time=   0.1s\n",
      "[CV] END max_depth=5, min_samples_leaf=3, n_estimators=200, random_state=17; total time=   0.1s\n",
      "[CV] END max_depth=5, min_samples_leaf=3, n_estimators=200, random_state=17; total time=   0.1s\n",
      "[CV] END max_depth=5, min_samples_leaf=3, n_estimators=250, random_state=17; total time=   0.1s\n",
      "[CV] END max_depth=5, min_samples_leaf=3, n_estimators=250, random_state=17; total time=   0.1s\n",
      "[CV] END max_depth=5, min_samples_leaf=3, n_estimators=250, random_state=17; total time=   0.1s\n",
      "[CV] END max_depth=5, min_samples_leaf=4, n_estimators=100, random_state=17; total time=   0.0s\n",
      "[CV] END max_depth=5, min_samples_leaf=4, n_estimators=100, random_state=17; total time=   0.0s\n",
      "[CV] END max_depth=5, min_samples_leaf=4, n_estimators=100, random_state=17; total time=   0.0s\n",
      "[CV] END max_depth=5, min_samples_leaf=4, n_estimators=150, random_state=17; total time=   0.0s\n",
      "[CV] END max_depth=5, min_samples_leaf=4, n_estimators=150, random_state=17; total time=   0.0s\n",
      "[CV] END max_depth=5, min_samples_leaf=4, n_estimators=150, random_state=17; total time=   0.0s\n",
      "[CV] END max_depth=5, min_samples_leaf=4, n_estimators=200, random_state=17; total time=   0.1s\n",
      "[CV] END max_depth=5, min_samples_leaf=4, n_estimators=200, random_state=17; total time=   0.1s\n",
      "[CV] END max_depth=5, min_samples_leaf=4, n_estimators=200, random_state=17; total time=   0.1s\n",
      "[CV] END max_depth=5, min_samples_leaf=4, n_estimators=250, random_state=17; total time=   0.1s\n",
      "[CV] END max_depth=5, min_samples_leaf=4, n_estimators=250, random_state=17; total time=   0.1s\n",
      "[CV] END max_depth=5, min_samples_leaf=4, n_estimators=250, random_state=17; total time=   0.1s\n",
      "[CV] END max_depth=5, min_samples_leaf=5, n_estimators=100, random_state=17; total time=   0.0s\n",
      "[CV] END max_depth=5, min_samples_leaf=5, n_estimators=100, random_state=17; total time=   0.0s\n",
      "[CV] END max_depth=5, min_samples_leaf=5, n_estimators=100, random_state=17; total time=   0.0s\n",
      "[CV] END max_depth=5, min_samples_leaf=5, n_estimators=150, random_state=17; total time=   0.0s\n",
      "[CV] END max_depth=5, min_samples_leaf=5, n_estimators=150, random_state=17; total time=   0.0s\n",
      "[CV] END max_depth=5, min_samples_leaf=5, n_estimators=150, random_state=17; total time=   0.0s\n",
      "[CV] END max_depth=5, min_samples_leaf=5, n_estimators=200, random_state=17; total time=   0.1s\n",
      "[CV] END max_depth=5, min_samples_leaf=5, n_estimators=200, random_state=17; total time=   0.1s\n",
      "[CV] END max_depth=5, min_samples_leaf=5, n_estimators=200, random_state=17; total time=   0.1s\n",
      "[CV] END max_depth=5, min_samples_leaf=5, n_estimators=250, random_state=17; total time=   0.1s\n",
      "[CV] END max_depth=5, min_samples_leaf=5, n_estimators=250, random_state=17; total time=   0.1s\n",
      "[CV] END max_depth=5, min_samples_leaf=5, n_estimators=250, random_state=17; total time=   0.1s\n",
      "[CV] END max_depth=None, min_samples_leaf=1, n_estimators=100, random_state=17; total time=   0.0s\n",
      "[CV] END max_depth=None, min_samples_leaf=1, n_estimators=100, random_state=17; total time=   0.0s\n",
      "[CV] END max_depth=None, min_samples_leaf=1, n_estimators=100, random_state=17; total time=   0.0s\n",
      "[CV] END max_depth=None, min_samples_leaf=1, n_estimators=150, random_state=17; total time=   0.0s\n",
      "[CV] END max_depth=None, min_samples_leaf=1, n_estimators=150, random_state=17; total time=   0.0s\n",
      "[CV] END max_depth=None, min_samples_leaf=1, n_estimators=150, random_state=17; total time=   0.0s\n",
      "[CV] END max_depth=None, min_samples_leaf=1, n_estimators=200, random_state=17; total time=   0.1s\n",
      "[CV] END max_depth=None, min_samples_leaf=1, n_estimators=200, random_state=17; total time=   0.1s\n",
      "[CV] END max_depth=None, min_samples_leaf=1, n_estimators=200, random_state=17; total time=   0.1s\n",
      "[CV] END max_depth=None, min_samples_leaf=1, n_estimators=250, random_state=17; total time=   0.1s\n",
      "[CV] END max_depth=None, min_samples_leaf=1, n_estimators=250, random_state=17; total time=   0.1s\n",
      "[CV] END max_depth=None, min_samples_leaf=1, n_estimators=250, random_state=17; total time=   0.1s\n",
      "[CV] END max_depth=None, min_samples_leaf=2, n_estimators=100, random_state=17; total time=   0.0s\n",
      "[CV] END max_depth=None, min_samples_leaf=2, n_estimators=100, random_state=17; total time=   0.0s\n",
      "[CV] END max_depth=None, min_samples_leaf=2, n_estimators=100, random_state=17; total time=   0.0s\n",
      "[CV] END max_depth=None, min_samples_leaf=2, n_estimators=150, random_state=17; total time=   0.0s\n",
      "[CV] END max_depth=None, min_samples_leaf=2, n_estimators=150, random_state=17; total time=   0.0s\n",
      "[CV] END max_depth=None, min_samples_leaf=2, n_estimators=150, random_state=17; total time=   0.0s\n",
      "[CV] END max_depth=None, min_samples_leaf=2, n_estimators=200, random_state=17; total time=   0.1s\n",
      "[CV] END max_depth=None, min_samples_leaf=2, n_estimators=200, random_state=17; total time=   0.1s\n",
      "[CV] END max_depth=None, min_samples_leaf=2, n_estimators=200, random_state=17; total time=   0.1s\n",
      "[CV] END max_depth=None, min_samples_leaf=2, n_estimators=250, random_state=17; total time=   0.1s\n",
      "[CV] END max_depth=None, min_samples_leaf=2, n_estimators=250, random_state=17; total time=   0.1s\n",
      "[CV] END max_depth=None, min_samples_leaf=2, n_estimators=250, random_state=17; total time=   0.1s\n",
      "[CV] END max_depth=None, min_samples_leaf=3, n_estimators=100, random_state=17; total time=   0.0s\n",
      "[CV] END max_depth=None, min_samples_leaf=3, n_estimators=100, random_state=17; total time=   0.0s\n",
      "[CV] END max_depth=None, min_samples_leaf=3, n_estimators=100, random_state=17; total time=   0.0s\n",
      "[CV] END max_depth=None, min_samples_leaf=3, n_estimators=150, random_state=17; total time=   0.0s\n",
      "[CV] END max_depth=None, min_samples_leaf=3, n_estimators=150, random_state=17; total time=   0.0s\n",
      "[CV] END max_depth=None, min_samples_leaf=3, n_estimators=150, random_state=17; total time=   0.0s\n",
      "[CV] END max_depth=None, min_samples_leaf=3, n_estimators=200, random_state=17; total time=   0.1s\n",
      "[CV] END max_depth=None, min_samples_leaf=3, n_estimators=200, random_state=17; total time=   0.1s\n",
      "[CV] END max_depth=None, min_samples_leaf=3, n_estimators=200, random_state=17; total time=   0.1s\n",
      "[CV] END max_depth=None, min_samples_leaf=3, n_estimators=250, random_state=17; total time=   0.1s\n",
      "[CV] END max_depth=None, min_samples_leaf=3, n_estimators=250, random_state=17; total time=   0.1s\n",
      "[CV] END max_depth=None, min_samples_leaf=3, n_estimators=250, random_state=17; total time=   0.1s\n",
      "[CV] END max_depth=None, min_samples_leaf=4, n_estimators=100, random_state=17; total time=   0.0s\n",
      "[CV] END max_depth=None, min_samples_leaf=4, n_estimators=100, random_state=17; total time=   0.0s\n",
      "[CV] END max_depth=None, min_samples_leaf=4, n_estimators=100, random_state=17; total time=   0.0s\n",
      "[CV] END max_depth=None, min_samples_leaf=4, n_estimators=150, random_state=17; total time=   0.0s\n",
      "[CV] END max_depth=None, min_samples_leaf=4, n_estimators=150, random_state=17; total time=   0.0s\n",
      "[CV] END max_depth=None, min_samples_leaf=4, n_estimators=150, random_state=17; total time=   0.0s\n",
      "[CV] END max_depth=None, min_samples_leaf=4, n_estimators=200, random_state=17; total time=   0.1s\n",
      "[CV] END max_depth=None, min_samples_leaf=4, n_estimators=200, random_state=17; total time=   0.1s\n"
     ]
    },
    {
     "name": "stdout",
     "output_type": "stream",
     "text": [
      "[CV] END max_depth=None, min_samples_leaf=4, n_estimators=200, random_state=17; total time=   0.1s\n",
      "[CV] END max_depth=None, min_samples_leaf=4, n_estimators=250, random_state=17; total time=   0.1s\n",
      "[CV] END max_depth=None, min_samples_leaf=4, n_estimators=250, random_state=17; total time=   0.1s\n",
      "[CV] END max_depth=None, min_samples_leaf=4, n_estimators=250, random_state=17; total time=   0.1s\n",
      "[CV] END max_depth=None, min_samples_leaf=5, n_estimators=100, random_state=17; total time=   0.0s\n",
      "[CV] END max_depth=None, min_samples_leaf=5, n_estimators=100, random_state=17; total time=   0.0s\n",
      "[CV] END max_depth=None, min_samples_leaf=5, n_estimators=100, random_state=17; total time=   0.0s\n",
      "[CV] END max_depth=None, min_samples_leaf=5, n_estimators=150, random_state=17; total time=   0.0s\n",
      "[CV] END max_depth=None, min_samples_leaf=5, n_estimators=150, random_state=17; total time=   0.0s\n",
      "[CV] END max_depth=None, min_samples_leaf=5, n_estimators=150, random_state=17; total time=   0.0s\n",
      "[CV] END max_depth=None, min_samples_leaf=5, n_estimators=200, random_state=17; total time=   0.1s\n",
      "[CV] END max_depth=None, min_samples_leaf=5, n_estimators=200, random_state=17; total time=   0.1s\n",
      "[CV] END max_depth=None, min_samples_leaf=5, n_estimators=200, random_state=17; total time=   0.1s\n",
      "[CV] END max_depth=None, min_samples_leaf=5, n_estimators=250, random_state=17; total time=   0.2s\n",
      "[CV] END max_depth=None, min_samples_leaf=5, n_estimators=250, random_state=17; total time=   0.1s\n",
      "[CV] END max_depth=None, min_samples_leaf=5, n_estimators=250, random_state=17; total time=   0.1s\n"
     ]
    },
    {
     "data": {
      "text/plain": [
       "GridSearchCV(cv=3,\n",
       "             estimator=RandomForestClassifier(n_estimators=250,\n",
       "                                              random_state=17),\n",
       "             param_grid={'max_depth': [1, 2, 3, 4, 5, None],\n",
       "                         'min_samples_leaf': [1, 2, 3, 4, 5],\n",
       "                         'n_estimators': [100, 150, 200, 250],\n",
       "                         'random_state': [17]},\n",
       "             verbose=2)"
      ]
     },
     "execution_count": 99,
     "metadata": {},
     "output_type": "execute_result"
    }
   ],
   "source": [
    "gs.fit(X_train, y_train)"
   ]
  },
  {
   "cell_type": "code",
   "execution_count": 102,
   "id": "c9958bfa",
   "metadata": {},
   "outputs": [
    {
     "data": {
      "text/plain": [
       "0.7407700421940927"
      ]
     },
     "execution_count": 102,
     "metadata": {},
     "output_type": "execute_result"
    }
   ],
   "source": [
    "gs.best_score_"
   ]
  },
  {
   "cell_type": "code",
   "execution_count": 103,
   "id": "a176c9b8",
   "metadata": {},
   "outputs": [
    {
     "data": {
      "text/plain": [
       "{'max_depth': None,\n",
       " 'min_samples_leaf': 1,\n",
       " 'n_estimators': 250,\n",
       " 'random_state': 17}"
      ]
     },
     "execution_count": 103,
     "metadata": {},
     "output_type": "execute_result"
    }
   ],
   "source": [
    "gs.best_params_"
   ]
  },
  {
   "cell_type": "code",
   "execution_count": 104,
   "id": "e3c1c634",
   "metadata": {},
   "outputs": [
    {
     "data": {
      "text/plain": [
       "RandomForestClassifier(n_estimators=250, random_state=17)"
      ]
     },
     "execution_count": 104,
     "metadata": {},
     "output_type": "execute_result"
    }
   ],
   "source": [
    "rf = RandomForestClassifier(max_depth = None, min_samples_leaf = 1, n_estimators = 250, random_state=17)\n",
    "rf.fit(X_train, y_train)"
   ]
  },
  {
   "cell_type": "code",
   "execution_count": 105,
   "id": "f3d8bd0b",
   "metadata": {},
   "outputs": [
    {
     "name": "stdout",
     "output_type": "stream",
     "text": [
      "train accuracy: 0.9498327759197325\n",
      "train accuracy: 1.0\n",
      "test accuracy: 0.75\n"
     ]
    }
   ],
   "source": [
    "print('train accuracy:', rf.score(X, Y))\n",
    "print('train accuracy:', rf.score(X_train, y_train))\n",
    "print('test accuracy:', rf.score(X_test, y_test))"
   ]
  },
  {
   "cell_type": "code",
   "execution_count": 106,
   "id": "4550584b",
   "metadata": {},
   "outputs": [
    {
     "data": {
      "text/plain": [
       "array([0.05824019, 0.09529999, 0.05233227, 0.11138753, 0.10184954,\n",
       "       0.09737968, 0.0037437 , 0.        , 0.0195431 , 0.01714431,\n",
       "       0.0073281 , 0.00702639, 0.00721323, 0.01822314, 0.01162793,\n",
       "       0.00514483, 0.00411467, 0.00274997, 0.02253892, 0.01862661,\n",
       "       0.00548848, 0.0174285 , 0.00950631, 0.01611121, 0.01326063,\n",
       "       0.01003999, 0.0005074 , 0.01831778, 0.0214983 , 0.00386194,\n",
       "       0.00998886, 0.01451083, 0.02142272, 0.01777713, 0.01698575,\n",
       "       0.00388622, 0.0118753 , 0.00373518, 0.01319772, 0.01460394,\n",
       "       0.01107186, 0.01063351, 0.02217444, 0.02065958, 0.01596548,\n",
       "       0.01397686, 0.        ])"
      ]
     },
     "execution_count": 106,
     "metadata": {},
     "output_type": "execute_result"
    }
   ],
   "source": [
    "rf.feature_importances_"
   ]
  },
  {
   "cell_type": "code",
   "execution_count": 107,
   "id": "cfb10e29",
   "metadata": {},
   "outputs": [
    {
     "data": {
      "text/plain": [
       "Index(['rectal_temp', 'pulse', 'respiratory_rate', 'packed_cell_volume',\n",
       "       'total_protein', 'lesion_1', 'lesion_2', 'lesion_3', 'surgery_no',\n",
       "       'surgery_yes', 'age_adult', 'age_young', 'temp_of_extremities_cold',\n",
       "       'temp_of_extremities_cool', 'temp_of_extremities_normal',\n",
       "       'temp_of_extremities_warm', 'peripheral_pulse_absent',\n",
       "       'peripheral_pulse_increased', 'peripheral_pulse_normal',\n",
       "       'peripheral_pulse_reduced', 'mucous_membrane_bright_pink',\n",
       "       'mucous_membrane_bright_red', 'mucous_membrane_dark_cyanotic',\n",
       "       'mucous_membrane_normal_pink', 'mucous_membrane_pale_cyanotic',\n",
       "       'mucous_membrane_pale_pink', 'capillary_refill_time_3',\n",
       "       'capillary_refill_time_less_3_sec', 'capillary_refill_time_more_3_sec',\n",
       "       'pain_alert', 'pain_depressed', 'pain_extreme_pain', 'pain_mild_pain',\n",
       "       'pain_severe_pain', 'peristalsis_absent', 'peristalsis_hypermotile',\n",
       "       'peristalsis_hypomotile', 'peristalsis_normal',\n",
       "       'abdominal_distention_moderate', 'abdominal_distention_none',\n",
       "       'abdominal_distention_severe', 'abdominal_distention_slight',\n",
       "       'surgical_lesion_no', 'surgical_lesion_yes', 'cp_data_no',\n",
       "       'cp_data_yes', 'temp_col_name_abdominal_distention'],\n",
       "      dtype='object')"
      ]
     },
     "execution_count": 107,
     "metadata": {},
     "output_type": "execute_result"
    }
   ],
   "source": [
    "X.columns"
   ]
  },
  {
   "cell_type": "code",
   "execution_count": 108,
   "id": "30b62622",
   "metadata": {},
   "outputs": [
    {
     "name": "stderr",
     "output_type": "stream",
     "text": [
      "C:\\Users\\SAIRAM\\anaconda3\\lib\\site-packages\\seaborn\\_decorators.py:36: FutureWarning: Pass the following variables as keyword args: x, y. From version 0.12, the only valid positional argument will be `data`, and passing other arguments without an explicit keyword will result in an error or misinterpretation.\n",
      "  warnings.warn(\n"
     ]
    },
    {
     "data": {
      "image/png": "[encoded data removed]",
      "text/plain": [
       "<Figure size 1152x1152 with 1 Axes>"
      ]
     },
     "metadata": {
      "needs_background": "light"
     },
     "output_type": "display_data"
    }
   ],
   "source": [
    "plt.figure(figsize=(16,16))\n",
    "sns.barplot(rf.feature_importances_ ,X.columns)\n",
    "plt.show()"
   ]
  },
  {
   "cell_type": "markdown",
   "id": "f20c70be",
   "metadata": {},
   "source": [
    "## K-Nearest Neighbors classifier"
   ]
  },
  {
   "cell_type": "code",
   "execution_count": 82,
   "id": "06f41fa1",
   "metadata": {},
   "outputs": [],
   "source": [
    "from sklearn.neighbors import KNeighborsClassifier"
   ]
  },
  {
   "cell_type": "code",
   "execution_count": 83,
   "id": "1302addc",
   "metadata": {},
   "outputs": [],
   "source": [
    "knn = KNeighborsClassifier()"
   ]
  },
  {
   "cell_type": "code",
   "execution_count": 84,
   "id": "f903de1f",
   "metadata": {},
   "outputs": [
    {
     "data": {
      "text/plain": [
       "KNeighborsClassifier()"
      ]
     },
     "execution_count": 84,
     "metadata": {},
     "output_type": "execute_result"
    }
   ],
   "source": [
    "knn.fit(X_train, y_train)"
   ]
  },
  {
   "cell_type": "code",
   "execution_count": 85,
   "id": "7b44dded",
   "metadata": {},
   "outputs": [
    {
     "data": {
      "text/plain": [
       "0.7489539748953975"
      ]
     },
     "execution_count": 85,
     "metadata": {},
     "output_type": "execute_result"
    }
   ],
   "source": [
    "knn.score(X_train, y_train)"
   ]
  },
  {
   "cell_type": "code",
   "execution_count": 86,
   "id": "f5d16188",
   "metadata": {},
   "outputs": [
    {
     "data": {
      "text/plain": [
       "0.6"
      ]
     },
     "execution_count": 86,
     "metadata": {},
     "output_type": "execute_result"
    }
   ],
   "source": [
    "knn.score(X_test, y_test)"
   ]
  },
  {
   "cell_type": "code",
   "execution_count": 109,
   "id": "eba9909b",
   "metadata": {},
   "outputs": [
    {
     "name": "stdout",
     "output_type": "stream",
     "text": [
      "[2, 3, 4, 5, 6, 7, 8, 9, 10, 11, 12, 13, 14, 15, 16, 17, 18, 19]\n"
     ]
    }
   ],
   "source": [
    "neighbors = [i for i in range(2,20)]\n",
    "print(neighbors)\n",
    "accuracies = []"
   ]
  },
  {
   "cell_type": "code",
   "execution_count": 110,
   "id": "3b2bc8d6",
   "metadata": {},
   "outputs": [],
   "source": [
    "for k in neighbors:\n",
    "    knn = KNeighborsClassifier(n_neighbors=k)\n",
    "    knn.fit(X_train, y_train)\n",
    "    accuracies.append(knn.score(X_test, y_test))\n",
    "    "
   ]
  },
  {
   "cell_type": "code",
   "execution_count": 112,
   "id": "be9da6cc",
   "metadata": {},
   "outputs": [
    {
     "name": "stderr",
     "output_type": "stream",
     "text": [
      "C:\\Users\\SAIRAM\\anaconda3\\lib\\site-packages\\seaborn\\_decorators.py:36: FutureWarning: Pass the following variables as keyword args: x, y. From version 0.12, the only valid positional argument will be `data`, and passing other arguments without an explicit keyword will result in an error or misinterpretation.\n",
      "  warnings.warn(\n"
     ]
    },
    {
     "data": {
      "text/plain": [
       "<AxesSubplot:>"
      ]
     },
     "execution_count": 112,
     "metadata": {},
     "output_type": "execute_result"
    },
    {
     "data": {
      "image/png": "[encoded data removed]",
      "text/plain": [
       "<Figure size 432x288 with 1 Axes>"
      ]
     },
     "metadata": {
      "needs_background": "light"
     },
     "output_type": "display_data"
    }
   ],
   "source": [
    "sns.barplot(neighbors, accuracies)"
   ]
  },
  {
   "cell_type": "markdown",
   "id": "3933dce4",
   "metadata": {},
   "source": [
    "## K = 3 ==> Gives higher test accuracy"
   ]
  },
  {
   "cell_type": "code",
   "execution_count": 113,
   "id": "e7da2836",
   "metadata": {},
   "outputs": [
    {
     "name": "stdout",
     "output_type": "stream",
     "text": [
      "Train accuracy: 0.8075313807531381\n",
      "Test accuracy : 0.75\n"
     ]
    }
   ],
   "source": [
    "knn = KNeighborsClassifier(n_neighbors=3)\n",
    "knn.fit(X_train, y_train)\n",
    "print('Train accuracy:', knn.score(X_train, y_train))\n",
    "print('Test accuracy :', knn.score(X_test, y_test))"
   ]
  },
  {
   "cell_type": "markdown",
   "id": "6b676b80",
   "metadata": {},
   "source": [
    "## SVM"
   ]
  },
  {
   "cell_type": "code",
   "execution_count": 115,
   "id": "0c846fb3",
   "metadata": {},
   "outputs": [],
   "source": [
    "from sklearn.svm import SVC"
   ]
  },
  {
   "cell_type": "code",
   "execution_count": 116,
   "id": "2f90b2c7",
   "metadata": {},
   "outputs": [],
   "source": [
    "clf = SVC()"
   ]
  },
  {
   "cell_type": "code",
   "execution_count": 117,
   "id": "bd686d4b",
   "metadata": {},
   "outputs": [
    {
     "data": {
      "text/plain": [
       "SVC()"
      ]
     },
     "execution_count": 117,
     "metadata": {},
     "output_type": "execute_result"
    }
   ],
   "source": [
    "clf.fit(X_train, y_train)"
   ]
  },
  {
   "cell_type": "code",
   "execution_count": 118,
   "id": "6152452f",
   "metadata": {},
   "outputs": [
    {
     "data": {
      "text/plain": [
       "0.5815899581589958"
      ]
     },
     "execution_count": 118,
     "metadata": {},
     "output_type": "execute_result"
    }
   ],
   "source": [
    "clf.score(X_train, y_train)"
   ]
  },
  {
   "cell_type": "code",
   "execution_count": 119,
   "id": "099b418c",
   "metadata": {},
   "outputs": [
    {
     "data": {
      "text/plain": [
       "0.65"
      ]
     },
     "execution_count": 119,
     "metadata": {},
     "output_type": "execute_result"
    }
   ],
   "source": [
    "clf.score(X_test, y_test)"
   ]
  },
  {
   "cell_type": "code",
   "execution_count": 121,
   "id": "51b1666d",
   "metadata": {},
   "outputs": [],
   "source": [
    "param_grid = {\n",
    "    \n",
    "    'C' : [0.01, 0.1, 1, 5, 10],\n",
    "    'gamma' : [0.0001, 0.00001, 0.000001, 0.0000001]\n",
    "    \n",
    "}"
   ]
  },
  {
   "cell_type": "code",
   "execution_count": 122,
   "id": "f5ec2b78",
   "metadata": {},
   "outputs": [],
   "source": [
    "gs = GridSearchCV(clf, param_grid, verbose=2, cv=3)"
   ]
  },
  {
   "cell_type": "code",
   "execution_count": 123,
   "id": "7cd8eb89",
   "metadata": {},
   "outputs": [
    {
     "name": "stdout",
     "output_type": "stream",
     "text": [
      "Fitting 3 folds for each of 20 candidates, totalling 60 fits\n",
      "[CV] END ...............................C=0.01, gamma=0.0001; total time=   0.0s\n",
      "[CV] END ...............................C=0.01, gamma=0.0001; total time=   0.0s\n",
      "[CV] END ...............................C=0.01, gamma=0.0001; total time=   0.0s\n",
      "[CV] END ................................C=0.01, gamma=1e-05; total time=   0.0s\n",
      "[CV] END ................................C=0.01, gamma=1e-05; total time=   0.0s\n",
      "[CV] END ................................C=0.01, gamma=1e-05; total time=   0.0s\n",
      "[CV] END ................................C=0.01, gamma=1e-06; total time=   0.0s\n",
      "[CV] END ................................C=0.01, gamma=1e-06; total time=   0.0s\n",
      "[CV] END ................................C=0.01, gamma=1e-06; total time=   0.0s\n",
      "[CV] END ................................C=0.01, gamma=1e-07; total time=   0.0s\n",
      "[CV] END ................................C=0.01, gamma=1e-07; total time=   0.0s\n",
      "[CV] END ................................C=0.01, gamma=1e-07; total time=   0.0s\n",
      "[CV] END ................................C=0.1, gamma=0.0001; total time=   0.0s\n",
      "[CV] END ................................C=0.1, gamma=0.0001; total time=   0.0s\n",
      "[CV] END ................................C=0.1, gamma=0.0001; total time=   0.0s\n",
      "[CV] END .................................C=0.1, gamma=1e-05; total time=   0.0s\n",
      "[CV] END .................................C=0.1, gamma=1e-05; total time=   0.0s\n",
      "[CV] END .................................C=0.1, gamma=1e-05; total time=   0.0s\n",
      "[CV] END .................................C=0.1, gamma=1e-06; total time=   0.0s\n",
      "[CV] END .................................C=0.1, gamma=1e-06; total time=   0.0s\n",
      "[CV] END .................................C=0.1, gamma=1e-06; total time=   0.0s\n",
      "[CV] END .................................C=0.1, gamma=1e-07; total time=   0.0s\n",
      "[CV] END .................................C=0.1, gamma=1e-07; total time=   0.0s\n",
      "[CV] END .................................C=0.1, gamma=1e-07; total time=   0.0s\n",
      "[CV] END ..................................C=1, gamma=0.0001; total time=   0.0s\n",
      "[CV] END ..................................C=1, gamma=0.0001; total time=   0.0s\n",
      "[CV] END ..................................C=1, gamma=0.0001; total time=   0.0s\n",
      "[CV] END ...................................C=1, gamma=1e-05; total time=   0.0s\n",
      "[CV] END ...................................C=1, gamma=1e-05; total time=   0.0s\n",
      "[CV] END ...................................C=1, gamma=1e-05; total time=   0.0s\n",
      "[CV] END ...................................C=1, gamma=1e-06; total time=   0.0s\n",
      "[CV] END ...................................C=1, gamma=1e-06; total time=   0.0s\n",
      "[CV] END ...................................C=1, gamma=1e-06; total time=   0.0s\n",
      "[CV] END ...................................C=1, gamma=1e-07; total time=   0.0s\n",
      "[CV] END ...................................C=1, gamma=1e-07; total time=   0.0s\n",
      "[CV] END ...................................C=1, gamma=1e-07; total time=   0.0s\n",
      "[CV] END ..................................C=5, gamma=0.0001; total time=   0.0s\n",
      "[CV] END ..................................C=5, gamma=0.0001; total time=   0.0s\n",
      "[CV] END ..................................C=5, gamma=0.0001; total time=   0.0s\n",
      "[CV] END ...................................C=5, gamma=1e-05; total time=   0.0s\n",
      "[CV] END ...................................C=5, gamma=1e-05; total time=   0.0s\n",
      "[CV] END ...................................C=5, gamma=1e-05; total time=   0.0s\n",
      "[CV] END ...................................C=5, gamma=1e-06; total time=   0.0s\n",
      "[CV] END ...................................C=5, gamma=1e-06; total time=   0.0s\n",
      "[CV] END ...................................C=5, gamma=1e-06; total time=   0.0s\n",
      "[CV] END ...................................C=5, gamma=1e-07; total time=   0.0s\n",
      "[CV] END ...................................C=5, gamma=1e-07; total time=   0.0s\n",
      "[CV] END ...................................C=5, gamma=1e-07; total time=   0.0s\n",
      "[CV] END .................................C=10, gamma=0.0001; total time=   0.0s\n",
      "[CV] END .................................C=10, gamma=0.0001; total time=   0.0s\n",
      "[CV] END .................................C=10, gamma=0.0001; total time=   0.0s\n",
      "[CV] END ..................................C=10, gamma=1e-05; total time=   0.0s\n",
      "[CV] END ..................................C=10, gamma=1e-05; total time=   0.0s\n",
      "[CV] END ..................................C=10, gamma=1e-05; total time=   0.0s\n",
      "[CV] END ..................................C=10, gamma=1e-06; total time=   0.0s\n",
      "[CV] END ..................................C=10, gamma=1e-06; total time=   0.0s\n",
      "[CV] END ..................................C=10, gamma=1e-06; total time=   0.0s\n",
      "[CV] END ..................................C=10, gamma=1e-07; total time=   0.0s\n",
      "[CV] END ..................................C=10, gamma=1e-07; total time=   0.0s\n",
      "[CV] END ..................................C=10, gamma=1e-07; total time=   0.0s\n"
     ]
    },
    {
     "data": {
      "text/plain": [
       "GridSearchCV(cv=3, estimator=SVC(),\n",
       "             param_grid={'C': [0.01, 0.1, 1, 5, 10],\n",
       "                         'gamma': [0.0001, 1e-05, 1e-06, 1e-07]},\n",
       "             verbose=2)"
      ]
     },
     "execution_count": 123,
     "metadata": {},
     "output_type": "execute_result"
    }
   ],
   "source": [
    "gs.fit(X_train, y_train)"
   ]
  },
  {
   "cell_type": "code",
   "execution_count": 124,
   "id": "5af09477",
   "metadata": {},
   "outputs": [
    {
     "data": {
      "text/plain": [
       "{'C': 10, 'gamma': 1e-05}"
      ]
     },
     "execution_count": 124,
     "metadata": {},
     "output_type": "execute_result"
    }
   ],
   "source": [
    "gs.best_params_"
   ]
  },
  {
   "cell_type": "code",
   "execution_count": 125,
   "id": "1872ada7",
   "metadata": {},
   "outputs": [
    {
     "data": {
      "text/plain": [
       "0.6815928270042194"
      ]
     },
     "execution_count": 125,
     "metadata": {},
     "output_type": "execute_result"
    }
   ],
   "source": [
    "gs.best_score_"
   ]
  },
  {
   "cell_type": "markdown",
   "id": "61717ce1",
   "metadata": {},
   "source": [
    "## Naive Bayes"
   ]
  },
  {
   "cell_type": "code",
   "execution_count": 126,
   "id": "880b00f0",
   "metadata": {},
   "outputs": [],
   "source": [
    "from sklearn.naive_bayes import GaussianNB"
   ]
  },
  {
   "cell_type": "code",
   "execution_count": 127,
   "id": "cf66ca4e",
   "metadata": {},
   "outputs": [],
   "source": [
    "nb = GaussianNB()"
   ]
  },
  {
   "cell_type": "code",
   "execution_count": 128,
   "id": "e32970a5",
   "metadata": {},
   "outputs": [
    {
     "data": {
      "text/plain": [
       "GaussianNB()"
      ]
     },
     "execution_count": 128,
     "metadata": {},
     "output_type": "execute_result"
    }
   ],
   "source": [
    "nb.fit(X_train, y_train)"
   ]
  },
  {
   "cell_type": "code",
   "execution_count": 129,
   "id": "4640af45",
   "metadata": {},
   "outputs": [
    {
     "data": {
      "text/plain": [
       "0.6778242677824268"
      ]
     },
     "execution_count": 129,
     "metadata": {},
     "output_type": "execute_result"
    }
   ],
   "source": [
    "nb.score(X_train, y_train)"
   ]
  },
  {
   "cell_type": "code",
   "execution_count": 130,
   "id": "ae7f0e43",
   "metadata": {},
   "outputs": [
    {
     "data": {
      "text/plain": [
       "0.65"
      ]
     },
     "execution_count": 130,
     "metadata": {},
     "output_type": "execute_result"
    }
   ],
   "source": [
    "nb.score(X_test, y_test)"
   ]
  },
  {
   "cell_type": "markdown",
   "id": "720f744d",
   "metadata": {},
   "source": [
    "Gaussian is for continous inputs - but just tested out here <br>\n",
    "Bernoulli NB is for Binary classification (but inputs can be of mix of categorical and continous features)\n"
   ]
  },
  {
   "cell_type": "markdown",
   "id": "0e616b83",
   "metadata": {},
   "source": [
    "## Ensemble Learning"
   ]
  },
  {
   "cell_type": "code",
   "execution_count": 132,
   "id": "e8bb42d6",
   "metadata": {},
   "outputs": [],
   "source": [
    "from sklearn.ensemble import AdaBoostClassifier\n",
    "from sklearn import model_selection"
   ]
  },
  {
   "cell_type": "code",
   "execution_count": 133,
   "id": "ecdc6080",
   "metadata": {},
   "outputs": [
    {
     "data": {
      "text/plain": [
       "AdaBoostClassifier(random_state=17)"
      ]
     },
     "execution_count": 133,
     "metadata": {},
     "output_type": "execute_result"
    }
   ],
   "source": [
    "adaclf = AdaBoostClassifier(random_state=17)\n",
    "adaclf.fit(X_train, y_train)"
   ]
  },
  {
   "cell_type": "code",
   "execution_count": 136,
   "id": "35945fc4",
   "metadata": {},
   "outputs": [
    {
     "name": "stdout",
     "output_type": "stream",
     "text": [
      "Train accuracy is 0.7573221757322176\n",
      "Test  accuracy is 0.7166666666666667\n"
     ]
    }
   ],
   "source": [
    "print('Train accuracy is {}'.format(adaclf.score(X_train, y_train)))\n",
    "print('Test  accuracy is {}'.format(adaclf.score(X_test, y_test)))"
   ]
  },
  {
   "cell_type": "code",
   "execution_count": 141,
   "id": "3b325de2",
   "metadata": {},
   "outputs": [],
   "source": [
    "kfold = model_selection.KFold(n_splits=10, shuffle=True, random_state=17)"
   ]
  },
  {
   "cell_type": "code",
   "execution_count": 142,
   "id": "8a3dc51d",
   "metadata": {},
   "outputs": [],
   "source": [
    "adaclf = AdaBoostClassifier(random_state=17)\n",
    "results = model_selection.cross_val_score(adaclf, X, Y, cv=kfold)"
   ]
  },
  {
   "cell_type": "code",
   "execution_count": 145,
   "id": "7885cdb6",
   "metadata": {},
   "outputs": [
    {
     "name": "stdout",
     "output_type": "stream",
     "text": [
      "Average test score for k folds is 0.655287356321839\n"
     ]
    }
   ],
   "source": [
    "print('Average test score for k folds is {}'.format(results.mean()))"
   ]
  },
  {
   "cell_type": "code",
   "execution_count": 151,
   "id": "fa790b52",
   "metadata": {},
   "outputs": [],
   "source": [
    "from xgboost import XGBClassifier\n",
    "from sklearn import model_selection"
   ]
  },
  {
   "cell_type": "code",
   "execution_count": 153,
   "id": "999366e8",
   "metadata": {},
   "outputs": [
    {
     "name": "stderr",
     "output_type": "stream",
     "text": [
      "C:\\Users\\SAIRAM\\anaconda3\\lib\\site-packages\\xgboost\\sklearn.py:1224: UserWarning: The use of label encoder in XGBClassifier is deprecated and will be removed in a future release. To remove this warning, do the following: 1) Pass option use_label_encoder=False when constructing XGBClassifier object; and 2) Encode your labels (y) as integers starting with 0, i.e. 0, 1, 2, ..., [num_class - 1].\n",
      "  warnings.warn(label_encoder_deprecation_msg, UserWarning)\n"
     ]
    },
    {
     "name": "stdout",
     "output_type": "stream",
     "text": [
      "[05:38:35] WARNING: D:\\bld\\xgboost-split_1637426510059\\work\\src\\learner.cc:1115: Starting in XGBoost 1.3.0, the default evaluation metric used with the objective 'multi:softprob' was changed from 'merror' to 'mlogloss'. Explicitly set eval_metric if you'd like to restore the old behavior.\n",
      "Train accuracy is 1.0\n",
      "Test  accuracy is 0.7166666666666667\n"
     ]
    }
   ],
   "source": [
    "xgbclf = XGBClassifier()\n",
    "xgbclf.fit(X_train, y_train)\n",
    "print('Train accuracy is {}'.format(xgbclf.score(X_train, y_train)))\n",
    "print('Test  accuracy is {}'.format(xgbclf.score(X_test, y_test)))"
   ]
  },
  {
   "cell_type": "code",
   "execution_count": 154,
   "id": "0107f5d8",
   "metadata": {},
   "outputs": [
    {
     "name": "stderr",
     "output_type": "stream",
     "text": [
      "C:\\Users\\SAIRAM\\anaconda3\\lib\\site-packages\\xgboost\\sklearn.py:1224: UserWarning: The use of label encoder in XGBClassifier is deprecated and will be removed in a future release. To remove this warning, do the following: 1) Pass option use_label_encoder=False when constructing XGBClassifier object; and 2) Encode your labels (y) as integers starting with 0, i.e. 0, 1, 2, ..., [num_class - 1].\n",
      "  warnings.warn(label_encoder_deprecation_msg, UserWarning)\n"
     ]
    },
    {
     "name": "stdout",
     "output_type": "stream",
     "text": [
      "[05:40:05] WARNING: D:\\bld\\xgboost-split_1637426510059\\work\\src\\learner.cc:1115: Starting in XGBoost 1.3.0, the default evaluation metric used with the objective 'multi:softprob' was changed from 'merror' to 'mlogloss'. Explicitly set eval_metric if you'd like to restore the old behavior.\n"
     ]
    },
    {
     "name": "stderr",
     "output_type": "stream",
     "text": [
      "C:\\Users\\SAIRAM\\anaconda3\\lib\\site-packages\\xgboost\\sklearn.py:1224: UserWarning: The use of label encoder in XGBClassifier is deprecated and will be removed in a future release. To remove this warning, do the following: 1) Pass option use_label_encoder=False when constructing XGBClassifier object; and 2) Encode your labels (y) as integers starting with 0, i.e. 0, 1, 2, ..., [num_class - 1].\n",
      "  warnings.warn(label_encoder_deprecation_msg, UserWarning)\n",
      "C:\\Users\\SAIRAM\\anaconda3\\lib\\site-packages\\xgboost\\sklearn.py:1224: UserWarning: The use of label encoder in XGBClassifier is deprecated and will be removed in a future release. To remove this warning, do the following: 1) Pass option use_label_encoder=False when constructing XGBClassifier object; and 2) Encode your labels (y) as integers starting with 0, i.e. 0, 1, 2, ..., [num_class - 1].\n",
      "  warnings.warn(label_encoder_deprecation_msg, UserWarning)\n"
     ]
    },
    {
     "name": "stdout",
     "output_type": "stream",
     "text": [
      "[05:40:05] WARNING: D:\\bld\\xgboost-split_1637426510059\\work\\src\\learner.cc:1115: Starting in XGBoost 1.3.0, the default evaluation metric used with the objective 'multi:softprob' was changed from 'merror' to 'mlogloss'. Explicitly set eval_metric if you'd like to restore the old behavior.\n",
      "[05:40:05] WARNING: D:\\bld\\xgboost-split_1637426510059\\work\\src\\learner.cc:1115: Starting in XGBoost 1.3.0, the default evaluation metric used with the objective 'multi:softprob' was changed from 'merror' to 'mlogloss'. Explicitly set eval_metric if you'd like to restore the old behavior.\n"
     ]
    },
    {
     "name": "stderr",
     "output_type": "stream",
     "text": [
      "C:\\Users\\SAIRAM\\anaconda3\\lib\\site-packages\\xgboost\\sklearn.py:1224: UserWarning: The use of label encoder in XGBClassifier is deprecated and will be removed in a future release. To remove this warning, do the following: 1) Pass option use_label_encoder=False when constructing XGBClassifier object; and 2) Encode your labels (y) as integers starting with 0, i.e. 0, 1, 2, ..., [num_class - 1].\n",
      "  warnings.warn(label_encoder_deprecation_msg, UserWarning)\n",
      "C:\\Users\\SAIRAM\\anaconda3\\lib\\site-packages\\xgboost\\sklearn.py:1224: UserWarning: The use of label encoder in XGBClassifier is deprecated and will be removed in a future release. To remove this warning, do the following: 1) Pass option use_label_encoder=False when constructing XGBClassifier object; and 2) Encode your labels (y) as integers starting with 0, i.e. 0, 1, 2, ..., [num_class - 1].\n",
      "  warnings.warn(label_encoder_deprecation_msg, UserWarning)\n"
     ]
    },
    {
     "name": "stdout",
     "output_type": "stream",
     "text": [
      "[05:40:05] WARNING: D:\\bld\\xgboost-split_1637426510059\\work\\src\\learner.cc:1115: Starting in XGBoost 1.3.0, the default evaluation metric used with the objective 'multi:softprob' was changed from 'merror' to 'mlogloss'. Explicitly set eval_metric if you'd like to restore the old behavior.\n",
      "[05:40:06] WARNING: D:\\bld\\xgboost-split_1637426510059\\work\\src\\learner.cc:1115: Starting in XGBoost 1.3.0, the default evaluation metric used with the objective 'multi:softprob' was changed from 'merror' to 'mlogloss'. Explicitly set eval_metric if you'd like to restore the old behavior.\n"
     ]
    },
    {
     "name": "stderr",
     "output_type": "stream",
     "text": [
      "C:\\Users\\SAIRAM\\anaconda3\\lib\\site-packages\\xgboost\\sklearn.py:1224: UserWarning: The use of label encoder in XGBClassifier is deprecated and will be removed in a future release. To remove this warning, do the following: 1) Pass option use_label_encoder=False when constructing XGBClassifier object; and 2) Encode your labels (y) as integers starting with 0, i.e. 0, 1, 2, ..., [num_class - 1].\n",
      "  warnings.warn(label_encoder_deprecation_msg, UserWarning)\n",
      "C:\\Users\\SAIRAM\\anaconda3\\lib\\site-packages\\xgboost\\sklearn.py:1224: UserWarning: The use of label encoder in XGBClassifier is deprecated and will be removed in a future release. To remove this warning, do the following: 1) Pass option use_label_encoder=False when constructing XGBClassifier object; and 2) Encode your labels (y) as integers starting with 0, i.e. 0, 1, 2, ..., [num_class - 1].\n",
      "  warnings.warn(label_encoder_deprecation_msg, UserWarning)\n"
     ]
    },
    {
     "name": "stdout",
     "output_type": "stream",
     "text": [
      "[05:40:06] WARNING: D:\\bld\\xgboost-split_1637426510059\\work\\src\\learner.cc:1115: Starting in XGBoost 1.3.0, the default evaluation metric used with the objective 'multi:softprob' was changed from 'merror' to 'mlogloss'. Explicitly set eval_metric if you'd like to restore the old behavior.\n",
      "[05:40:06] WARNING: D:\\bld\\xgboost-split_1637426510059\\work\\src\\learner.cc:1115: Starting in XGBoost 1.3.0, the default evaluation metric used with the objective 'multi:softprob' was changed from 'merror' to 'mlogloss'. Explicitly set eval_metric if you'd like to restore the old behavior.\n"
     ]
    },
    {
     "name": "stderr",
     "output_type": "stream",
     "text": [
      "C:\\Users\\SAIRAM\\anaconda3\\lib\\site-packages\\xgboost\\sklearn.py:1224: UserWarning: The use of label encoder in XGBClassifier is deprecated and will be removed in a future release. To remove this warning, do the following: 1) Pass option use_label_encoder=False when constructing XGBClassifier object; and 2) Encode your labels (y) as integers starting with 0, i.e. 0, 1, 2, ..., [num_class - 1].\n",
      "  warnings.warn(label_encoder_deprecation_msg, UserWarning)\n",
      "C:\\Users\\SAIRAM\\anaconda3\\lib\\site-packages\\xgboost\\sklearn.py:1224: UserWarning: The use of label encoder in XGBClassifier is deprecated and will be removed in a future release. To remove this warning, do the following: 1) Pass option use_label_encoder=False when constructing XGBClassifier object; and 2) Encode your labels (y) as integers starting with 0, i.e. 0, 1, 2, ..., [num_class - 1].\n",
      "  warnings.warn(label_encoder_deprecation_msg, UserWarning)\n"
     ]
    },
    {
     "name": "stdout",
     "output_type": "stream",
     "text": [
      "[05:40:06] WARNING: D:\\bld\\xgboost-split_1637426510059\\work\\src\\learner.cc:1115: Starting in XGBoost 1.3.0, the default evaluation metric used with the objective 'multi:softprob' was changed from 'merror' to 'mlogloss'. Explicitly set eval_metric if you'd like to restore the old behavior.\n",
      "[05:40:06] WARNING: D:\\bld\\xgboost-split_1637426510059\\work\\src\\learner.cc:1115: Starting in XGBoost 1.3.0, the default evaluation metric used with the objective 'multi:softprob' was changed from 'merror' to 'mlogloss'. Explicitly set eval_metric if you'd like to restore the old behavior.\n",
      "[05:40:06] WARNING: D:\\bld\\xgboost-split_1637426510059\\work\\src\\learner.cc:1115: Starting in XGBoost 1.3.0, the default evaluation metric used with the objective 'multi:softprob' was changed from 'merror' to 'mlogloss'. Explicitly set eval_metric if you'd like to restore the old behavior.\n",
      "[0.8        0.8        0.66666667 0.83333333 0.6        0.73333333\n",
      " 0.7        0.6        0.73333333 0.62068966]\n",
      "0.708735632183908\n"
     ]
    },
    {
     "name": "stderr",
     "output_type": "stream",
     "text": [
      "C:\\Users\\SAIRAM\\anaconda3\\lib\\site-packages\\xgboost\\sklearn.py:1224: UserWarning: The use of label encoder in XGBClassifier is deprecated and will be removed in a future release. To remove this warning, do the following: 1) Pass option use_label_encoder=False when constructing XGBClassifier object; and 2) Encode your labels (y) as integers starting with 0, i.e. 0, 1, 2, ..., [num_class - 1].\n",
      "  warnings.warn(label_encoder_deprecation_msg, UserWarning)\n"
     ]
    }
   ],
   "source": [
    "kfold = model_selection.KFold(n_splits=10, random_state=17, shuffle=True)\n",
    "xgbclf = XGBClassifier()\n",
    "xgb_results = model_selection.cross_val_score(xgbclf, X, Y, cv=kfold)\n",
    "print(xgb_results)\n",
    "print(xgb_results.mean())"
   ]
  },
  {
   "cell_type": "markdown",
   "id": "1789150e",
   "metadata": {},
   "source": [
    "<b> XGBOOST = 70.8%  <br>\n",
    "adaboost = 65.5%  <br>\n",
    "Gaussian NB = 65% <br>\n",
    "SVM = 68.15% <br>\n",
    "KNN = 75%  <br>\n",
    "RF = 75% <br>\n",
    "Decision Tree = 66.1% </b>"
   ]
  },
  {
   "cell_type": "markdown",
   "id": "a5b696c9",
   "metadata": {},
   "source": [
    "## Save the final model ::: RF"
   ]
  },
  {
   "cell_type": "code",
   "execution_count": 158,
   "id": "325c1cc5",
   "metadata": {},
   "outputs": [],
   "source": [
    "from sklearn.ensemble import RandomForestClassifier\n",
    "from sklearn import model_selection\n",
    "rf = RandomForestClassifier()"
   ]
  },
  {
   "cell_type": "code",
   "execution_count": 159,
   "id": "2e152f94",
   "metadata": {},
   "outputs": [
    {
     "name": "stdout",
     "output_type": "stream",
     "text": [
      "0.712183908045977\n"
     ]
    }
   ],
   "source": [
    "kfold = model_selection.KFold(n_splits=10, shuffle=True, random_state=17)\n",
    "rf_results = model_selection.cross_val_score(rf, X, Y, cv=kfold)\n",
    "print(rf_results.mean())"
   ]
  },
  {
   "cell_type": "code",
   "execution_count": 170,
   "id": "8693558c",
   "metadata": {},
   "outputs": [
    {
     "data": {
      "text/plain": [
       "RandomForestClassifier()"
      ]
     },
     "execution_count": 170,
     "metadata": {},
     "output_type": "execute_result"
    }
   ],
   "source": [
    "rf.fit(X_train, y_train)"
   ]
  },
  {
   "cell_type": "code",
   "execution_count": 171,
   "id": "a95a86bd",
   "metadata": {},
   "outputs": [],
   "source": [
    "import pickle"
   ]
  },
  {
   "cell_type": "code",
   "execution_count": 172,
   "id": "4044dc5b",
   "metadata": {},
   "outputs": [],
   "source": [
    "#Save the final model\n",
    "with open('rf_classifier.pkl', 'wb') as f:\n",
    "    pickle.dump(rf, f)"
   ]
  },
  {
   "cell_type": "code",
   "execution_count": 173,
   "id": "2b242ae4",
   "metadata": {},
   "outputs": [],
   "source": [
    "#Load the saved model\n",
    "with open('rf_classifier.pkl', 'rb') as f:\n",
    "    saved_model = pickle.load(f)"
   ]
  },
  {
   "cell_type": "code",
   "execution_count": 175,
   "id": "8b24a122",
   "metadata": {},
   "outputs": [
    {
     "data": {
      "text/plain": [
       "0.7166666666666667"
      ]
     },
     "execution_count": 175,
     "metadata": {},
     "output_type": "execute_result"
    }
   ],
   "source": [
    "saved_model.score(X_test, y_test)"
   ]
  },
  {
   "cell_type": "code",
   "execution_count": null,
   "id": "3bae007a",
   "metadata": {},
   "outputs": [],
   "source": []
  }
 ],
 "metadata": {
  "kernelspec": {
   "display_name": "Python 3",
   "language": "python",
   "name": "python3"
  },
  "language_info": {
   "codemirror_mode": {
    "name": "ipython",
    "version": 3
   },
   "file_extension": ".py",
   "mimetype": "text/x-python",
   "name": "python",
   "nbconvert_exporter": "python",
   "pygments_lexer": "ipython3",
   "version": "3.8.8"
  }
 },
 "nbformat": 4,
 "nbformat_minor": 5
}
